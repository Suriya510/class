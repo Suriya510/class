{
  "nbformat": 4,
  "nbformat_minor": 0,
  "metadata": {
    "colab": {
      "provenance": []
    },
    "kernelspec": {
      "name": "python3",
      "display_name": "Python 3"
    },
    "language_info": {
      "name": "python"
    }
  },
  "cells": [
    {
      "cell_type": "code",
      "execution_count": null,
      "metadata": {
        "id": "9CZ_FDLVDPKY"
      },
      "outputs": [],
      "source": [
        "#polymarphism"
      ]
    },
    {
      "cell_type": "code",
      "source": [
        "#one sigle object behave like diffferent based on the situation"
      ],
      "metadata": {
        "id": "5VYGgvFsI7_L"
      },
      "execution_count": null,
      "outputs": []
    },
    {
      "cell_type": "code",
      "source": [
        "def test(a,b):\n",
        "  return a+b"
      ],
      "metadata": {
        "id": "n82likQKJiaP"
      },
      "execution_count": null,
      "outputs": []
    },
    {
      "cell_type": "code",
      "source": [
        "test(3,4)"
      ],
      "metadata": {
        "colab": {
          "base_uri": "https://localhost:8080/"
        },
        "id": "c8ZBe2HZJmql",
        "outputId": "93f9b593-a0c2-475f-def5-1688c905c9cf"
      },
      "execution_count": null,
      "outputs": [
        {
          "output_type": "execute_result",
          "data": {
            "text/plain": [
              "7"
            ]
          },
          "metadata": {},
          "execution_count": 4
        }
      ]
    },
    {
      "cell_type": "code",
      "source": [
        "test(\"sudh\",\"kumar\")"
      ],
      "metadata": {
        "colab": {
          "base_uri": "https://localhost:8080/",
          "height": 35
        },
        "id": "N5R7PhQqJofr",
        "outputId": "ccdc8726-61fc-46ca-d5af-54d594803f87"
      },
      "execution_count": null,
      "outputs": [
        {
          "output_type": "execute_result",
          "data": {
            "text/plain": [
              "'sudhkumar'"
            ],
            "application/vnd.google.colaboratory.intrinsic+json": {
              "type": "string"
            }
          },
          "metadata": {},
          "execution_count": 5
        }
      ]
    },
    {
      "cell_type": "code",
      "source": [
        "#method is same based on the data different output(addition and concardination)"
      ],
      "metadata": {
        "id": "WnUX0nSfJrgl"
      },
      "execution_count": null,
      "outputs": []
    },
    {
      "cell_type": "code",
      "source": [
        "class insta:\n",
        "  def share_stories(self):\n",
        "    print(\"this will share my insta stories\")\n",
        "\n",
        "class facebook:\n",
        "  def share_stories(self):\n",
        "    print(\"this will share my facebook stories\")  "
      ],
      "metadata": {
        "id": "HmS5L6nTJz4n"
      },
      "execution_count": null,
      "outputs": []
    },
    {
      "cell_type": "code",
      "source": [
        "def sharestoies(app):\n",
        "  app.share_stories()"
      ],
      "metadata": {
        "id": "z7h4tZIXKIMo"
      },
      "execution_count": null,
      "outputs": []
    },
    {
      "cell_type": "code",
      "source": [
        "i=insta()\n",
        "f=facebook()"
      ],
      "metadata": {
        "id": "DkIHgOL_KPgD"
      },
      "execution_count": null,
      "outputs": []
    },
    {
      "cell_type": "code",
      "source": [
        "sharestoies(i)"
      ],
      "metadata": {
        "colab": {
          "base_uri": "https://localhost:8080/"
        },
        "id": "sav02PbHKUqo",
        "outputId": "ae5c0c9f-fb4c-4b31-955e-42fb83afb1c2"
      },
      "execution_count": null,
      "outputs": [
        {
          "output_type": "stream",
          "name": "stdout",
          "text": [
            "this will share my insta stories\n"
          ]
        }
      ]
    },
    {
      "cell_type": "code",
      "source": [
        "sharestoies(f)"
      ],
      "metadata": {
        "colab": {
          "base_uri": "https://localhost:8080/"
        },
        "id": "U7iXsRQ6KYHd",
        "outputId": "65916190-6e90-4dbd-e4af-4326d601c335"
      },
      "execution_count": null,
      "outputs": [
        {
          "output_type": "stream",
          "name": "stdout",
          "text": [
            "this will share my facebook stories\n"
          ]
        }
      ]
    },
    {
      "cell_type": "code",
      "source": [
        "#we can implement this in inheritance"
      ],
      "metadata": {
        "id": "Cl7L_FjWKZlT"
      },
      "execution_count": null,
      "outputs": []
    },
    {
      "cell_type": "code",
      "source": [
        "class social_media:\n",
        "  def share_stories(self):\n",
        "    print(\"share a stories\")\n",
        "  def upload_pic(self):\n",
        "    print(\"upload pic\")\n",
        "class facebook(social_media):\n",
        "  def share_stories(self):\n",
        "    print(\"this is fun for sharing a stories\")\n",
        "class insta(social_media):\n",
        "  def share_stories(self):\n",
        "    print(\"this is fun for sharing a stories in insta\")"
      ],
      "metadata": {
        "id": "mq1ci4dhKo9U"
      },
      "execution_count": null,
      "outputs": []
    },
    {
      "cell_type": "code",
      "source": [
        "f=facebook()\n",
        "i=insta()"
      ],
      "metadata": {
        "id": "ETLSaroWpDTu"
      },
      "execution_count": null,
      "outputs": []
    },
    {
      "cell_type": "code",
      "source": [
        "f.share_stories()"
      ],
      "metadata": {
        "colab": {
          "base_uri": "https://localhost:8080/"
        },
        "id": "t8mp_F9m_C1C",
        "outputId": "ddb76ba9-1d2c-4298-8d01-ac37871be4a4"
      },
      "execution_count": null,
      "outputs": [
        {
          "output_type": "stream",
          "name": "stdout",
          "text": [
            "this is fun for sharing a stories\n"
          ]
        }
      ]
    },
    {
      "cell_type": "code",
      "source": [
        "i.share_stories()"
      ],
      "metadata": {
        "colab": {
          "base_uri": "https://localhost:8080/"
        },
        "id": "3L4PbyNo_Fie",
        "outputId": "cab2faa4-fdd7-414b-d33a-710f7067b630"
      },
      "execution_count": null,
      "outputs": [
        {
          "output_type": "stream",
          "name": "stdout",
          "text": [
            "this is fun for sharing a stories in insta\n"
          ]
        }
      ]
    },
    {
      "cell_type": "code",
      "source": [
        "#how to create a own exception class"
      ],
      "metadata": {
        "id": "Jl5CxgTZ_K4q"
      },
      "execution_count": null,
      "outputs": []
    },
    {
      "cell_type": "code",
      "source": [
        "class test(Exception):\n",
        "  def  __init__(self,msg):\n",
        "    self.msg=msg"
      ],
      "metadata": {
        "id": "RiKb0Sdp_rA5"
      },
      "execution_count": null,
      "outputs": []
    },
    {
      "cell_type": "code",
      "source": [
        "try:\n",
        "  raise(test(\"this is my own exception class\"))\n",
        "except test as t:\n",
        "  print(t)"
      ],
      "metadata": {
        "colab": {
          "base_uri": "https://localhost:8080/"
        },
        "id": "Cg8FfLBsAEo2",
        "outputId": "a9659a19-6133-4eed-fa36-90b6b63e8b55"
      },
      "execution_count": null,
      "outputs": [
        {
          "output_type": "stream",
          "name": "stdout",
          "text": [
            "this is my own exception class\n"
          ]
        }
      ]
    },
    {
      "cell_type": "code",
      "source": [
        "try:\n",
        "  5/0\n",
        "except test as t:\n",
        "  print(t)"
      ],
      "metadata": {
        "colab": {
          "base_uri": "https://localhost:8080/",
          "height": 218
        },
        "id": "E2k8wi6IAKUx",
        "outputId": "21f5ccee-daf4-4a2e-c2c4-75f516ba707b"
      },
      "execution_count": null,
      "outputs": [
        {
          "output_type": "error",
          "ename": "ZeroDivisionError",
          "evalue": "ignored",
          "traceback": [
            "\u001b[0;31m---------------------------------------------------------------------------\u001b[0m",
            "\u001b[0;31mZeroDivisionError\u001b[0m                         Traceback (most recent call last)",
            "\u001b[0;32m<ipython-input-11-4c379d841552>\u001b[0m in \u001b[0;36m<module>\u001b[0;34m\u001b[0m\n\u001b[1;32m      1\u001b[0m \u001b[0;32mtry\u001b[0m\u001b[0;34m:\u001b[0m\u001b[0;34m\u001b[0m\u001b[0;34m\u001b[0m\u001b[0m\n\u001b[0;32m----> 2\u001b[0;31m   \u001b[0;36m5\u001b[0m\u001b[0;34m/\u001b[0m\u001b[0;36m0\u001b[0m\u001b[0;34m\u001b[0m\u001b[0;34m\u001b[0m\u001b[0m\n\u001b[0m\u001b[1;32m      3\u001b[0m \u001b[0;32mexcept\u001b[0m \u001b[0mtest\u001b[0m \u001b[0;32mas\u001b[0m \u001b[0mt\u001b[0m\u001b[0;34m:\u001b[0m\u001b[0;34m\u001b[0m\u001b[0;34m\u001b[0m\u001b[0m\n\u001b[1;32m      4\u001b[0m   \u001b[0mprint\u001b[0m\u001b[0;34m(\u001b[0m\u001b[0mt\u001b[0m\u001b[0;34m)\u001b[0m\u001b[0;34m\u001b[0m\u001b[0;34m\u001b[0m\u001b[0m\n",
            "\u001b[0;31mZeroDivisionError\u001b[0m: division by zero"
          ]
        }
      ]
    },
    {
      "cell_type": "code",
      "source": [
        "#raise is help to create object of the own custom classes"
      ],
      "metadata": {
        "id": "yjKksR8jAkeR"
      },
      "execution_count": null,
      "outputs": []
    },
    {
      "cell_type": "code",
      "source": [
        "\"\"\"\n",
        "1.create your own class for to schive multiple,and multileve\n",
        "2.create own class to reprcent pilymarphsm\n",
        "3.create a own class for custom exception\n",
        "4.encapsulation\n",
        "5.overload and override\n",
        "\"\"\""
      ],
      "metadata": {
        "colab": {
          "base_uri": "https://localhost:8080/",
          "height": 70
        },
        "id": "Yl-pEgrhA2eX",
        "outputId": "2a7778d8-e615-4c8e-bfd1-352e7a6cb8aa"
      },
      "execution_count": null,
      "outputs": [
        {
          "output_type": "execute_result",
          "data": {
            "text/plain": [
              "'\\n1.create your own class for to schive multiple,and multileve\\n2.create own class to reprcent pilymarphsm\\n3.create a own class for custom exception\\n4.encapsulation\\n5.overload and override\\n'"
            ],
            "application/vnd.google.colaboratory.intrinsic+json": {
              "type": "string"
            }
          },
          "metadata": {},
          "execution_count": 13
        }
      ]
    },
    {
      "cell_type": "code",
      "source": [
        "#multiple inheritance\n",
        "\n",
        "#parent class1\n",
        "class batch_number:\n",
        "  batchnumber=\"\"\n",
        "  def __init__(self,a,b,c):\n",
        "    self.a=a\n",
        "    self.b=b\n",
        "    self.c=c\n",
        "\n",
        "  def batch(self):\n",
        "    print(self.batchnumber)\n",
        "\n",
        "#parent class2\n",
        "\n",
        "class course_name:\n",
        "  cname=\"\"\n",
        "  def course(self):\n",
        "    print(self.cname)\n",
        "\n",
        "#child class\n",
        "class student(batch_number,course_name):\n",
        "  def deets(self):\n",
        "    print(\"batch:\",self.batchnumber)\n",
        "    print(\"course:\",self.cname)\n",
        "\n",
        "#child class code\n",
        "s1=student(4,5,6)\n",
        "s1.batchnumber=\"2\"\n",
        "s1.cname=\"FSDS\""
      ],
      "metadata": {
        "id": "e8edi3jaCE6m"
      },
      "execution_count": null,
      "outputs": []
    },
    {
      "cell_type": "code",
      "source": [
        "s1.deets()"
      ],
      "metadata": {
        "colab": {
          "base_uri": "https://localhost:8080/"
        },
        "id": "Fum3Feh4Cy5P",
        "outputId": "93c9d09a-1bce-40e2-ed38-2afa156d3155"
      },
      "execution_count": null,
      "outputs": [
        {
          "output_type": "stream",
          "name": "stdout",
          "text": [
            "batch: 2\n",
            "course: FSDS\n"
          ]
        }
      ]
    },
    {
      "cell_type": "code",
      "source": [
        "s1=batch_number(4,5,6)"
      ],
      "metadata": {
        "id": "dnzu6kq4QhwZ"
      },
      "execution_count": null,
      "outputs": []
    },
    {
      "cell_type": "code",
      "source": [
        "s1.a"
      ],
      "metadata": {
        "colab": {
          "base_uri": "https://localhost:8080/"
        },
        "id": "eX_NlCPsFxJj",
        "outputId": "b726c4d4-7a0b-4f42-981f-1dc9eecdaee2"
      },
      "execution_count": null,
      "outputs": [
        {
          "output_type": "execute_result",
          "data": {
            "text/plain": [
              "4"
            ]
          },
          "metadata": {},
          "execution_count": 77
        }
      ]
    },
    {
      "cell_type": "code",
      "source": [
        "s2=batch_number(7,8,9)"
      ],
      "metadata": {
        "id": "TLIzknFwFzqr"
      },
      "execution_count": null,
      "outputs": []
    },
    {
      "cell_type": "code",
      "source": [
        "s2.a"
      ],
      "metadata": {
        "colab": {
          "base_uri": "https://localhost:8080/"
        },
        "id": "QzLzURuUHMR9",
        "outputId": "ec561339-8894-4a95-e98d-01b779e4c034"
      },
      "execution_count": null,
      "outputs": [
        {
          "output_type": "execute_result",
          "data": {
            "text/plain": [
              "7"
            ]
          },
          "metadata": {},
          "execution_count": 79
        }
      ]
    },
    {
      "cell_type": "code",
      "source": [
        "\"\"\"\n",
        "based of the object a value changes but batch number will be same for all the objects\n",
        "that is called static\n",
        "\"\"\"\n"
      ],
      "metadata": {
        "colab": {
          "base_uri": "https://localhost:8080/",
          "height": 52
        },
        "id": "oUbjarfTLtCA",
        "outputId": "d0a39a9e-5298-43a8-9e33-0c0c17449f7b"
      },
      "execution_count": null,
      "outputs": [
        {
          "output_type": "execute_result",
          "data": {
            "text/plain": [
              "'\\nbased of the object a value changes but batch number will be same for all the objects\\nthat is called static\\n'"
            ],
            "application/vnd.google.colaboratory.intrinsic+json": {
              "type": "string"
            }
          },
          "metadata": {},
          "execution_count": 80
        }
      ]
    },
    {
      "cell_type": "code",
      "source": [
        "s1.batchnumber"
      ],
      "metadata": {
        "colab": {
          "base_uri": "https://localhost:8080/",
          "height": 35
        },
        "id": "Z-CLdTR5QB42",
        "outputId": "5b6ccd7c-1a87-4eec-b51e-252cde6f7f6a"
      },
      "execution_count": null,
      "outputs": [
        {
          "output_type": "execute_result",
          "data": {
            "text/plain": [
              "''"
            ],
            "application/vnd.google.colaboratory.intrinsic+json": {
              "type": "string"
            }
          },
          "metadata": {},
          "execution_count": 81
        }
      ]
    },
    {
      "cell_type": "code",
      "source": [
        "s2.batchnumber"
      ],
      "metadata": {
        "colab": {
          "base_uri": "https://localhost:8080/",
          "height": 35
        },
        "id": "u0vn6ZnpQE3W",
        "outputId": "e7366a0f-94c2-48a9-e546-f408050ed05d"
      },
      "execution_count": null,
      "outputs": [
        {
          "output_type": "execute_result",
          "data": {
            "text/plain": [
              "''"
            ],
            "application/vnd.google.colaboratory.intrinsic+json": {
              "type": "string"
            }
          },
          "metadata": {},
          "execution_count": 82
        }
      ]
    },
    {
      "cell_type": "code",
      "source": [
        "\n",
        "s1.batchnumber=\"sudh\""
      ],
      "metadata": {
        "id": "H09EwmTrQIEQ"
      },
      "execution_count": null,
      "outputs": []
    },
    {
      "cell_type": "code",
      "source": [
        "s1.batchnumber"
      ],
      "metadata": {
        "colab": {
          "base_uri": "https://localhost:8080/",
          "height": 35
        },
        "id": "UbYzuDTmQ73R",
        "outputId": "f3205468-8196-492a-c984-5832f0b2ddf4"
      },
      "execution_count": null,
      "outputs": [
        {
          "output_type": "execute_result",
          "data": {
            "text/plain": [
              "'sudh'"
            ],
            "application/vnd.google.colaboratory.intrinsic+json": {
              "type": "string"
            }
          },
          "metadata": {},
          "execution_count": 86
        }
      ]
    },
    {
      "cell_type": "code",
      "source": [
        "s2.batchnumber"
      ],
      "metadata": {
        "colab": {
          "base_uri": "https://localhost:8080/",
          "height": 35
        },
        "id": "I5a8iFKDRKQG",
        "outputId": "8002d751-6a22-465d-83fe-562533c53820"
      },
      "execution_count": null,
      "outputs": [
        {
          "output_type": "execute_result",
          "data": {
            "text/plain": [
              "''"
            ],
            "application/vnd.google.colaboratory.intrinsic+json": {
              "type": "string"
            }
          },
          "metadata": {},
          "execution_count": 87
        }
      ]
    },
    {
      "cell_type": "code",
      "source": [
        "#multiple inheritance\n",
        "\n",
        "#parent class1\n",
        "class batch_number:\n",
        "  batchnumber=\"\"\n",
        "  def __init__(self,a,b,c):\n",
        "    self.a=a\n",
        "    self.b=b\n",
        "    self.c=c\n",
        "  @staticmethod\n",
        "  def batch(self):\n",
        "    print(self.batchnumber)\n",
        "\n",
        "#parent class2\n",
        "\n",
        "class course_name:\n",
        "  cname=\"\"\n",
        "  def course(self):\n",
        "    print(self.cname)\n",
        "\n",
        "#child class\n",
        "class student(batch_number,course_name):\n",
        "  def deets(self):\n",
        "    print(\"batch:\",self.batchnumber)\n",
        "    print(\"course:\",self.cname)\n",
        "\n",
        "#child class code\n",
        "s1=student(4,5,6)\n",
        "s1.batchnumber=\"2\"\n",
        "s1.cname=\"FSDS\""
      ],
      "metadata": {
        "id": "EoG6y-ZERMuB"
      },
      "execution_count": null,
      "outputs": []
    },
    {
      "cell_type": "code",
      "source": [
        "#if we use static method key that function is called static function"
      ],
      "metadata": {
        "id": "KRySk5J2R5jq"
      },
      "execution_count": null,
      "outputs": []
    },
    {
      "cell_type": "code",
      "source": [
        "class batch_number:\n",
        "  batchnumber=\"\"\n",
        "  def __init__(self,a,b,c):\n",
        "    self.a=a\n",
        "    self.b=b\n",
        "    self.c=c\n",
        "  #@staticmethod\n",
        "  def batch():\n",
        "    print(self.batchnumber)\n"
      ],
      "metadata": {
        "id": "Y1eHAHyOR_Rc"
      },
      "execution_count": null,
      "outputs": []
    },
    {
      "cell_type": "code",
      "source": [
        "v=batch_number(1,2,3)"
      ],
      "metadata": {
        "id": "BqwtQMJYT0LG"
      },
      "execution_count": null,
      "outputs": []
    },
    {
      "cell_type": "code",
      "source": [
        "v.batch()"
      ],
      "metadata": {
        "colab": {
          "base_uri": "https://localhost:8080/",
          "height": 166
        },
        "id": "elxOXKX_T32V",
        "outputId": "1b33a2e0-59a7-4303-f46b-40839ef2f0cf"
      },
      "execution_count": null,
      "outputs": [
        {
          "output_type": "error",
          "ename": "TypeError",
          "evalue": "ignored",
          "traceback": [
            "\u001b[0;31m---------------------------------------------------------------------------\u001b[0m",
            "\u001b[0;31mTypeError\u001b[0m                                 Traceback (most recent call last)",
            "\u001b[0;32m<ipython-input-93-afd8a4fd82e7>\u001b[0m in \u001b[0;36m<module>\u001b[0;34m\u001b[0m\n\u001b[0;32m----> 1\u001b[0;31m \u001b[0mv\u001b[0m\u001b[0;34m.\u001b[0m\u001b[0mbatch\u001b[0m\u001b[0;34m(\u001b[0m\u001b[0;34m)\u001b[0m\u001b[0;34m\u001b[0m\u001b[0;34m\u001b[0m\u001b[0m\n\u001b[0m",
            "\u001b[0;31mTypeError\u001b[0m: batch() takes 0 positional arguments but 1 was given"
          ]
        }
      ]
    },
    {
      "cell_type": "code",
      "source": [
        "#bcoz of self is missing in that fuction but if we use static self is not require.that is directly pointing to class"
      ],
      "metadata": {
        "id": "rX2WUgO0T8nz"
      },
      "execution_count": null,
      "outputs": []
    },
    {
      "cell_type": "code",
      "source": [
        "class batch_number:\n",
        "  batchnumber=\"\"\n",
        "  def __init__(self,a,b,c):\n",
        "    self.a=a\n",
        "    self.b=b\n",
        "    self.c=c\n",
        "  @staticmethod\n",
        "  def batch():\n",
        "    print(\"this is static method\")"
      ],
      "metadata": {
        "id": "Fskiig4EUI6L"
      },
      "execution_count": null,
      "outputs": []
    },
    {
      "cell_type": "code",
      "source": [
        "v=batch_number(1,2,3)"
      ],
      "metadata": {
        "id": "jsnoiirHUMBo"
      },
      "execution_count": null,
      "outputs": []
    },
    {
      "cell_type": "code",
      "source": [
        "v.batch()"
      ],
      "metadata": {
        "colab": {
          "base_uri": "https://localhost:8080/"
        },
        "id": "UT37lMAHUOmg",
        "outputId": "70478831-0991-44cd-cf30-7395dadd6fe3"
      },
      "execution_count": null,
      "outputs": [
        {
          "output_type": "stream",
          "name": "stdout",
          "text": [
            "this is static method\n"
          ]
        }
      ]
    },
    {
      "cell_type": "code",
      "source": [
        "#decarator are special function which is help to change the function behavior as per the decorator"
      ],
      "metadata": {
        "id": "wXGTBVc9UUya"
      },
      "execution_count": null,
      "outputs": []
    },
    {
      "cell_type": "code",
      "source": [
        "class batch_number:\n",
        "  batchnumber=\"FSDS\"\n",
        "  def __init__(self,a,b,c):\n",
        "    self.a=a\n",
        "    self.b=b\n",
        "    self.c=c\n",
        "  @staticmethod\n",
        "  def batch():\n",
        "    print(\"this is static method\")"
      ],
      "metadata": {
        "id": "C6qALJgoUxpL"
      },
      "execution_count": null,
      "outputs": []
    },
    {
      "cell_type": "code",
      "source": [
        "batch_number.batchnumber"
      ],
      "metadata": {
        "colab": {
          "base_uri": "https://localhost:8080/",
          "height": 35
        },
        "id": "FYVXd8ExVJR7",
        "outputId": "ab07d865-6ef1-4435-f4e6-823edd1bb4c3"
      },
      "execution_count": null,
      "outputs": [
        {
          "output_type": "execute_result",
          "data": {
            "text/plain": [
              "'FSDS'"
            ],
            "application/vnd.google.colaboratory.intrinsic+json": {
              "type": "string"
            }
          },
          "metadata": {},
          "execution_count": 104
        }
      ]
    },
    {
      "cell_type": "code",
      "source": [
        "batch_number.a"
      ],
      "metadata": {
        "colab": {
          "base_uri": "https://localhost:8080/",
          "height": 166
        },
        "id": "1gaYghQcVNPF",
        "outputId": "0acb8f97-c5ad-4703-fcd0-364b571b4d5a"
      },
      "execution_count": null,
      "outputs": [
        {
          "output_type": "error",
          "ename": "AttributeError",
          "evalue": "ignored",
          "traceback": [
            "\u001b[0;31m---------------------------------------------------------------------------\u001b[0m",
            "\u001b[0;31mAttributeError\u001b[0m                            Traceback (most recent call last)",
            "\u001b[0;32m<ipython-input-105-097b79d07b34>\u001b[0m in \u001b[0;36m<module>\u001b[0;34m\u001b[0m\n\u001b[0;32m----> 1\u001b[0;31m \u001b[0mbatch_number\u001b[0m\u001b[0;34m.\u001b[0m\u001b[0ma\u001b[0m\u001b[0;34m\u001b[0m\u001b[0;34m\u001b[0m\u001b[0m\n\u001b[0m",
            "\u001b[0;31mAttributeError\u001b[0m: type object 'batch_number' has no attribute 'a'"
          ]
        }
      ]
    },
    {
      "cell_type": "code",
      "source": [
        "#this is cant call bcoz that is instance variable,we have to create object for this"
      ],
      "metadata": {
        "id": "XcEh9yz0VQU2"
      },
      "execution_count": null,
      "outputs": []
    },
    {
      "cell_type": "code",
      "source": [
        "b=batch_number(1,2,3)"
      ],
      "metadata": {
        "id": "1nrfsDE3VUeM"
      },
      "execution_count": null,
      "outputs": []
    },
    {
      "cell_type": "code",
      "source": [
        "b.a"
      ],
      "metadata": {
        "colab": {
          "base_uri": "https://localhost:8080/"
        },
        "id": "swy0W08cVpBH",
        "outputId": "f0a6b171-5cc6-46e2-de96-fb17c3d2d107"
      },
      "execution_count": null,
      "outputs": [
        {
          "output_type": "execute_result",
          "data": {
            "text/plain": [
              "1"
            ]
          },
          "metadata": {},
          "execution_count": 110
        }
      ]
    },
    {
      "cell_type": "code",
      "source": [
        "class batch_number:\n",
        "  batchnumber=\"FSDS\"\n",
        "  def __init__(self,a,b,c):\n",
        "    self.a=a\n",
        "    self.b=b\n",
        "    self.c=c\n",
        "  @staticmethod\n",
        "  def batch():\n",
        "    print(\"this is static method\")\n",
        "\n",
        "  def batch1(self):\n",
        "    print(\"this is for batch 1\")"
      ],
      "metadata": {
        "id": "mqoKN9yfVssm"
      },
      "execution_count": null,
      "outputs": []
    },
    {
      "cell_type": "code",
      "source": [
        "batch_number.batch()"
      ],
      "metadata": {
        "colab": {
          "base_uri": "https://localhost:8080/"
        },
        "id": "tBwmZhm-V5Qx",
        "outputId": "4ae10651-7924-4c2b-86ef-7ffb560d3c6e"
      },
      "execution_count": null,
      "outputs": [
        {
          "output_type": "stream",
          "name": "stdout",
          "text": [
            "this is static method\n"
          ]
        }
      ]
    },
    {
      "cell_type": "code",
      "source": [
        "batch_number.batch1()"
      ],
      "metadata": {
        "colab": {
          "base_uri": "https://localhost:8080/",
          "height": 166
        },
        "id": "-m5y5mYmV77r",
        "outputId": "6ff70a06-60f3-46f1-a362-4ef369d41480"
      },
      "execution_count": null,
      "outputs": [
        {
          "output_type": "error",
          "ename": "TypeError",
          "evalue": "ignored",
          "traceback": [
            "\u001b[0;31m---------------------------------------------------------------------------\u001b[0m",
            "\u001b[0;31mTypeError\u001b[0m                                 Traceback (most recent call last)",
            "\u001b[0;32m<ipython-input-116-6ee6674489ac>\u001b[0m in \u001b[0;36m<module>\u001b[0;34m\u001b[0m\n\u001b[0;32m----> 1\u001b[0;31m \u001b[0mbatch_number\u001b[0m\u001b[0;34m.\u001b[0m\u001b[0mbatch1\u001b[0m\u001b[0;34m(\u001b[0m\u001b[0;34m)\u001b[0m\u001b[0;34m\u001b[0m\u001b[0;34m\u001b[0m\u001b[0m\n\u001b[0m",
            "\u001b[0;31mTypeError\u001b[0m: batch1() missing 1 required positional argument: 'self'"
          ]
        }
      ]
    },
    {
      "cell_type": "code",
      "source": [
        "#bcoz this is not static function"
      ],
      "metadata": {
        "id": "dExpxkkhWAr2"
      },
      "execution_count": null,
      "outputs": []
    },
    {
      "cell_type": "code",
      "source": [
        "class batch_number:\n",
        "  batchnumber=\"FSDS\"\n",
        "  def __init__(self,a,b,c):\n",
        "    self.a=a\n",
        "    self.b=b\n",
        "    self.c=c\n",
        "  @staticmethod\n",
        "  def batch():\n",
        "    print(\"this is static method\")\n",
        "\n",
        "  def batch1(self):\n",
        "    print(\"this is non static\")"
      ],
      "metadata": {
        "id": "Vds3Z4bQWKHn"
      },
      "execution_count": null,
      "outputs": []
    },
    {
      "cell_type": "code",
      "source": [
        "v=batch_number(1,2,3)"
      ],
      "metadata": {
        "id": "tTmbXiwSW0gr"
      },
      "execution_count": null,
      "outputs": []
    },
    {
      "cell_type": "code",
      "source": [
        "v.batch1()"
      ],
      "metadata": {
        "colab": {
          "base_uri": "https://localhost:8080/"
        },
        "id": "R_wFrDB4W64P",
        "outputId": "116011e6-22d9-485b-be1f-707471bc9a6f"
      },
      "execution_count": null,
      "outputs": [
        {
          "output_type": "stream",
          "name": "stdout",
          "text": [
            "this is non static\n"
          ]
        }
      ]
    },
    {
      "cell_type": "code",
      "source": [
        "type(batch_number.batchnumber)"
      ],
      "metadata": {
        "colab": {
          "base_uri": "https://localhost:8080/"
        },
        "id": "dI5AZujMW82t",
        "outputId": "93ea38d5-811c-4936-f1b2-d1b0f912a399"
      },
      "execution_count": null,
      "outputs": [
        {
          "output_type": "execute_result",
          "data": {
            "text/plain": [
              "str"
            ]
          },
          "metadata": {},
          "execution_count": 141
        }
      ]
    },
    {
      "cell_type": "code",
      "source": [
        "class accountdetail:\n",
        "  account_no=\"7478758\"\n",
        "  def __init__(self,amount):\n",
        "    self.amount=amount\n",
        "\n",
        "  def show_balance(self,detection):\n",
        "    self.amount=self.amount-detection\n",
        "    return self.amount,self.account_no"
      ],
      "metadata": {
        "id": "HATT0L9DYoub"
      },
      "execution_count": null,
      "outputs": []
    },
    {
      "cell_type": "code",
      "source": [
        "u=accountdetail(1000)"
      ],
      "metadata": {
        "id": "D_HEEIX_amUd"
      },
      "execution_count": null,
      "outputs": []
    },
    {
      "cell_type": "code",
      "source": [
        "u.show_balance(500)"
      ],
      "metadata": {
        "colab": {
          "base_uri": "https://localhost:8080/"
        },
        "id": "wCr8B_m5arIW",
        "outputId": "2237bee9-308c-43bc-8da6-a945e84677dd"
      },
      "execution_count": null,
      "outputs": [
        {
          "output_type": "execute_result",
          "data": {
            "text/plain": [
              "(500, '7478758')"
            ]
          },
          "metadata": {},
          "execution_count": 148
        }
      ]
    },
    {
      "cell_type": "code",
      "source": [
        "#multilevel inheritance"
      ],
      "metadata": {
        "id": "p6v5VDxSaxny"
      },
      "execution_count": null,
      "outputs": []
    },
    {
      "cell_type": "code",
      "source": [
        "class xyz:\n",
        "  def __init__(self,a,b,c):\n",
        "    self.a=a\n",
        "    self.b=b\n",
        "    self.c=c\n",
        "\n",
        "  def test(self):\n",
        "    print(\"this is my method of xyz class\")\n",
        "\n",
        "class xyz1(xyz):\n",
        "  def test1(self):\n",
        "    print(\"this is the method of xyz1 class\")\n",
        "\n",
        "class xyz2(xyz1):\n",
        "  def test2(self):\n",
        "    print(\"this is the method of xyz2 class\")"
      ],
      "metadata": {
        "id": "DHcN-fDtbZWM"
      },
      "execution_count": null,
      "outputs": []
    },
    {
      "cell_type": "code",
      "source": [
        "n=xyz2(1,2,3)"
      ],
      "metadata": {
        "id": "XmF-AWSWcGic"
      },
      "execution_count": null,
      "outputs": []
    },
    {
      "cell_type": "code",
      "source": [
        "n.a"
      ],
      "metadata": {
        "colab": {
          "base_uri": "https://localhost:8080/"
        },
        "id": "FdSa7iOxcLC4",
        "outputId": "cb2d532f-62c1-474d-93d4-a3c63c3413de"
      },
      "execution_count": null,
      "outputs": [
        {
          "output_type": "execute_result",
          "data": {
            "text/plain": [
              "1"
            ]
          },
          "metadata": {},
          "execution_count": 153
        }
      ]
    },
    {
      "cell_type": "code",
      "source": [
        "n.test()"
      ],
      "metadata": {
        "colab": {
          "base_uri": "https://localhost:8080/"
        },
        "id": "OeFB2SCXcOf7",
        "outputId": "5d6d0dff-31ac-4709-e911-a9c6e4119ab5"
      },
      "execution_count": null,
      "outputs": [
        {
          "output_type": "stream",
          "name": "stdout",
          "text": [
            "this is my method of xyz class\n"
          ]
        }
      ]
    },
    {
      "cell_type": "code",
      "source": [
        "n.test1()"
      ],
      "metadata": {
        "colab": {
          "base_uri": "https://localhost:8080/"
        },
        "id": "bnYBdFqRcQxl",
        "outputId": "afae4247-7e04-48db-8453-81086443397a"
      },
      "execution_count": null,
      "outputs": [
        {
          "output_type": "stream",
          "name": "stdout",
          "text": [
            "this is the method of xyz1 class\n"
          ]
        }
      ]
    },
    {
      "cell_type": "code",
      "source": [
        "n.test2()"
      ],
      "metadata": {
        "colab": {
          "base_uri": "https://localhost:8080/"
        },
        "id": "ufa-Dd3UcScp",
        "outputId": "394ef5f9-5eb0-4268-d4b3-3e07307e8f7a"
      },
      "execution_count": null,
      "outputs": [
        {
          "output_type": "stream",
          "name": "stdout",
          "text": [
            "this is the method of xyz2 class\n"
          ]
        }
      ]
    },
    {
      "cell_type": "code",
      "source": [
        "class divby5(Exception):\n",
        "  def __init__(self,msg):\n",
        "    self.msg=msg\n",
        "\n",
        "\n",
        "try:\n",
        "  a=int(input(\"enter the 1st number \"))\n",
        "  b=int(input(\"enter the seconf number\"))\n",
        "  if b==5:\n",
        "    raise divby5(\"div by 5 error\")\n",
        "\n",
        "except ValueError as msg:\n",
        "  print(msg)\n",
        "\n",
        "except divby5 as msg:\n",
        "  print(msg)\n",
        "\n",
        "else:\n",
        "  result=a/b\n",
        "  print(result)"
      ],
      "metadata": {
        "colab": {
          "base_uri": "https://localhost:8080/"
        },
        "id": "N4Jy3ococUMM",
        "outputId": "8a6555b3-370a-45b2-c4ba-97e1a8181c6d"
      },
      "execution_count": null,
      "outputs": [
        {
          "output_type": "stream",
          "name": "stdout",
          "text": [
            "enter the 1st number 78\n",
            "enter the seconf number4\n",
            "19.5\n"
          ]
        }
      ]
    },
    {
      "cell_type": "code",
      "source": [
        "class divby5(Exception):\n",
        "  def __init__(self,msg):\n",
        "    self.msg=msg\n",
        "\n",
        "\n",
        "try:\n",
        "  a=int(input(\"enter the 1st number \"))\n",
        "  b=int(input(\"enter the seconf number\"))\n",
        "  if b==5:\n",
        "    raise divby5(\"div by 5 error\")\n",
        "\n",
        "except ValueError as msg:\n",
        "  print(msg)\n",
        "\n",
        "except divby5 as msg:\n",
        "  print(msg)\n",
        "\n",
        "else:\n",
        "  try:\n",
        "    result=a/b\n",
        "    print(result)\n",
        "\n",
        "  except Exception as e:\n",
        "    print(e)"
      ],
      "metadata": {
        "colab": {
          "base_uri": "https://localhost:8080/"
        },
        "id": "Jt_9pnAFeJuH",
        "outputId": "761f94ba-47ca-49c5-8d8f-89039cea8573"
      },
      "execution_count": null,
      "outputs": [
        {
          "output_type": "stream",
          "name": "stdout",
          "text": [
            "enter the 1st number lkbk\n",
            "invalid literal for int() with base 10: 'lkbk'\n"
          ]
        }
      ]
    },
    {
      "cell_type": "code",
      "source": [
        "#polymarphysm\n",
        "\n",
        "class test1:\n",
        "  def a(self):\n",
        "    return \"test1\"\n",
        "\n",
        "class test2:\n",
        "  def a(self):\n",
        "    return \"test2\"\n",
        "\n",
        "def poly(obj):\n",
        "  print(obj.a())\n",
        "\n",
        "t1=test1()\n",
        "t2=test2()\n"
      ],
      "metadata": {
        "id": "nQiltFv_f49m"
      },
      "execution_count": null,
      "outputs": []
    },
    {
      "cell_type": "code",
      "source": [
        "poly(t1)"
      ],
      "metadata": {
        "colab": {
          "base_uri": "https://localhost:8080/"
        },
        "id": "IwKb_0Mth1Ch",
        "outputId": "46032ffc-e968-4282-bafd-d9e1c9ea2ade"
      },
      "execution_count": null,
      "outputs": [
        {
          "output_type": "stream",
          "name": "stdout",
          "text": [
            "test1\n"
          ]
        }
      ]
    },
    {
      "cell_type": "code",
      "source": [
        "poly(t2)"
      ],
      "metadata": {
        "colab": {
          "base_uri": "https://localhost:8080/"
        },
        "id": "V9flm8-hh3ZO",
        "outputId": "208fc800-2fa2-43a4-dff0-24cae5b6cc95"
      },
      "execution_count": null,
      "outputs": [
        {
          "output_type": "stream",
          "name": "stdout",
          "text": [
            "test2\n"
          ]
        }
      ]
    },
    {
      "cell_type": "code",
      "source": [
        "#abstraction"
      ],
      "metadata": {
        "id": "mW4Kc9HCh5MX"
      },
      "execution_count": 1,
      "outputs": []
    },
    {
      "cell_type": "code",
      "source": [
        "#its very difficult to remember all the fun ,module and package\n",
        "#hence we have to create blue print(abstract)"
      ],
      "metadata": {
        "id": "8qkwEcJwtGeF"
      },
      "execution_count": 2,
      "outputs": []
    },
    {
      "cell_type": "code",
      "source": [
        "class abc:\n",
        "  pass"
      ],
      "metadata": {
        "id": "w0xomjDKteHQ"
      },
      "execution_count": 3,
      "outputs": []
    },
    {
      "cell_type": "code",
      "source": [
        "from abc import abstractmethod\n",
        "class data_project:\n",
        "\n",
        "  @abstractmethod\n",
        "  def read_file(self):\n",
        "    pass\n",
        "\n",
        "  def validate_file_name(self):\n",
        "    pass\n",
        "  \n",
        "  def validate_datatype(self):\n",
        "    pass\n",
        "\n",
        "  def validate_db_conn(self):\n",
        "    pass\n",
        "  def create_conn(self):\n",
        "    pass\n",
        "\n",
        "\n",
        " #with out key word and with key we can use abstraction "
      ],
      "metadata": {
        "id": "mO8tj07CtgDJ"
      },
      "execution_count": 8,
      "outputs": []
    },
    {
      "cell_type": "code",
      "source": [
        "class db_ops(data_project):\n",
        "  pass"
      ],
      "metadata": {
        "id": "ffZuf-h1uJ1y"
      },
      "execution_count": 5,
      "outputs": []
    },
    {
      "cell_type": "code",
      "source": [
        "#if the person who work on db they will inherit and use the DB function"
      ],
      "metadata": {
        "id": "NjzckWDAubVj"
      },
      "execution_count": 6,
      "outputs": []
    },
    {
      "cell_type": "code",
      "source": [
        "#overloading and overriding"
      ],
      "metadata": {
        "id": "z_JuFFPLuk9E"
      },
      "execution_count": 9,
      "outputs": []
    },
    {
      "cell_type": "code",
      "source": [
        "class test:\n",
        "  def fun(self):\n",
        "    print(\"this is my sample class\")\n",
        "\n"
      ],
      "metadata": {
        "id": "5fN2_fjZw-jG"
      },
      "execution_count": 10,
      "outputs": []
    },
    {
      "cell_type": "code",
      "source": [
        "t=test()"
      ],
      "metadata": {
        "id": "egr0DDd8xH7g"
      },
      "execution_count": 11,
      "outputs": []
    },
    {
      "cell_type": "code",
      "source": [
        "print(t)"
      ],
      "metadata": {
        "colab": {
          "base_uri": "https://localhost:8080/"
        },
        "id": "g_r85BKXxJAS",
        "outputId": "621f6c26-8c0a-408c-fbf1-dc1112d66818"
      },
      "execution_count": 12,
      "outputs": [
        {
          "output_type": "stream",
          "name": "stdout",
          "text": [
            "<__main__.test object at 0x7ff64da62c10>\n"
          ]
        }
      ]
    },
    {
      "cell_type": "code",
      "source": [
        "class test:\n",
        "  def fun(self):\n",
        "    print(\"this is my sample class\")\n",
        "\n",
        "  def __str__(self):\n",
        "    return str(\"this fun call ed at a time of obj print\")"
      ],
      "metadata": {
        "id": "6MXExvJSxLlL"
      },
      "execution_count": 13,
      "outputs": []
    },
    {
      "cell_type": "code",
      "source": [
        "t=test()"
      ],
      "metadata": {
        "id": "3aDyqY5Nxdvn"
      },
      "execution_count": 14,
      "outputs": []
    },
    {
      "cell_type": "code",
      "source": [
        "print(t)"
      ],
      "metadata": {
        "colab": {
          "base_uri": "https://localhost:8080/"
        },
        "id": "FS_jB5zDxe1U",
        "outputId": "ede81ca3-aa51-41c8-eb28-95c339fbbddc"
      },
      "execution_count": 15,
      "outputs": [
        {
          "output_type": "stream",
          "name": "stdout",
          "text": [
            "this fun call ed at a time of obj print\n"
          ]
        }
      ]
    },
    {
      "cell_type": "code",
      "source": [
        "# we are try to overload str function"
      ],
      "metadata": {
        "id": "zand_mYVxf4V"
      },
      "execution_count": 16,
      "outputs": []
    },
    {
      "cell_type": "code",
      "source": [
        "\"\"\"sqlite\n",
        "sql\n",
        "mangoDB\n",
        "casandra\"\"\""
      ],
      "metadata": {
        "colab": {
          "base_uri": "https://localhost:8080/",
          "height": 35
        },
        "id": "60jk2_HexmGE",
        "outputId": "ffc64d09-d747-4579-ce2a-c83aa13b06d9"
      },
      "execution_count": 17,
      "outputs": [
        {
          "output_type": "execute_result",
          "data": {
            "text/plain": [
              "'sqlite\\nsql\\nmangoDB\\ncasandra'"
            ],
            "application/vnd.google.colaboratory.intrinsic+json": {
              "type": "string"
            }
          },
          "metadata": {},
          "execution_count": 17
        }
      ]
    },
    {
      "cell_type": "code",
      "source": [
        "#sql workbench and mangodb atlas Needs to download"
      ],
      "metadata": {
        "id": "TcvkCLx_ylKt"
      },
      "execution_count": 18,
      "outputs": []
    },
    {
      "cell_type": "code",
      "source": [
        "#datastax casandra"
      ],
      "metadata": {
        "id": "xslBYSrvzAJf"
      },
      "execution_count": 19,
      "outputs": []
    },
    {
      "cell_type": "code",
      "source": [],
      "metadata": {
        "id": "9oC8uLm7zDnf"
      },
      "execution_count": null,
      "outputs": []
    }
  ]
}