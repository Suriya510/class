{
  "nbformat": 4,
  "nbformat_minor": 0,
  "metadata": {
    "colab": {
      "provenance": []
    },
    "kernelspec": {
      "name": "python3",
      "display_name": "Python 3"
    },
    "language_info": {
      "name": "python"
    }
  },
  "cells": [
    {
      "cell_type": "code",
      "execution_count": null,
      "metadata": {
        "id": "zkXuOn3XM85W"
      },
      "outputs": [],
      "source": [
        "#function"
      ]
    },
    {
      "cell_type": "code",
      "source": [
        "len(\"sudh\")"
      ],
      "metadata": {
        "colab": {
          "base_uri": "https://localhost:8080/"
        },
        "id": "yEv3lbh0NlqI",
        "outputId": "caee8a7e-6c80-4e97-aa10-44dda2fcc5fd"
      },
      "execution_count": null,
      "outputs": [
        {
          "output_type": "execute_result",
          "data": {
            "text/plain": [
              "4"
            ]
          },
          "metadata": {},
          "execution_count": 2
        }
      ]
    },
    {
      "cell_type": "code",
      "source": [
        "print(\"suriya\")"
      ],
      "metadata": {
        "colab": {
          "base_uri": "https://localhost:8080/"
        },
        "id": "yP3V18k8Nt3l",
        "outputId": "b00d03b2-68da-49f7-efc9-5f72b380cd01"
      },
      "execution_count": null,
      "outputs": [
        {
          "output_type": "stream",
          "name": "stdout",
          "text": [
            "suriya\n"
          ]
        }
      ]
    },
    {
      "cell_type": "code",
      "source": [
        "def test():\n",
        "  pass"
      ],
      "metadata": {
        "id": "ifcToXx7NwIt"
      },
      "execution_count": null,
      "outputs": []
    },
    {
      "cell_type": "code",
      "source": [
        "def test1():\n",
        "  print(\"this is my 1st function\")"
      ],
      "metadata": {
        "id": "-0v3kpyxOl_W"
      },
      "execution_count": null,
      "outputs": []
    },
    {
      "cell_type": "code",
      "source": [
        "test1()"
      ],
      "metadata": {
        "colab": {
          "base_uri": "https://localhost:8080/"
        },
        "id": "loNSKOXBO2u4",
        "outputId": "ae347253-283f-44f8-dde8-a122759b4614"
      },
      "execution_count": null,
      "outputs": [
        {
          "output_type": "stream",
          "name": "stdout",
          "text": [
            "this is my 1st function\n"
          ]
        }
      ]
    },
    {
      "cell_type": "code",
      "source": [
        "a=test1()"
      ],
      "metadata": {
        "colab": {
          "base_uri": "https://localhost:8080/"
        },
        "id": "VfYdNKvCO4xJ",
        "outputId": "ee76e5b9-e345-4cad-968d-e5ed69b24d8c"
      },
      "execution_count": null,
      "outputs": [
        {
          "output_type": "stream",
          "name": "stdout",
          "text": [
            "this is my 1st function\n"
          ]
        }
      ]
    },
    {
      "cell_type": "code",
      "source": [
        "a+\"sudh\""
      ],
      "metadata": {
        "colab": {
          "base_uri": "https://localhost:8080/",
          "height": 166
        },
        "id": "3yShptPgPaLS",
        "outputId": "2b5b5461-d620-4c07-aff7-b738c48bf808"
      },
      "execution_count": null,
      "outputs": [
        {
          "output_type": "error",
          "ename": "TypeError",
          "evalue": "ignored",
          "traceback": [
            "\u001b[0;31m---------------------------------------------------------------------------\u001b[0m",
            "\u001b[0;31mTypeError\u001b[0m                                 Traceback (most recent call last)",
            "\u001b[0;32m<ipython-input-10-aeefc36060a8>\u001b[0m in \u001b[0;36m<module>\u001b[0;34m\u001b[0m\n\u001b[0;32m----> 1\u001b[0;31m \u001b[0ma\u001b[0m\u001b[0;34m+\u001b[0m\u001b[0;34m\"sudh\"\u001b[0m\u001b[0;34m\u001b[0m\u001b[0;34m\u001b[0m\u001b[0m\n\u001b[0m",
            "\u001b[0;31mTypeError\u001b[0m: unsupported operand type(s) for +: 'NoneType' and 'str'"
          ]
        }
      ]
    },
    {
      "cell_type": "code",
      "source": [
        "type(a)"
      ],
      "metadata": {
        "colab": {
          "base_uri": "https://localhost:8080/"
        },
        "id": "R05T49h1PfkK",
        "outputId": "13d5138d-f8e4-4692-f591-1352503dd523"
      },
      "execution_count": null,
      "outputs": [
        {
          "output_type": "execute_result",
          "data": {
            "text/plain": [
              "NoneType"
            ]
          },
          "metadata": {},
          "execution_count": 11
        }
      ]
    },
    {
      "cell_type": "code",
      "source": [
        "\"sudh\"+\"kumar\""
      ],
      "metadata": {
        "colab": {
          "base_uri": "https://localhost:8080/",
          "height": 35
        },
        "id": "EBwh5AZ2PldW",
        "outputId": "61063f85-692e-49d1-e26e-44df651c846e"
      },
      "execution_count": null,
      "outputs": [
        {
          "output_type": "execute_result",
          "data": {
            "text/plain": [
              "'sudhkumar'"
            ],
            "application/vnd.google.colaboratory.intrinsic+json": {
              "type": "string"
            }
          },
          "metadata": {},
          "execution_count": 12
        }
      ]
    },
    {
      "cell_type": "code",
      "source": [
        "str(a)+\"sudh\""
      ],
      "metadata": {
        "colab": {
          "base_uri": "https://localhost:8080/",
          "height": 35
        },
        "id": "8MlHx7YgPqWY",
        "outputId": "4db5b66f-0b1f-4472-bd73-989a1c9e15c1"
      },
      "execution_count": null,
      "outputs": [
        {
          "output_type": "execute_result",
          "data": {
            "text/plain": [
              "'Nonesudh'"
            ],
            "application/vnd.google.colaboratory.intrinsic+json": {
              "type": "string"
            }
          },
          "metadata": {},
          "execution_count": 13
        }
      ]
    },
    {
      "cell_type": "code",
      "source": [
        "#print always try to return None type"
      ],
      "metadata": {
        "id": "a0S1LcB4P_RH"
      },
      "execution_count": null,
      "outputs": []
    },
    {
      "cell_type": "code",
      "source": [
        "def test2():\n",
        "  return(\"this is my 1st fun\")"
      ],
      "metadata": {
        "id": "2rxLSPiWQIz9"
      },
      "execution_count": null,
      "outputs": []
    },
    {
      "cell_type": "code",
      "source": [
        "type(test2())"
      ],
      "metadata": {
        "colab": {
          "base_uri": "https://localhost:8080/"
        },
        "id": "FImkVTcsQVh5",
        "outputId": "245abe48-8dd3-484f-a818-103bbf6752d7"
      },
      "execution_count": null,
      "outputs": [
        {
          "output_type": "execute_result",
          "data": {
            "text/plain": [
              "str"
            ]
          },
          "metadata": {},
          "execution_count": 16
        }
      ]
    },
    {
      "cell_type": "code",
      "source": [
        "test2()+\"sudh\""
      ],
      "metadata": {
        "colab": {
          "base_uri": "https://localhost:8080/",
          "height": 35
        },
        "id": "03M5YmYPQXk3",
        "outputId": "ed718149-42ee-4915-c1db-0e4d9ce400e2"
      },
      "execution_count": null,
      "outputs": [
        {
          "output_type": "execute_result",
          "data": {
            "text/plain": [
              "'this is my 1st funsudh'"
            ],
            "application/vnd.google.colaboratory.intrinsic+json": {
              "type": "string"
            }
          },
          "metadata": {},
          "execution_count": 17
        }
      ]
    },
    {
      "cell_type": "code",
      "source": [
        "def test3():\n",
        "  return 5674"
      ],
      "metadata": {
        "id": "RbOpRmVUQaUY"
      },
      "execution_count": null,
      "outputs": []
    },
    {
      "cell_type": "code",
      "source": [
        "type(test3())"
      ],
      "metadata": {
        "colab": {
          "base_uri": "https://localhost:8080/"
        },
        "id": "YT2qbtehQfiW",
        "outputId": "78cfe974-e9f8-40b1-a44f-88a113e1876e"
      },
      "execution_count": null,
      "outputs": [
        {
          "output_type": "execute_result",
          "data": {
            "text/plain": [
              "int"
            ]
          },
          "metadata": {},
          "execution_count": 19
        }
      ]
    },
    {
      "cell_type": "code",
      "source": [
        "def test3():\n",
        "  print (5674)"
      ],
      "metadata": {
        "id": "h75C_UDRQhfB"
      },
      "execution_count": null,
      "outputs": []
    },
    {
      "cell_type": "code",
      "source": [
        "type(test3())"
      ],
      "metadata": {
        "colab": {
          "base_uri": "https://localhost:8080/"
        },
        "id": "8JqmOQbHQuru",
        "outputId": "ea380fdc-3a23-496a-f208-da3088204f33"
      },
      "execution_count": null,
      "outputs": [
        {
          "output_type": "stream",
          "name": "stdout",
          "text": [
            "5674\n"
          ]
        },
        {
          "output_type": "execute_result",
          "data": {
            "text/plain": [
              "NoneType"
            ]
          },
          "metadata": {},
          "execution_count": 21
        }
      ]
    },
    {
      "cell_type": "code",
      "source": [
        "def test4():\n",
        "  return 4,3,\"sudh\",[1,2,3,4]"
      ],
      "metadata": {
        "id": "xazFhOFeQwib"
      },
      "execution_count": null,
      "outputs": []
    },
    {
      "cell_type": "code",
      "source": [
        "type(test4())"
      ],
      "metadata": {
        "colab": {
          "base_uri": "https://localhost:8080/"
        },
        "id": "TVIuSyfmRBql",
        "outputId": "d85f6c5a-72ec-4a3c-addb-9d8a79d22bab"
      },
      "execution_count": null,
      "outputs": [
        {
          "output_type": "execute_result",
          "data": {
            "text/plain": [
              "tuple"
            ]
          },
          "metadata": {},
          "execution_count": 23
        }
      ]
    },
    {
      "cell_type": "code",
      "source": [
        "test4()"
      ],
      "metadata": {
        "colab": {
          "base_uri": "https://localhost:8080/"
        },
        "id": "yKfRBpckRDLi",
        "outputId": "0974b2ba-3889-4252-b4a8-5ab138fac702"
      },
      "execution_count": null,
      "outputs": [
        {
          "output_type": "execute_result",
          "data": {
            "text/plain": [
              "(4, 3, 'sudh', [1, 2, 3, 4])"
            ]
          },
          "metadata": {},
          "execution_count": 24
        }
      ]
    },
    {
      "cell_type": "code",
      "source": [
        "b=test4()"
      ],
      "metadata": {
        "id": "D0zgJnDIRIBA"
      },
      "execution_count": null,
      "outputs": []
    },
    {
      "cell_type": "code",
      "source": [
        "b"
      ],
      "metadata": {
        "colab": {
          "base_uri": "https://localhost:8080/"
        },
        "id": "1SF-L2zgRTee",
        "outputId": "c1d92f76-54fc-4b4b-b427-20fb18d6e239"
      },
      "execution_count": null,
      "outputs": [
        {
          "output_type": "execute_result",
          "data": {
            "text/plain": [
              "(4, 3, 'sudh', [1, 2, 3, 4])"
            ]
          },
          "metadata": {},
          "execution_count": 26
        }
      ]
    },
    {
      "cell_type": "code",
      "source": [
        "b[1]"
      ],
      "metadata": {
        "colab": {
          "base_uri": "https://localhost:8080/"
        },
        "id": "S48M-jxGRUSR",
        "outputId": "6ea6bfe1-52a5-49c8-bb42-e09310259c38"
      },
      "execution_count": null,
      "outputs": [
        {
          "output_type": "execute_result",
          "data": {
            "text/plain": [
              "3"
            ]
          },
          "metadata": {},
          "execution_count": 27
        }
      ]
    },
    {
      "cell_type": "code",
      "source": [
        "test4()"
      ],
      "metadata": {
        "colab": {
          "base_uri": "https://localhost:8080/"
        },
        "id": "-F8EuohORZGi",
        "outputId": "87af7663-8c70-4001-850a-42b561b194bc"
      },
      "execution_count": null,
      "outputs": [
        {
          "output_type": "execute_result",
          "data": {
            "text/plain": [
              "(4, 3, 'sudh', [1, 2, 3, 4])"
            ]
          },
          "metadata": {},
          "execution_count": 28
        }
      ]
    },
    {
      "cell_type": "code",
      "source": [
        "a,b,c,d=43,45,\"sudh\",[1,2,3,4]"
      ],
      "metadata": {
        "id": "CPilD_IjRfmb"
      },
      "execution_count": null,
      "outputs": []
    },
    {
      "cell_type": "code",
      "source": [
        "x,y,u,v=test4()"
      ],
      "metadata": {
        "id": "AoFzerlwRsup"
      },
      "execution_count": null,
      "outputs": []
    },
    {
      "cell_type": "code",
      "source": [
        "v"
      ],
      "metadata": {
        "colab": {
          "base_uri": "https://localhost:8080/"
        },
        "id": "-DQcR3_ERw47",
        "outputId": "58a11882-4889-4c0f-f761-a7355c037968"
      },
      "execution_count": null,
      "outputs": [
        {
          "output_type": "execute_result",
          "data": {
            "text/plain": [
              "[1, 2, 3, 4]"
            ]
          },
          "metadata": {},
          "execution_count": 31
        }
      ]
    },
    {
      "cell_type": "code",
      "source": [
        "x,y,u,v,d=test4()"
      ],
      "metadata": {
        "colab": {
          "base_uri": "https://localhost:8080/",
          "height": 166
        },
        "id": "2Q0hauxgSHC8",
        "outputId": "4893d6a8-d0be-4110-a540-82ccf479b428"
      },
      "execution_count": null,
      "outputs": [
        {
          "output_type": "error",
          "ename": "ValueError",
          "evalue": "ignored",
          "traceback": [
            "\u001b[0;31m---------------------------------------------------------------------------\u001b[0m",
            "\u001b[0;31mValueError\u001b[0m                                Traceback (most recent call last)",
            "\u001b[0;32m<ipython-input-32-73d08acbce3b>\u001b[0m in \u001b[0;36m<module>\u001b[0;34m\u001b[0m\n\u001b[0;32m----> 1\u001b[0;31m \u001b[0mx\u001b[0m\u001b[0;34m,\u001b[0m\u001b[0my\u001b[0m\u001b[0;34m,\u001b[0m\u001b[0mu\u001b[0m\u001b[0;34m,\u001b[0m\u001b[0mv\u001b[0m\u001b[0;34m,\u001b[0m\u001b[0md\u001b[0m\u001b[0;34m=\u001b[0m\u001b[0mtest4\u001b[0m\u001b[0;34m(\u001b[0m\u001b[0;34m)\u001b[0m\u001b[0;34m\u001b[0m\u001b[0;34m\u001b[0m\u001b[0m\n\u001b[0m",
            "\u001b[0;31mValueError\u001b[0m: not enough values to unpack (expected 5, got 4)"
          ]
        }
      ]
    },
    {
      "cell_type": "code",
      "source": [
        "test1()"
      ],
      "metadata": {
        "colab": {
          "base_uri": "https://localhost:8080/"
        },
        "id": "z1wGs-75SJyg",
        "outputId": "74f380ee-810e-4cfe-992f-9fac17dc811b"
      },
      "execution_count": null,
      "outputs": [
        {
          "output_type": "stream",
          "name": "stdout",
          "text": [
            "this is my 1st function\n"
          ]
        }
      ]
    },
    {
      "cell_type": "code",
      "source": [
        "a=test1()"
      ],
      "metadata": {
        "colab": {
          "base_uri": "https://localhost:8080/"
        },
        "id": "q14nm5SaSS2J",
        "outputId": "286b31fa-7e11-4764-eb17-665fef9218a0"
      },
      "execution_count": null,
      "outputs": [
        {
          "output_type": "stream",
          "name": "stdout",
          "text": [
            "this is my 1st function\n"
          ]
        }
      ]
    },
    {
      "cell_type": "code",
      "source": [
        "def test5():\n",
        "  a=6*7/6\n",
        "  return a"
      ],
      "metadata": {
        "id": "NjsIipP-SVqZ"
      },
      "execution_count": null,
      "outputs": []
    },
    {
      "cell_type": "code",
      "source": [
        "test5()"
      ],
      "metadata": {
        "colab": {
          "base_uri": "https://localhost:8080/"
        },
        "id": "NldjbqS3SXhW",
        "outputId": "795a6d23-2928-4821-af8e-fe194f89c37c"
      },
      "execution_count": null,
      "outputs": [
        {
          "output_type": "execute_result",
          "data": {
            "text/plain": [
              "7.0"
            ]
          },
          "metadata": {},
          "execution_count": 37
        }
      ]
    },
    {
      "cell_type": "code",
      "source": [
        "a=test5()"
      ],
      "metadata": {
        "id": "SMDqoh-aSkNw"
      },
      "execution_count": null,
      "outputs": []
    },
    {
      "cell_type": "code",
      "source": [
        "a"
      ],
      "metadata": {
        "colab": {
          "base_uri": "https://localhost:8080/"
        },
        "id": "Y5UQSuFhSpL9",
        "outputId": "35173a18-56d6-424f-c9b6-2ef4d2c904db"
      },
      "execution_count": null,
      "outputs": [
        {
          "output_type": "execute_result",
          "data": {
            "text/plain": [
              "7.0"
            ]
          },
          "metadata": {},
          "execution_count": 39
        }
      ]
    },
    {
      "cell_type": "code",
      "source": [
        "len(\"gfasjvkcsn\")"
      ],
      "metadata": {
        "colab": {
          "base_uri": "https://localhost:8080/"
        },
        "id": "Ev5ZjMw8Spvx",
        "outputId": "65c93825-01e5-495d-a597-3e7ea1d488e2"
      },
      "execution_count": null,
      "outputs": [
        {
          "output_type": "execute_result",
          "data": {
            "text/plain": [
              "10"
            ]
          },
          "metadata": {},
          "execution_count": 40
        }
      ]
    },
    {
      "cell_type": "code",
      "source": [
        "l=[3,4,5,6,7,7,\"sudh\",[1,3,4,54,56]]"
      ],
      "metadata": {
        "id": "cZZzyJhLVch4"
      },
      "execution_count": null,
      "outputs": []
    },
    {
      "cell_type": "code",
      "source": [
        "def test6(a):\n",
        "  n=[]\n",
        "  if type(a)==list:\n",
        "    for i in a:\n",
        "      if type(i)==int:\n",
        "        n.append(i)\n",
        "  return n\n"
      ],
      "metadata": {
        "id": "0X24S5NgWUqx"
      },
      "execution_count": null,
      "outputs": []
    },
    {
      "cell_type": "code",
      "source": [
        "test6(l)"
      ],
      "metadata": {
        "colab": {
          "base_uri": "https://localhost:8080/"
        },
        "id": "KHpUZPLYWoh0",
        "outputId": "5e97db8e-b863-44ed-f5ea-050e741c023e"
      },
      "execution_count": null,
      "outputs": [
        {
          "output_type": "execute_result",
          "data": {
            "text/plain": [
              "[3, 4, 5, 6, 7, 7]"
            ]
          },
          "metadata": {},
          "execution_count": 43
        }
      ]
    },
    {
      "cell_type": "code",
      "source": [
        "test6()"
      ],
      "metadata": {
        "colab": {
          "base_uri": "https://localhost:8080/",
          "height": 166
        },
        "id": "9Qykst6fWt0g",
        "outputId": "03c8cca5-10a4-4672-e91a-a951c0d68f8b"
      },
      "execution_count": null,
      "outputs": [
        {
          "output_type": "error",
          "ename": "TypeError",
          "evalue": "ignored",
          "traceback": [
            "\u001b[0;31m---------------------------------------------------------------------------\u001b[0m",
            "\u001b[0;31mTypeError\u001b[0m                                 Traceback (most recent call last)",
            "\u001b[0;32m<ipython-input-44-b3f44c11fe72>\u001b[0m in \u001b[0;36m<module>\u001b[0;34m\u001b[0m\n\u001b[0;32m----> 1\u001b[0;31m \u001b[0mtest6\u001b[0m\u001b[0;34m(\u001b[0m\u001b[0;34m)\u001b[0m\u001b[0;34m\u001b[0m\u001b[0;34m\u001b[0m\u001b[0m\n\u001b[0m",
            "\u001b[0;31mTypeError\u001b[0m: test6() missing 1 required positional argument: 'a'"
          ]
        }
      ]
    },
    {
      "cell_type": "code",
      "source": [
        "len()"
      ],
      "metadata": {
        "colab": {
          "base_uri": "https://localhost:8080/",
          "height": 166
        },
        "id": "M0TkVSFNW-3L",
        "outputId": "7216e5bd-4a84-4225-fad4-f77504c1d72b"
      },
      "execution_count": null,
      "outputs": [
        {
          "output_type": "error",
          "ename": "TypeError",
          "evalue": "ignored",
          "traceback": [
            "\u001b[0;31m---------------------------------------------------------------------------\u001b[0m",
            "\u001b[0;31mTypeError\u001b[0m                                 Traceback (most recent call last)",
            "\u001b[0;32m<ipython-input-46-adf3103c7c3e>\u001b[0m in \u001b[0;36m<module>\u001b[0;34m\u001b[0m\n\u001b[0;32m----> 1\u001b[0;31m \u001b[0mlen\u001b[0m\u001b[0;34m(\u001b[0m\u001b[0;34m)\u001b[0m\u001b[0;34m\u001b[0m\u001b[0;34m\u001b[0m\u001b[0m\n\u001b[0m",
            "\u001b[0;31mTypeError\u001b[0m: len() takes exactly one argument (0 given)"
          ]
        }
      ]
    },
    {
      "cell_type": "code",
      "source": [
        "test6([3,23,45,67,\"gkjshhg\",(2,5,3)])"
      ],
      "metadata": {
        "colab": {
          "base_uri": "https://localhost:8080/"
        },
        "id": "BHr2I2AgXE_7",
        "outputId": "ca78e41a-b0e5-4560-de5e-6241cd4a8e41"
      },
      "execution_count": null,
      "outputs": [
        {
          "output_type": "execute_result",
          "data": {
            "text/plain": [
              "[3, 23, 45, 67]"
            ]
          },
          "metadata": {},
          "execution_count": 47
        }
      ]
    },
    {
      "cell_type": "code",
      "source": [
        "#functions is for reusablity of code"
      ],
      "metadata": {
        "id": "NFFR0o0GXyMx"
      },
      "execution_count": null,
      "outputs": []
    },
    {
      "cell_type": "code",
      "source": [
        "def test8(c):\n",
        "  if type(c)==dict:\n",
        "    return c.keys()\n",
        "  else:\n",
        "    return this is not dict"
      ],
      "metadata": {
        "id": "3lIxqHpmX342"
      },
      "execution_count": null,
      "outputs": []
    },
    {
      "cell_type": "code",
      "source": [
        "test8({\"a\":45,\"b\":67})"
      ],
      "metadata": {
        "colab": {
          "base_uri": "https://localhost:8080/"
        },
        "id": "vcuM1OS4YxZC",
        "outputId": "cb1393bd-6fb3-45b4-efee-3ccce1d0875b"
      },
      "execution_count": null,
      "outputs": [
        {
          "output_type": "execute_result",
          "data": {
            "text/plain": [
              "dict_keys(['a', 'b'])"
            ]
          },
          "metadata": {},
          "execution_count": 51
        }
      ]
    },
    {
      "cell_type": "code",
      "source": [
        "def test9(a,b):\n",
        "  if type(a) and type(b)==list:\n",
        "    return a.extend(b)\n",
        "  else:\n",
        "    return \"not list\"\n"
      ],
      "metadata": {
        "id": "Em6NwyQ5Y79V"
      },
      "execution_count": null,
      "outputs": []
    },
    {
      "cell_type": "code",
      "source": [
        "test9([1,2,3],[4,5,6])"
      ],
      "metadata": {
        "id": "KZ9b4Q5rZdx9"
      },
      "execution_count": null,
      "outputs": []
    },
    {
      "cell_type": "code",
      "source": [
        "n=test9([1,2,3],[4,5,6])"
      ],
      "metadata": {
        "id": "NXko4a5HZjYi"
      },
      "execution_count": null,
      "outputs": []
    },
    {
      "cell_type": "code",
      "source": [
        "n"
      ],
      "metadata": {
        "id": "jRA8y5QCZ44q"
      },
      "execution_count": null,
      "outputs": []
    },
    {
      "cell_type": "code",
      "source": [
        "a=[1,2,3]"
      ],
      "metadata": {
        "id": "snCmnbnnZ5fr"
      },
      "execution_count": null,
      "outputs": []
    },
    {
      "cell_type": "code",
      "source": [
        "b=[4,5,6]"
      ],
      "metadata": {
        "id": "OUtw4SuZZ6HI"
      },
      "execution_count": null,
      "outputs": []
    },
    {
      "cell_type": "code",
      "source": [
        "test9(a,b)"
      ],
      "metadata": {
        "id": "hbKqWhUrZ6Jo"
      },
      "execution_count": null,
      "outputs": []
    },
    {
      "cell_type": "code",
      "source": [
        "a"
      ],
      "metadata": {
        "colab": {
          "base_uri": "https://localhost:8080/"
        },
        "id": "5sq-a9YjZ6NQ",
        "outputId": "b29dcfbf-9e15-4e86-d365-3e1e55f78386"
      },
      "execution_count": null,
      "outputs": [
        {
          "output_type": "execute_result",
          "data": {
            "text/plain": [
              "[1, 2, 3, 4, 5, 6]"
            ]
          },
          "metadata": {},
          "execution_count": 60
        }
      ]
    },
    {
      "cell_type": "code",
      "source": [
        "# we are not storing anyware hence its not showing"
      ],
      "metadata": {
        "id": "5kFpq-5iaGCa"
      },
      "execution_count": null,
      "outputs": []
    },
    {
      "cell_type": "code",
      "source": [
        "def test9(a,b):\n",
        "  if type(a) and type(b)==list:\n",
        "    a.extend(b)\n",
        "    return a\n",
        "  else:\n",
        "    return \"not list\""
      ],
      "metadata": {
        "id": "pqtvoZ2kaKxW"
      },
      "execution_count": null,
      "outputs": []
    },
    {
      "cell_type": "code",
      "source": [
        "test9([56,57],[67,89])"
      ],
      "metadata": {
        "colab": {
          "base_uri": "https://localhost:8080/"
        },
        "id": "O2mO3yjmaU_g",
        "outputId": "1edbef0f-7741-474b-b043-67fe7628d51f"
      },
      "execution_count": null,
      "outputs": [
        {
          "output_type": "execute_result",
          "data": {
            "text/plain": [
              "[56, 57, 67, 89]"
            ]
          },
          "metadata": {},
          "execution_count": 63
        }
      ]
    },
    {
      "cell_type": "code",
      "source": [
        "def test10(a):\n",
        "  for i in range(a+1):\n",
        "      print(\"*\"*i)\n"
      ],
      "metadata": {
        "id": "PX_DcExeaZGq"
      },
      "execution_count": null,
      "outputs": []
    },
    {
      "cell_type": "code",
      "source": [
        "test10(40)"
      ],
      "metadata": {
        "colab": {
          "base_uri": "https://localhost:8080/"
        },
        "id": "3jDFOKp-cVSP",
        "outputId": "2e6c945a-e532-4988-e994-49e518c427c9"
      },
      "execution_count": null,
      "outputs": [
        {
          "output_type": "stream",
          "name": "stdout",
          "text": [
            "\n",
            "*\n",
            "**\n",
            "***\n",
            "****\n",
            "*****\n",
            "******\n",
            "*******\n",
            "********\n",
            "*********\n",
            "**********\n",
            "***********\n",
            "************\n",
            "*************\n",
            "**************\n",
            "***************\n",
            "****************\n",
            "*****************\n",
            "******************\n",
            "*******************\n",
            "********************\n",
            "*********************\n",
            "**********************\n",
            "***********************\n",
            "************************\n",
            "*************************\n",
            "**************************\n",
            "***************************\n",
            "****************************\n",
            "*****************************\n",
            "******************************\n",
            "*******************************\n",
            "********************************\n",
            "*********************************\n",
            "**********************************\n",
            "***********************************\n",
            "************************************\n",
            "*************************************\n",
            "**************************************\n",
            "***************************************\n",
            "****************************************\n"
          ]
        }
      ]
    },
    {
      "cell_type": "code",
      "source": [
        "# create a description for the function we have to use \"\"\" *** \"\"\""
      ],
      "metadata": {
        "id": "Fsowh7lvcXCB"
      },
      "execution_count": null,
      "outputs": []
    },
    {
      "cell_type": "code",
      "source": [
        "def test10(a):\n",
        "  \"\"\"this function help to create triangle\"\"\"\n",
        "  for i in range(a+1):\n",
        "      print(\"*\"*i)"
      ],
      "metadata": {
        "id": "2J0QM2f8d89H"
      },
      "execution_count": null,
      "outputs": []
    },
    {
      "cell_type": "code",
      "source": [
        "test10(5)"
      ],
      "metadata": {
        "colab": {
          "base_uri": "https://localhost:8080/"
        },
        "id": "0fpnM6GbeIsF",
        "outputId": "d1e95754-c4ff-461f-f8d2-536c7b03d32b"
      },
      "execution_count": null,
      "outputs": [
        {
          "output_type": "stream",
          "name": "stdout",
          "text": [
            "\n",
            "*\n",
            "**\n",
            "***\n",
            "****\n",
            "*****\n"
          ]
        }
      ]
    },
    {
      "cell_type": "code",
      "source": [
        "#the above is called doc string"
      ],
      "metadata": {
        "id": "jpxS37q4eMcR"
      },
      "execution_count": null,
      "outputs": []
    },
    {
      "cell_type": "code",
      "source": [
        "help(test10)"
      ],
      "metadata": {
        "colab": {
          "base_uri": "https://localhost:8080/"
        },
        "id": "iMmSyAAXetL1",
        "outputId": "cf682f1f-1139-4a82-ca75-d42af2284136"
      },
      "execution_count": null,
      "outputs": [
        {
          "output_type": "stream",
          "name": "stdout",
          "text": [
            "Help on function test10 in module __main__:\n",
            "\n",
            "test10(a)\n",
            "    this function help to create triangle\n",
            "\n"
          ]
        }
      ]
    },
    {
      "cell_type": "code",
      "source": [
        "#bkacbjdsihb ihasclkbALKH"
      ],
      "metadata": {
        "id": "ZQCrRfwEewaD"
      },
      "execution_count": null,
      "outputs": []
    },
    {
      "cell_type": "code",
      "source": [
        "\"\"\"\n",
        "JVCJKV\n",
        "JVHACJLKBAL\n",
        "JVCJKAV\n",
        "\"\"\""
      ],
      "metadata": {
        "colab": {
          "base_uri": "https://localhost:8080/",
          "height": 35
        },
        "id": "xrR1JcXOewcv",
        "outputId": "dc8a6ca1-e61d-4e99-ff58-427086d484e7"
      },
      "execution_count": null,
      "outputs": [
        {
          "output_type": "execute_result",
          "data": {
            "text/plain": [
              "'\\nJVCJKV\\nJVHACJLKBAL\\nJVCJKAV\\n'"
            ],
            "application/vnd.google.colaboratory.intrinsic+json": {
              "type": "string"
            }
          },
          "metadata": {},
          "execution_count": 90
        }
      ]
    },
    {
      "cell_type": "code",
      "source": [
        "#ABOVE IS CALLED MULTI LINE COMMAND if this inside function that is called doc string"
      ],
      "metadata": {
        "id": "_tIuD4Egewfy"
      },
      "execution_count": null,
      "outputs": []
    },
    {
      "cell_type": "code",
      "source": [
        "\"\"\"\n",
        "1.write a fun which will take str and return len without inbuilt fun len\n",
        "2.print the index of all the premite element which i have to pass\n",
        "3.fun which will take a  dic and give me all the the value even that is nested dict\n",
        "4.write a fun to take a fun as input and return me an output\n",
        "5.multiple list input and concate of all the element\n",
        "6.take list and give the index even if that is repetative\n",
        "7:return the list of all the file name from a directory\n",
        "8.show the system configuration\n",
        "9.show date and time\n",
        "10.read a image and show it to u\n",
        "11.read video and play for me\n",
        "12:move file from ine directory to another\n",
        "13:function to shoutdown the system\n",
        "14.access your email\n",
        "15:send email to another\n",
        "16.read and complete PDF file\n",
        "17:rea a word file\n",
        "18:filter only the word file from directory\n",
        "19:print Ip address of the system\n",
        "20:append PDf file\n",
        "\n",
        "\"\"\""
      ],
      "metadata": {
        "colab": {
          "base_uri": "https://localhost:8080/",
          "height": 209
        },
        "id": "M8hOsPP9fL2-",
        "outputId": "0601d4ed-a90f-482f-bffc-bc64aed307f2"
      },
      "execution_count": null,
      "outputs": [
        {
          "output_type": "execute_result",
          "data": {
            "text/plain": [
              "'\\n1.write a fun which will take str and return len without inbuilt fun len\\n2.print the index of all the premite element which i have to pass\\n3.fun which will take a nested dic and give me all the the value even that is nested dict\\n4.write a fun to take a fun as input and return me an output\\n5.list input and concate of all the element\\n6.take list and give the index even if that is repetative\\n7:return the list of all the file name from a dict\\n8.show the system configuration\\n9.show date and tine\\n10.read a image and show it to u\\n11.read video and play for me\\n12:move file from ine directory to another\\n13:function to shoutdown the system\\n14.access your email\\n15:send email to another\\n16.read and complete PDF file\\n17:rea a word file\\n18:filter only the word file from directory\\n19:print Ip address of the system\\n20:append PDf file\\n\\n'"
            ],
            "application/vnd.google.colaboratory.intrinsic+json": {
              "type": "string"
            }
          },
          "metadata": {},
          "execution_count": 92
        }
      ]
    },
    {
      "cell_type": "code",
      "source": [],
      "metadata": {
        "id": "zv5aTNo_fJuw"
      },
      "execution_count": null,
      "outputs": []
    }
  ]
}