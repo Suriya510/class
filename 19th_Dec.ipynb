{
  "nbformat": 4,
  "nbformat_minor": 0,
  "metadata": {
    "colab": {
      "provenance": []
    },
    "kernelspec": {
      "name": "python3",
      "display_name": "Python 3"
    },
    "language_info": {
      "name": "python"
    }
  },
  "cells": [
    {
      "cell_type": "code",
      "execution_count": 1,
      "metadata": {
        "id": "81LtL3JCG_1U"
      },
      "outputs": [],
      "source": [
        "#if else statement"
      ]
    },
    {
      "cell_type": "code",
      "source": [
        "a=10"
      ],
      "metadata": {
        "id": "K8TknO5zH3jv"
      },
      "execution_count": 2,
      "outputs": []
    },
    {
      "cell_type": "code",
      "source": [
        "a < 15\n"
      ],
      "metadata": {
        "colab": {
          "base_uri": "https://localhost:8080/"
        },
        "id": "zv3YW3LvIAm1",
        "outputId": "7c812b9a-b7cb-4a59-8999-b47f7ff211d0"
      },
      "execution_count": 4,
      "outputs": [
        {
          "output_type": "execute_result",
          "data": {
            "text/plain": [
              "True"
            ]
          },
          "metadata": {},
          "execution_count": 4
        }
      ]
    },
    {
      "cell_type": "code",
      "source": [
        "if a<15:\n",
        "  print(\"my name is suriya\")"
      ],
      "metadata": {
        "colab": {
          "base_uri": "https://localhost:8080/"
        },
        "id": "QlzqPu04IQQ4",
        "outputId": "27a661a8-53e2-4190-bc52-57bf7628ab26"
      },
      "execution_count": 6,
      "outputs": [
        {
          "output_type": "stream",
          "name": "stdout",
          "text": [
            "my name is suriya\n"
          ]
        }
      ]
    },
    {
      "cell_type": "code",
      "source": [
        "if a<15:"
      ],
      "metadata": {
        "colab": {
          "base_uri": "https://localhost:8080/",
          "height": 131
        },
        "id": "aky3MM7vJtcr",
        "outputId": "4896b2ab-e71e-4ae1-fe0c-833ec6581021"
      },
      "execution_count": 7,
      "outputs": [
        {
          "output_type": "error",
          "ename": "SyntaxError",
          "evalue": "ignored",
          "traceback": [
            "\u001b[0;36m  File \u001b[0;32m\"<ipython-input-7-09de981d6239>\"\u001b[0;36m, line \u001b[0;32m1\u001b[0m\n\u001b[0;31m    if a<15:\u001b[0m\n\u001b[0m            ^\u001b[0m\n\u001b[0;31mSyntaxError\u001b[0m\u001b[0;31m:\u001b[0m unexpected EOF while parsing\n"
          ]
        }
      ]
    },
    {
      "cell_type": "code",
      "source": [
        "if a<15:\n",
        "  pass"
      ],
      "metadata": {
        "id": "6u454NPnJ6hY"
      },
      "execution_count": 8,
      "outputs": []
    },
    {
      "cell_type": "code",
      "source": [
        "#if we don want to do anything we can give pass"
      ],
      "metadata": {
        "id": "j4Igq_aIKFhP"
      },
      "execution_count": 9,
      "outputs": []
    },
    {
      "cell_type": "code",
      "source": [
        "if 24<15:\n",
        "  print(\"my name is sudh\")"
      ],
      "metadata": {
        "id": "cfVfEnscKMHs"
      },
      "execution_count": 10,
      "outputs": []
    },
    {
      "cell_type": "code",
      "source": [
        "24<15"
      ],
      "metadata": {
        "colab": {
          "base_uri": "https://localhost:8080/"
        },
        "id": "B-ebXI5lKhxs",
        "outputId": "cffa9ced-cfa4-442d-9bbe-568d4d632d2b"
      },
      "execution_count": 11,
      "outputs": [
        {
          "output_type": "execute_result",
          "data": {
            "text/plain": [
              "False"
            ]
          },
          "metadata": {},
          "execution_count": 11
        }
      ]
    },
    {
      "cell_type": "code",
      "source": [
        "if 10<3:\n",
        "  print(\"10 is lesser than 3\")\n",
        "else:\n",
        "  print(\"if statement is wrong\")"
      ],
      "metadata": {
        "colab": {
          "base_uri": "https://localhost:8080/"
        },
        "id": "i-urrKViKk7k",
        "outputId": "77a7b4f1-1281-4447-cb77-e3423a3f7509"
      },
      "execution_count": 12,
      "outputs": [
        {
          "output_type": "stream",
          "name": "stdout",
          "text": [
            "if statement is wrong\n"
          ]
        }
      ]
    },
    {
      "cell_type": "code",
      "source": [
        "if 5<10:\n",
        "  print(\"5 is lesser than 10\")\n",
        "else:\n",
        "  print(\"if statement is wrong\")"
      ],
      "metadata": {
        "colab": {
          "base_uri": "https://localhost:8080/"
        },
        "id": "DCBE6DP8K30S",
        "outputId": "69d05146-0122-41b3-cecd-cd55e6c0a9fe"
      },
      "execution_count": 13,
      "outputs": [
        {
          "output_type": "stream",
          "name": "stdout",
          "text": [
            "5 is lesser than 10\n"
          ]
        }
      ]
    },
    {
      "cell_type": "code",
      "source": [
        "# we have to maintain intentation(space)"
      ],
      "metadata": {
        "id": "WYnqUcQ6LE-L"
      },
      "execution_count": 14,
      "outputs": []
    },
    {
      "cell_type": "code",
      "source": [
        "if 5<10:\n",
        "  print(\"5 is lesser than 10\")\n",
        "else:\n",
        "print(\"if statement is wrong\")"
      ],
      "metadata": {
        "colab": {
          "base_uri": "https://localhost:8080/",
          "height": 131
        },
        "id": "mj1nMV4SLKTP",
        "outputId": "a6382240-f812-4b5c-fded-10db93766f52"
      },
      "execution_count": 15,
      "outputs": [
        {
          "output_type": "error",
          "ename": "IndentationError",
          "evalue": "ignored",
          "traceback": [
            "\u001b[0;36m  File \u001b[0;32m\"<ipython-input-15-4d622539df2a>\"\u001b[0;36m, line \u001b[0;32m4\u001b[0m\n\u001b[0;31m    print(\"if statement is wrong\")\u001b[0m\n\u001b[0m    ^\u001b[0m\n\u001b[0;31mIndentationError\u001b[0m\u001b[0;31m:\u001b[0m expected an indented block\n"
          ]
        }
      ]
    },
    {
      "cell_type": "code",
      "source": [
        "income=100\n",
        "if income<50:\n",
        "  print(\"i will be able to buy phone\")\n",
        "elif income<70:\n",
        "  print(\"car\")\n",
        "elif income<90:\n",
        "  print(\"house\")\n",
        "else:\n",
        "  print(\"anything\")"
      ],
      "metadata": {
        "colab": {
          "base_uri": "https://localhost:8080/"
        },
        "id": "RJMixrFKLNad",
        "outputId": "37289004-83e3-4b2c-873c-818879e63d21"
      },
      "execution_count": 16,
      "outputs": [
        {
          "output_type": "stream",
          "name": "stdout",
          "text": [
            "anything\n"
          ]
        }
      ]
    },
    {
      "cell_type": "code",
      "source": [
        "income=int(input())\n",
        "if income<50:\n",
        "  print(\"i will be able to buy phone\")\n",
        "elif income<70:\n",
        "  print(\"car\")\n",
        "elif income<90:\n",
        "  print(\"house\")\n",
        "else:\n",
        "  print(\"anything\")"
      ],
      "metadata": {
        "colab": {
          "base_uri": "https://localhost:8080/"
        },
        "id": "YIxPRH76LrYB",
        "outputId": "326d4ceb-e22d-41ec-d993-7a74cb139a0c"
      },
      "execution_count": 17,
      "outputs": [
        {
          "output_type": "stream",
          "name": "stdout",
          "text": [
            "20\n",
            "i will be able to buy phone\n"
          ]
        }
      ]
    },
    {
      "cell_type": "code",
      "source": [
        "a=input()"
      ],
      "metadata": {
        "colab": {
          "base_uri": "https://localhost:8080/"
        },
        "id": "MfJutaNkL88M",
        "outputId": "391b1a07-fd01-4914-bf6a-716bd9e18001"
      },
      "execution_count": 18,
      "outputs": [
        {
          "name": "stdout",
          "output_type": "stream",
          "text": [
            "12\n"
          ]
        }
      ]
    },
    {
      "cell_type": "code",
      "source": [
        "type(a)"
      ],
      "metadata": {
        "colab": {
          "base_uri": "https://localhost:8080/"
        },
        "id": "UXLhPT1sMBeS",
        "outputId": "16f5fad2-f8a9-4f46-858f-adcba9ef933d"
      },
      "execution_count": 19,
      "outputs": [
        {
          "output_type": "execute_result",
          "data": {
            "text/plain": [
              "str"
            ]
          },
          "metadata": {},
          "execution_count": 19
        }
      ]
    },
    {
      "cell_type": "code",
      "source": [
        "Total_price=int(input())\n",
        "if Total_price>20000:\n",
        "  discount= Total_price* .20\n",
        "  print(\"discount will be \",discount)\n",
        "elif Total_price<=7000:\n",
        "  discount= Total_price* .05\n",
        "  print(\"discount will be \",discount)\n",
        "else:\n",
        "  print(\"no discount\")\n"
      ],
      "metadata": {
        "colab": {
          "base_uri": "https://localhost:8080/"
        },
        "id": "HLFFmGsNMDc-",
        "outputId": "64d8afe7-81cf-4a4a-e26d-6e7114c24308"
      },
      "execution_count": 20,
      "outputs": [
        {
          "output_type": "stream",
          "name": "stdout",
          "text": [
            "4565\n",
            "discount will be  228.25\n"
          ]
        }
      ]
    },
    {
      "cell_type": "code",
      "source": [
        "coupon=\"sudhanshu5\"\n",
        "if coupon==\"sudhanshu5\":\n",
        "  print(\"u will be able to get discount 5%\")\n",
        "  paid_amount=7080-(7080*0.05)\n",
        "  print(\"we can get this course for this amount\",paid_amount)\n",
        "else:\n",
        "  print(\"kindly use the valid coupon\")"
      ],
      "metadata": {
        "colab": {
          "base_uri": "https://localhost:8080/"
        },
        "id": "E295Kbp5M6La",
        "outputId": "0c44b25a-a79c-4727-e009-7a3a4ea8e722"
      },
      "execution_count": 24,
      "outputs": [
        {
          "output_type": "stream",
          "name": "stdout",
          "text": [
            "u will be able to get discount 5%\n",
            "we can get this course for this amount 6726.0\n"
          ]
        }
      ]
    },
    {
      "cell_type": "code",
      "source": [
        "#coupon=\"sudhanshu5\"\n",
        "coupon=input(\"code\" )\n",
        "if coupon==\"sudhanshu5\":\n",
        "  print(\"u will be able to get discount 5%\")\n",
        "  paid_amount=7080-(7080*0.05)\n",
        "  print(\"we can get this course for this amount\",paid_amount)\n",
        "else:\n",
        "  print(\"kindly use the valid coupon\")"
      ],
      "metadata": {
        "colab": {
          "base_uri": "https://localhost:8080/"
        },
        "id": "y2aFiO_4OY0s",
        "outputId": "b4e89345-7116-426c-9c84-da1af03d7dce"
      },
      "execution_count": 26,
      "outputs": [
        {
          "output_type": "stream",
          "name": "stdout",
          "text": [
            "codesudhanshu5\n",
            "u will be able to get discount 5%\n",
            "we can get this course for this amount 6726.0\n"
          ]
        }
      ]
    },
    {
      "cell_type": "code",
      "source": [
        "study_hour=float(input())\n",
        "if study_hour<1:\n",
        "  print(\"8 to 9 months for transition\")\n",
        "elif study_hour<4 and study_hour>1:\n",
        "  print(\"6 months\")\n",
        "elif study_hour>10:\n",
        "  print(\"3months\")\n",
        "else:\n",
        "  print(\"not possible\")"
      ],
      "metadata": {
        "colab": {
          "base_uri": "https://localhost:8080/"
        },
        "id": "RFTGGMZiOq_g",
        "outputId": "db8d5d37-cb3f-4e0b-8ed4-6f15c8871618"
      },
      "execution_count": 34,
      "outputs": [
        {
          "output_type": "stream",
          "name": "stdout",
          "text": [
            "3\n",
            "6 months\n"
          ]
        }
      ]
    },
    {
      "cell_type": "code",
      "source": [
        "a=9\n",
        "if a==9:print(\"valid\")"
      ],
      "metadata": {
        "colab": {
          "base_uri": "https://localhost:8080/"
        },
        "id": "qlawNdN2QOCN",
        "outputId": "0b7ad1e5-29be-4d7d-8650-0cc1f164bbdb"
      },
      "execution_count": 35,
      "outputs": [
        {
          "output_type": "stream",
          "name": "stdout",
          "text": [
            "valid\n"
          ]
        }
      ]
    },
    {
      "cell_type": "code",
      "source": [
        "# above is correct but intentation is must"
      ],
      "metadata": {
        "id": "7ufNDNLiQ_15"
      },
      "execution_count": 36,
      "outputs": []
    },
    {
      "cell_type": "code",
      "source": [
        "#nested if and elif statement"
      ],
      "metadata": {
        "id": "eiYKPIQtREw4"
      },
      "execution_count": 37,
      "outputs": []
    },
    {
      "cell_type": "code",
      "source": [
        "s=input()\n",
        "course=input(\"cname\" )\n",
        "service=input(\"service\" )\n",
        "if s==\"oneneuron\":\n",
        "  if course==\"DSA\":\n",
        "    print(\"yes its available under one neuron and in multiple mode for job preparation\")\n",
        "  elif course==\"Blockchain\":\n",
        "    print(\"raise demand\")\n",
        "  elif course==\"FSDS\":\n",
        "    print(\"yes its available,start study\")\n",
        "  else:\n",
        "    print(\"kindly raise demand\")\n",
        "elif s == \"oneneuronservices\":\n",
        "  if service==\"courserequest\":\n",
        "    print(\"raise request\")\n",
        "  elif service==\"module\":\n",
        "    print(\"raise demand\")\n",
        "  elif service==\"doubt\":\n",
        "    print(\"with in 24 hr\")\n",
        "  elif service==\"workwithus\":\n",
        "    print(\"ok\")\n",
        "else:\n",
        "  print(\"connect with our team\")\n",
        "  "
      ],
      "metadata": {
        "colab": {
          "base_uri": "https://localhost:8080/"
        },
        "id": "Z6q40_I1RIq-",
        "outputId": "71834fa7-03a0-41bf-d3e5-29c6f9d3f9b7"
      },
      "execution_count": 40,
      "outputs": [
        {
          "output_type": "stream",
          "name": "stdout",
          "text": [
            "oneneuron\n",
            "cnamefsds\n",
            "service\n",
            "kindly raise demand\n"
          ]
        }
      ]
    },
    {
      "cell_type": "code",
      "source": [
        "# there is no restriction to maintain the hirarchi"
      ],
      "metadata": {
        "id": "VkNc_CFcSazR"
      },
      "execution_count": 41,
      "outputs": []
    },
    {
      "cell_type": "code",
      "source": [
        "a=10"
      ],
      "metadata": {
        "id": "p-oiX3qKUwf1"
      },
      "execution_count": 42,
      "outputs": []
    },
    {
      "cell_type": "code",
      "source": [
        "type(a)"
      ],
      "metadata": {
        "colab": {
          "base_uri": "https://localhost:8080/"
        },
        "id": "K8NUnRymVYXg",
        "outputId": "f4984c1d-99b8-4219-d1a6-caedfa5c54b6"
      },
      "execution_count": 46,
      "outputs": [
        {
          "output_type": "execute_result",
          "data": {
            "text/plain": [
              "int"
            ]
          },
          "metadata": {},
          "execution_count": 46
        }
      ]
    },
    {
      "cell_type": "code",
      "source": [
        "\"suriya\".isalpha()"
      ],
      "metadata": {
        "colab": {
          "base_uri": "https://localhost:8080/"
        },
        "id": "Eeltd9cdVbF8",
        "outputId": "253c6f10-328f-42e2-d32b-6df51eda11d0"
      },
      "execution_count": 47,
      "outputs": [
        {
          "output_type": "execute_result",
          "data": {
            "text/plain": [
              "True"
            ]
          },
          "metadata": {},
          "execution_count": 47
        }
      ]
    },
    {
      "cell_type": "code",
      "source": [
        "a.real\n"
      ],
      "metadata": {
        "colab": {
          "base_uri": "https://localhost:8080/"
        },
        "id": "weTp7PKxZCNA",
        "outputId": "bdabf7a3-ebd2-4253-8570-d2e91ab6b96c"
      },
      "execution_count": 50,
      "outputs": [
        {
          "output_type": "execute_result",
          "data": {
            "text/plain": [
              "10"
            ]
          },
          "metadata": {},
          "execution_count": 50
        }
      ]
    },
    {
      "cell_type": "code",
      "source": [
        "a=\"suriya\""
      ],
      "metadata": {
        "id": "1s1evtNTZFIH"
      },
      "execution_count": 51,
      "outputs": []
    },
    {
      "cell_type": "code",
      "source": [
        "a.isalpha()"
      ],
      "metadata": {
        "colab": {
          "base_uri": "https://localhost:8080/"
        },
        "id": "VQCuM4vPZnqX",
        "outputId": "69248745-545c-488e-eba5-0de2781f6811"
      },
      "execution_count": 52,
      "outputs": [
        {
          "output_type": "execute_result",
          "data": {
            "text/plain": [
              "True"
            ]
          },
          "metadata": {},
          "execution_count": 52
        }
      ]
    },
    {
      "cell_type": "code",
      "source": [
        "a.istitle()"
      ],
      "metadata": {
        "colab": {
          "base_uri": "https://localhost:8080/"
        },
        "id": "exeNijR5ZqEd",
        "outputId": "1933ecfa-bb9a-46d9-f59e-2784ae4fdfdb"
      },
      "execution_count": 53,
      "outputs": [
        {
          "output_type": "execute_result",
          "data": {
            "text/plain": [
              "False"
            ]
          },
          "metadata": {},
          "execution_count": 53
        }
      ]
    },
    {
      "cell_type": "code",
      "source": [
        "a=10"
      ],
      "metadata": {
        "id": "40Hm5WVRZs6g"
      },
      "execution_count": 54,
      "outputs": []
    },
    {
      "cell_type": "code",
      "source": [
        "l=[1,2,3,4,5,6,7]"
      ],
      "metadata": {
        "id": "zTQOVMjeZufh"
      },
      "execution_count": 62,
      "outputs": []
    },
    {
      "cell_type": "code",
      "source": [
        "for i in l:\n",
        "  print(i)"
      ],
      "metadata": {
        "colab": {
          "base_uri": "https://localhost:8080/"
        },
        "id": "hY8YB-E6Zvpb",
        "outputId": "e7f3ceb0-394f-4fdc-a886-42cfcf21e2e4"
      },
      "execution_count": 66,
      "outputs": [
        {
          "output_type": "stream",
          "name": "stdout",
          "text": [
            "1\n",
            "2\n",
            "3\n",
            "4\n",
            "5\n",
            "6\n",
            "7\n"
          ]
        }
      ]
    },
    {
      "cell_type": "code",
      "source": [
        "s=\"sudh\""
      ],
      "metadata": {
        "id": "hZxzfdaRZ7fF"
      },
      "execution_count": 67,
      "outputs": []
    },
    {
      "cell_type": "code",
      "source": [
        "for i in s:\n",
        "  print(i)"
      ],
      "metadata": {
        "colab": {
          "base_uri": "https://localhost:8080/"
        },
        "id": "1cEwoAera2ux",
        "outputId": "5d34f895-2c7a-4f16-d66e-eb5f17f2af0b"
      },
      "execution_count": 68,
      "outputs": [
        {
          "output_type": "stream",
          "name": "stdout",
          "text": [
            "s\n",
            "u\n",
            "d\n",
            "h\n"
          ]
        }
      ]
    },
    {
      "cell_type": "code",
      "source": [
        "#one by one will access from collection"
      ],
      "metadata": {
        "id": "-RT-OX5aa5-k"
      },
      "execution_count": 69,
      "outputs": []
    },
    {
      "cell_type": "code",
      "source": [
        "t=(1,2,3,4,5)"
      ],
      "metadata": {
        "id": "Z2UhoIU2bD-8"
      },
      "execution_count": 70,
      "outputs": []
    },
    {
      "cell_type": "code",
      "source": [
        "for i in t:\n",
        "  print(i)"
      ],
      "metadata": {
        "colab": {
          "base_uri": "https://localhost:8080/"
        },
        "id": "pOANVroWbMiA",
        "outputId": "64e723b0-4c5b-4d9f-b787-01f294518193"
      },
      "execution_count": 71,
      "outputs": [
        {
          "output_type": "stream",
          "name": "stdout",
          "text": [
            "1\n",
            "2\n",
            "3\n",
            "4\n",
            "5\n"
          ]
        }
      ]
    },
    {
      "cell_type": "code",
      "source": [
        "# it will work with tuple also"
      ],
      "metadata": {
        "id": "8Utbwf_xbO_4"
      },
      "execution_count": 72,
      "outputs": []
    },
    {
      "cell_type": "code",
      "source": [
        "l=[1,4,5.6,7.8,\"sudh\"]"
      ],
      "metadata": {
        "id": "5SIs2MGMbSeF"
      },
      "execution_count": 73,
      "outputs": []
    },
    {
      "cell_type": "code",
      "source": [
        "for i in l:\n",
        "  print(\"type of\",i,type(i))"
      ],
      "metadata": {
        "colab": {
          "base_uri": "https://localhost:8080/"
        },
        "id": "Fw5abiMpbW-0",
        "outputId": "3b522544-e7d6-4c8d-b99a-e33d49ae86cc"
      },
      "execution_count": 80,
      "outputs": [
        {
          "output_type": "stream",
          "name": "stdout",
          "text": [
            "type of 1 <class 'int'>\n",
            "type of 4 <class 'int'>\n",
            "type of 5.6 <class 'float'>\n",
            "type of 7.8 <class 'float'>\n",
            "type of sudh <class 'str'>\n"
          ]
        }
      ]
    },
    {
      "cell_type": "code",
      "source": [
        "l"
      ],
      "metadata": {
        "colab": {
          "base_uri": "https://localhost:8080/"
        },
        "id": "32jzeuMdbbg_",
        "outputId": "78048155-3464-4fe6-8441-f17dade8b4d6"
      },
      "execution_count": 81,
      "outputs": [
        {
          "output_type": "execute_result",
          "data": {
            "text/plain": [
              "[1, 4, 5.6, 7.8, 'sudh']"
            ]
          },
          "metadata": {},
          "execution_count": 81
        }
      ]
    },
    {
      "cell_type": "code",
      "source": [
        "l=[1,3,4,5.6,7.8]"
      ],
      "metadata": {
        "id": "fRZAAGfWb8nP"
      },
      "execution_count": 82,
      "outputs": []
    },
    {
      "cell_type": "code",
      "source": [
        "for i in l:\n",
        "  print(i+2)"
      ],
      "metadata": {
        "colab": {
          "base_uri": "https://localhost:8080/"
        },
        "id": "sAHtHw2gcB39",
        "outputId": "9f2053c3-a3ef-4fd8-8868-36a9e7c21a83"
      },
      "execution_count": 83,
      "outputs": [
        {
          "output_type": "stream",
          "name": "stdout",
          "text": [
            "3\n",
            "5\n",
            "6\n",
            "7.6\n",
            "9.8\n"
          ]
        }
      ]
    },
    {
      "cell_type": "code",
      "source": [
        "l1=[]\n",
        "for i in l:\n",
        "  print(i+2)\n",
        "  l1.append(i+2)\n",
        "print(l1)"
      ],
      "metadata": {
        "colab": {
          "base_uri": "https://localhost:8080/"
        },
        "id": "Ny-wcr8ScFsA",
        "outputId": "45b98e44-a8fe-462c-e506-5f11cef9e65a"
      },
      "execution_count": 88,
      "outputs": [
        {
          "output_type": "stream",
          "name": "stdout",
          "text": [
            "3\n",
            "5\n",
            "6\n",
            "7.6\n",
            "9.8\n",
            "[3, 5, 6, 7.6, 9.8]\n"
          ]
        }
      ]
    },
    {
      "cell_type": "code",
      "source": [
        "l1"
      ],
      "metadata": {
        "colab": {
          "base_uri": "https://localhost:8080/"
        },
        "id": "SX-4HudpcXpb",
        "outputId": "c1ded654-7c60-4246-e1e7-dd1462b2d863"
      },
      "execution_count": 89,
      "outputs": [
        {
          "output_type": "execute_result",
          "data": {
            "text/plain": [
              "[3, 5, 6, 7.6, 9.8]"
            ]
          },
          "metadata": {},
          "execution_count": 89
        }
      ]
    },
    {
      "cell_type": "code",
      "source": [
        "l=[2,45,65,\"sudh\",6+7j,[56,7,2]]"
      ],
      "metadata": {
        "id": "KM5NP_tacZga"
      },
      "execution_count": 90,
      "outputs": []
    },
    {
      "cell_type": "code",
      "source": [
        "for i in l:\n",
        "  if type(i)==int:\n",
        "    print(i)"
      ],
      "metadata": {
        "colab": {
          "base_uri": "https://localhost:8080/"
        },
        "id": "cJcp04Rtcxdf",
        "outputId": "fe4cb31b-5121-4b07-ca99-99bfdb136b13"
      },
      "execution_count": 91,
      "outputs": [
        {
          "output_type": "stream",
          "name": "stdout",
          "text": [
            "2\n",
            "45\n",
            "65\n"
          ]
        }
      ]
    },
    {
      "cell_type": "code",
      "source": [
        "#forelse only in python"
      ],
      "metadata": {
        "id": "cRuPE9-rc2X0"
      },
      "execution_count": 92,
      "outputs": []
    },
    {
      "cell_type": "code",
      "source": [
        "for i in l:\n",
        "  if type(i)==int:\n",
        "    print(i)\n",
        "  elif type(i)==list:\n",
        "    for j in i:\n",
        "      if type(j)==int:\n",
        "        print(j)"
      ],
      "metadata": {
        "colab": {
          "base_uri": "https://localhost:8080/"
        },
        "id": "lCUEMaAmeBnq",
        "outputId": "43ec9269-311b-466e-a98a-dbeb70cb0e2b"
      },
      "execution_count": 95,
      "outputs": [
        {
          "output_type": "stream",
          "name": "stdout",
          "text": [
            "2\n",
            "45\n",
            "65\n",
            "56\n",
            "7\n",
            "2\n"
          ]
        }
      ]
    },
    {
      "cell_type": "code",
      "source": [
        "l"
      ],
      "metadata": {
        "colab": {
          "base_uri": "https://localhost:8080/"
        },
        "id": "5DmcDC6vgQ2L",
        "outputId": "51c9c1e3-e04b-4cf7-c07b-bc23cb20069e"
      },
      "execution_count": 96,
      "outputs": [
        {
          "output_type": "execute_result",
          "data": {
            "text/plain": [
              "[2, 45, 65, 'sudh', (6+7j), [56, 7, 2]]"
            ]
          },
          "metadata": {},
          "execution_count": 96
        }
      ]
    },
    {
      "cell_type": "code",
      "source": [
        "#\n",
        "#index\n",
        "#if string extract\n",
        "#return list after doing square"
      ],
      "metadata": {
        "id": "5obNHuNEgbef"
      },
      "execution_count": 98,
      "outputs": []
    },
    {
      "cell_type": "code",
      "source": [
        "l=[2, 45,2,2, 65, 'sudh', (6+7j), [56, 7, 2]]"
      ],
      "metadata": {
        "id": "6F8I2ZLig1zj"
      },
      "execution_count": 110,
      "outputs": []
    },
    {
      "cell_type": "code",
      "source": [
        "for i in l:\n",
        "  print(l.index(i))"
      ],
      "metadata": {
        "colab": {
          "base_uri": "https://localhost:8080/"
        },
        "id": "jq65nSZQhAF8",
        "outputId": "3a7ef3bf-d364-454f-9073-a37a220b1478"
      },
      "execution_count": 111,
      "outputs": [
        {
          "output_type": "stream",
          "name": "stdout",
          "text": [
            "0\n",
            "1\n",
            "0\n",
            "0\n",
            "4\n",
            "5\n",
            "6\n",
            "7\n"
          ]
        }
      ]
    },
    {
      "cell_type": "code",
      "source": [
        "for i in l:\n",
        "  if type(i)==str:\n",
        "    print(i)"
      ],
      "metadata": {
        "colab": {
          "base_uri": "https://localhost:8080/"
        },
        "id": "_hdk5wtNhFN8",
        "outputId": "e1be078e-1dd4-4293-d807-9e3c57a97fe2"
      },
      "execution_count": 112,
      "outputs": [
        {
          "output_type": "stream",
          "name": "stdout",
          "text": [
            "sudh\n"
          ]
        }
      ]
    },
    {
      "cell_type": "code",
      "source": [
        "for i in l:\n",
        "  if type(i)==int:\n",
        "    print(i*i)"
      ],
      "metadata": {
        "colab": {
          "base_uri": "https://localhost:8080/"
        },
        "id": "WiRdEZ3mh5_8",
        "outputId": "fcc28392-dada-4776-91c5-a371f7f95171"
      },
      "execution_count": 113,
      "outputs": [
        {
          "output_type": "stream",
          "name": "stdout",
          "text": [
            "4\n",
            "2025\n",
            "4\n",
            "4\n",
            "4225\n"
          ]
        }
      ]
    },
    {
      "cell_type": "code",
      "source": [
        "#if we have the same value more than once that will give the correct index so we have to find length and itterate"
      ],
      "metadata": {
        "id": "sX2d_BexiAH1"
      },
      "execution_count": 114,
      "outputs": []
    },
    {
      "cell_type": "code",
      "source": [
        "for i in range(len(l)):\n",
        "  print(\"index\",i,\"for an element\",l[i])"
      ],
      "metadata": {
        "colab": {
          "base_uri": "https://localhost:8080/"
        },
        "id": "9Ok1ZPnyiB5-",
        "outputId": "594eaa23-8232-41d4-83ed-a321d4082e02"
      },
      "execution_count": 115,
      "outputs": [
        {
          "output_type": "stream",
          "name": "stdout",
          "text": [
            "index 0 for an element 2\n",
            "index 1 for an element 45\n",
            "index 2 for an element 2\n",
            "index 3 for an element 2\n",
            "index 4 for an element 65\n",
            "index 5 for an element sudh\n",
            "index 6 for an element (6+7j)\n",
            "index 7 for an element [56, 7, 2]\n"
          ]
        }
      ]
    },
    {
      "cell_type": "code",
      "source": [
        "# or we have use enumarate"
      ],
      "metadata": {
        "id": "hfHSDhWwknO-"
      },
      "execution_count": 116,
      "outputs": []
    },
    {
      "cell_type": "code",
      "source": [
        "for i in enumerate(l):\n",
        "  print(i)"
      ],
      "metadata": {
        "colab": {
          "base_uri": "https://localhost:8080/"
        },
        "id": "uoccGZArkxpa",
        "outputId": "657f5ebc-f0ed-4a36-8e4f-d34afd68f069"
      },
      "execution_count": 118,
      "outputs": [
        {
          "output_type": "stream",
          "name": "stdout",
          "text": [
            "(0, 2)\n",
            "(1, 45)\n",
            "(2, 2)\n",
            "(3, 2)\n",
            "(4, 65)\n",
            "(5, 'sudh')\n",
            "(6, (6+7j))\n",
            "(7, [56, 7, 2])\n"
          ]
        }
      ]
    },
    {
      "cell_type": "code",
      "source": [
        "for i,j in enumerate(l):\n",
        "  print(i,j)"
      ],
      "metadata": {
        "colab": {
          "base_uri": "https://localhost:8080/"
        },
        "id": "Fz_jCt7Fk26K",
        "outputId": "bf106bab-0ba0-40ae-bb10-5076901bec15"
      },
      "execution_count": 123,
      "outputs": [
        {
          "output_type": "stream",
          "name": "stdout",
          "text": [
            "0 2\n",
            "1 45\n",
            "2 2\n",
            "3 2\n",
            "4 65\n",
            "5 sudh\n",
            "6 (6+7j)\n",
            "7 [56, 7, 2]\n"
          ]
        }
      ]
    },
    {
      "cell_type": "code",
      "source": [
        "l"
      ],
      "metadata": {
        "colab": {
          "base_uri": "https://localhost:8080/"
        },
        "id": "u9aRKpgflDlD",
        "outputId": "634cee9e-9a3d-49bf-aecb-e7835ce05d4a"
      },
      "execution_count": 124,
      "outputs": [
        {
          "output_type": "execute_result",
          "data": {
            "text/plain": [
              "[2, 45, 2, 2, 65, 'sudh', (6+7j), [56, 7, 2]]"
            ]
          },
          "metadata": {},
          "execution_count": 124
        }
      ]
    },
    {
      "cell_type": "code",
      "source": [
        "l1=[]\n",
        "for i in l:\n",
        "  if type(i)==str:\n",
        "    for j in i: \n",
        "      l1.append(j)"
      ],
      "metadata": {
        "id": "dIUUbIm7pU2z"
      },
      "execution_count": 127,
      "outputs": []
    },
    {
      "cell_type": "code",
      "source": [
        "l1"
      ],
      "metadata": {
        "colab": {
          "base_uri": "https://localhost:8080/"
        },
        "id": "YAM-JjwApib7",
        "outputId": "33f194a2-e753-4373-8961-65cbda6e66ac"
      },
      "execution_count": 128,
      "outputs": [
        {
          "output_type": "execute_result",
          "data": {
            "text/plain": [
              "['s', 'u', 'd', 'h']"
            ]
          },
          "metadata": {},
          "execution_count": 128
        }
      ]
    },
    {
      "cell_type": "code",
      "source": [
        "l=[1,2,3,\"sudh\",\"suri\"]"
      ],
      "metadata": {
        "id": "ZknFH_T3pjVn"
      },
      "execution_count": 129,
      "outputs": []
    },
    {
      "cell_type": "code",
      "source": [
        "l1=[]\n",
        "for i in l:\n",
        "  if type(i)==str:\n",
        "    for j in i: \n",
        "      l1.append(j)"
      ],
      "metadata": {
        "id": "6mWG_jxnqX27"
      },
      "execution_count": 130,
      "outputs": []
    },
    {
      "cell_type": "code",
      "source": [
        "l1"
      ],
      "metadata": {
        "colab": {
          "base_uri": "https://localhost:8080/"
        },
        "id": "2mkgqXNHqZV3",
        "outputId": "43a8332b-e516-4a7d-b420-26b972955161"
      },
      "execution_count": 131,
      "outputs": [
        {
          "output_type": "execute_result",
          "data": {
            "text/plain": [
              "['s', 'u', 'd', 'h', 's', 'u', 'r', 'i']"
            ]
          },
          "metadata": {},
          "execution_count": 131
        }
      ]
    },
    {
      "cell_type": "code",
      "source": [
        "l=[1,2,3,\"sudh\",\"suri\"]"
      ],
      "metadata": {
        "id": "bEVpoCgxqaFf"
      },
      "execution_count": 134,
      "outputs": []
    },
    {
      "cell_type": "code",
      "source": [
        "\n",
        "for i in l:\n",
        "  if type(i)==str:\n",
        "    l3=[]\n",
        "    for j in i: \n",
        "      l3.append(j)\n",
        "    print(l3)"
      ],
      "metadata": {
        "colab": {
          "base_uri": "https://localhost:8080/"
        },
        "id": "6Rk5Q8pGqfa5",
        "outputId": "0bccd0a6-df87-445a-b72b-d2e10a0b3d4e"
      },
      "execution_count": 145,
      "outputs": [
        {
          "output_type": "stream",
          "name": "stdout",
          "text": [
            "['s', 'u', 'd', 'h']\n",
            "['s', 'u', 'r', 'i']\n"
          ]
        }
      ]
    },
    {
      "cell_type": "code",
      "source": [
        "l3=[]\n",
        "for i in l:\n",
        "  if type(i)==str:\n",
        "    for j in i: \n",
        "      l3.append(j)\n",
        "    print(l3)"
      ],
      "metadata": {
        "colab": {
          "base_uri": "https://localhost:8080/"
        },
        "id": "ZTYKAy_Bqi9O",
        "outputId": "5f1639b9-d4a4-4cd1-9d8a-6fd4396c6e18"
      },
      "execution_count": 146,
      "outputs": [
        {
          "output_type": "stream",
          "name": "stdout",
          "text": [
            "['s', 'u', 'd', 'h']\n",
            "['s', 'u', 'd', 'h', 's', 'u', 'r', 'i']\n"
          ]
        }
      ]
    },
    {
      "cell_type": "code",
      "source": [
        "l"
      ],
      "metadata": {
        "colab": {
          "base_uri": "https://localhost:8080/"
        },
        "id": "5mV_-TZZrXpn",
        "outputId": "aba18464-d68f-4b26-db8b-a6531ab8694e"
      },
      "execution_count": 147,
      "outputs": [
        {
          "output_type": "execute_result",
          "data": {
            "text/plain": [
              "[1, 2, 3, 'sudh', 'suri']"
            ]
          },
          "metadata": {},
          "execution_count": 147
        }
      ]
    },
    {
      "cell_type": "code",
      "source": [
        "l1=[]\n",
        "for i in l:\n",
        "  if type(i)==int:\n",
        "    l1.append(i**2)\n",
        "l1"
      ],
      "metadata": {
        "colab": {
          "base_uri": "https://localhost:8080/"
        },
        "id": "K8ITWNzrsJBg",
        "outputId": "b6722f40-a724-4030-b058-e8c49698eb8e"
      },
      "execution_count": 154,
      "outputs": [
        {
          "output_type": "execute_result",
          "data": {
            "text/plain": [
              "[1, 4, 9]"
            ]
          },
          "metadata": {},
          "execution_count": 154
        }
      ]
    },
    {
      "cell_type": "code",
      "source": [],
      "metadata": {
        "id": "2nPmCH9KsXFH"
      },
      "execution_count": null,
      "outputs": []
    }
  ]
}