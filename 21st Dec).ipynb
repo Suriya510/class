{
  "nbformat": 4,
  "nbformat_minor": 0,
  "metadata": {
    "colab": {
      "provenance": []
    },
    "kernelspec": {
      "name": "python3",
      "display_name": "Python 3"
    },
    "language_info": {
      "name": "python"
    }
  },
  "cells": [
    {
      "cell_type": "code",
      "execution_count": null,
      "metadata": {
        "id": "bEPIXJbmhbAS"
      },
      "outputs": [],
      "source": [
        "s=\"this is basic python class\""
      ]
    },
    {
      "cell_type": "code",
      "source": [
        "len(s)"
      ],
      "metadata": {
        "colab": {
          "base_uri": "https://localhost:8080/"
        },
        "id": "PFpPt6ZqiMc9",
        "outputId": "f678de84-37ca-4990-a4f3-a07c408276d7"
      },
      "execution_count": null,
      "outputs": [
        {
          "output_type": "execute_result",
          "data": {
            "text/plain": [
              "26"
            ]
          },
          "metadata": {},
          "execution_count": 2
        }
      ]
    },
    {
      "cell_type": "code",
      "source": [
        "count=0\n",
        "for i in s:\n",
        "  count=count+1\n",
        "print(count)\n"
      ],
      "metadata": {
        "colab": {
          "base_uri": "https://localhost:8080/"
        },
        "id": "E2kQBbk1iRKH",
        "outputId": "d011d7fd-8b6a-446c-8da2-771065173171"
      },
      "execution_count": null,
      "outputs": [
        {
          "output_type": "stream",
          "name": "stdout",
          "text": [
            "26\n"
          ]
        }
      ]
    },
    {
      "cell_type": "code",
      "source": [
        "s[::-1]"
      ],
      "metadata": {
        "colab": {
          "base_uri": "https://localhost:8080/",
          "height": 35
        },
        "id": "7nL66Sc8ifa4",
        "outputId": "b5a46326-b2bb-43d6-fd68-def7380e6372"
      },
      "execution_count": null,
      "outputs": [
        {
          "output_type": "execute_result",
          "data": {
            "text/plain": [
              "'ssalc nohtyp cisab si siht'"
            ],
            "application/vnd.google.colaboratory.intrinsic+json": {
              "type": "string"
            }
          },
          "metadata": {},
          "execution_count": 7
        }
      ]
    },
    {
      "cell_type": "code",
      "source": [
        "for i in range(len(s)-1,-1,-1):\n",
        "  print(s[i])"
      ],
      "metadata": {
        "colab": {
          "base_uri": "https://localhost:8080/"
        },
        "id": "UJICsP-qiwdS",
        "outputId": "df7eb3c6-5ca6-4a6a-ac86-53396f47c515"
      },
      "execution_count": null,
      "outputs": [
        {
          "output_type": "stream",
          "name": "stdout",
          "text": [
            "s\n",
            "s\n",
            "a\n",
            "l\n",
            "c\n",
            " \n",
            "n\n",
            "o\n",
            "h\n",
            "t\n",
            "y\n",
            "p\n",
            " \n",
            "c\n",
            "i\n",
            "s\n",
            "a\n",
            "b\n",
            " \n",
            "s\n",
            "i\n",
            " \n",
            "s\n",
            "i\n",
            "h\n",
            "t\n"
          ]
        }
      ]
    },
    {
      "cell_type": "code",
      "source": [
        "s"
      ],
      "metadata": {
        "colab": {
          "base_uri": "https://localhost:8080/",
          "height": 35
        },
        "id": "jvJMNYwcjfL8",
        "outputId": "19627429-bcc2-4c84-94cf-dadc73091db8"
      },
      "execution_count": null,
      "outputs": [
        {
          "output_type": "execute_result",
          "data": {
            "text/plain": [
              "'this is basic python class'"
            ],
            "application/vnd.google.colaboratory.intrinsic+json": {
              "type": "string"
            }
          },
          "metadata": {},
          "execution_count": 12
        }
      ]
    },
    {
      "cell_type": "code",
      "source": [
        "len(s)"
      ],
      "metadata": {
        "colab": {
          "base_uri": "https://localhost:8080/"
        },
        "id": "X7LEhsoYjzBG",
        "outputId": "f152bc69-10c7-4685-ff54-3d7eeb577c2a"
      },
      "execution_count": null,
      "outputs": [
        {
          "output_type": "execute_result",
          "data": {
            "text/plain": [
              "26"
            ]
          },
          "metadata": {},
          "execution_count": 13
        }
      ]
    },
    {
      "cell_type": "code",
      "source": [
        "i=len(s)-1\n",
        "while(i>=0):\n",
        "  print(s[i],end=\" \")\n",
        "  i=i-1"
      ],
      "metadata": {
        "colab": {
          "base_uri": "https://localhost:8080/"
        },
        "id": "ggSMx8gvj6hG",
        "outputId": "53a189c6-3570-473f-c49a-8db4fc86af63"
      },
      "execution_count": null,
      "outputs": [
        {
          "output_type": "stream",
          "name": "stdout",
          "text": [
            "s s a l c   n o h t y p   c i s a b   s i   s i h t "
          ]
        }
      ]
    },
    {
      "cell_type": "code",
      "source": [
        "s = \"This is basic python class\""
      ],
      "metadata": {
        "id": "9nVDDdZikASW"
      },
      "execution_count": 1,
      "outputs": []
    },
    {
      "cell_type": "code",
      "source": [
        "s"
      ],
      "metadata": {
        "id": "jPIraSpakNnA",
        "colab": {
          "base_uri": "https://localhost:8080/",
          "height": 35
        },
        "outputId": "b7f70514-014d-4237-f703-59c02de254e5"
      },
      "execution_count": 2,
      "outputs": [
        {
          "output_type": "execute_result",
          "data": {
            "text/plain": [
              "'This is basic python class'"
            ],
            "application/vnd.google.colaboratory.intrinsic+json": {
              "type": "string"
            }
          },
          "metadata": {},
          "execution_count": 2
        }
      ]
    },
    {
      "cell_type": "code",
      "source": [
        "s=\"ineuron\""
      ],
      "metadata": {
        "id": "7_5tnboQ_-Km"
      },
      "execution_count": 3,
      "outputs": []
    },
    {
      "cell_type": "code",
      "source": [
        "v=\"AaEeIiOoUu\""
      ],
      "metadata": {
        "id": "C_HypttVAGuO"
      },
      "execution_count": 4,
      "outputs": []
    },
    {
      "cell_type": "code",
      "source": [
        "for i in s:\n",
        "  if i in v:\n",
        "    print(i,\"is vavul\")\n",
        "  else:\n",
        "    print(i,\"not vowel\")"
      ],
      "metadata": {
        "colab": {
          "base_uri": "https://localhost:8080/"
        },
        "id": "w3UoSL8AAK09",
        "outputId": "6c52582b-e3e3-468d-9a4c-00a71d1e04cb"
      },
      "execution_count": 7,
      "outputs": [
        {
          "output_type": "stream",
          "name": "stdout",
          "text": [
            "i is vavul\n",
            "n not vowel\n",
            "e is vavul\n",
            "u is vavul\n",
            "r not vowel\n",
            "o is vavul\n",
            "n not vowel\n"
          ]
        }
      ]
    },
    {
      "cell_type": "code",
      "source": [
        "\"g\" in \"sudh\""
      ],
      "metadata": {
        "colab": {
          "base_uri": "https://localhost:8080/"
        },
        "id": "KAiyo5CWAjUr",
        "outputId": "57f9c090-d6ae-4d08-9bef-9e690dda3a05"
      },
      "execution_count": 1,
      "outputs": [
        {
          "output_type": "execute_result",
          "data": {
            "text/plain": [
              "False"
            ]
          },
          "metadata": {},
          "execution_count": 1
        }
      ]
    },
    {
      "cell_type": "code",
      "source": [
        "\"malayalam\""
      ],
      "metadata": {
        "colab": {
          "base_uri": "https://localhost:8080/",
          "height": 35
        },
        "id": "1J3B74Hk4fCX",
        "outputId": "18dbba11-c3d5-4da1-ed18-83e749495242"
      },
      "execution_count": 2,
      "outputs": [
        {
          "output_type": "execute_result",
          "data": {
            "text/plain": [
              "'malayalam'"
            ],
            "application/vnd.google.colaboratory.intrinsic+json": {
              "type": "string"
            }
          },
          "metadata": {},
          "execution_count": 2
        }
      ]
    },
    {
      "cell_type": "code",
      "source": [
        "#philingtrom"
      ],
      "metadata": {
        "id": "PHCUFE3w4o1A"
      },
      "execution_count": 3,
      "outputs": []
    },
    {
      "cell_type": "code",
      "source": [
        "s=input()\n",
        "if s == s[::-1]:\n",
        "  print(\"pilingtrom\")\n",
        "else:\n",
        "  print(\"not pilingtrom\")\n"
      ],
      "metadata": {
        "colab": {
          "base_uri": "https://localhost:8080/"
        },
        "id": "GSCNt_F84ru7",
        "outputId": "0833a0f5-d040-49b8-da9a-faca48747913"
      },
      "execution_count": 5,
      "outputs": [
        {
          "output_type": "stream",
          "name": "stdout",
          "text": [
            "malayalam\n",
            "pilingtrom\n"
          ]
        }
      ]
    },
    {
      "cell_type": "code",
      "source": [
        "s=input()\n",
        "i=len(s)\n",
        "l=i-1\n",
        "s1=\"\"\n",
        "while l>=0:\n",
        "  s1=s1+(s[l])\n",
        "  l=l-1\n",
        "if s==s1:\n",
        "  print(\"pilingtrom\")\n",
        "else:\n",
        "  print(\"not pilingtrom\")\n"
      ],
      "metadata": {
        "colab": {
          "base_uri": "https://localhost:8080/"
        },
        "id": "EtDKcmll5rhg",
        "outputId": "7da0a579-9389-48d4-fca3-57a3c72d9bbc"
      },
      "execution_count": 30,
      "outputs": [
        {
          "output_type": "stream",
          "name": "stdout",
          "text": [
            "eye\n",
            "pilingtrom\n"
          ]
        }
      ]
    },
    {
      "cell_type": "code",
      "source": [
        "\n",
        "\n",
        "word=input()\n",
        "for i in range(len(word)):\n",
        "  if word[i]!=word[len(word)-i-1]:\n",
        "    print(\"not palingdrom\")\n",
        "    break\n",
        "  else:\n",
        "    print(\"palindrom\")"
      ],
      "metadata": {
        "colab": {
          "base_uri": "https://localhost:8080/"
        },
        "id": "fQoee5U57-7F",
        "outputId": "ee556c1a-183f-4010-92d3-b7d739724dff"
      },
      "execution_count": 26,
      "outputs": [
        {
          "output_type": "stream",
          "name": "stdout",
          "text": [
            "suriya\n",
            "not palingdrom\n"
          ]
        }
      ]
    },
    {
      "cell_type": "code",
      "source": [
        "d={\"india\":\"IN\",\n",
        "   \"canada\":\"CN\",\n",
        "   \"china\":\"CH\",\n",
        "   \"united state\":\"US\"}"
      ],
      "metadata": {
        "id": "rlQuG-e78qDK"
      },
      "execution_count": 31,
      "outputs": []
    },
    {
      "cell_type": "code",
      "source": [
        "\"india\" in d"
      ],
      "metadata": {
        "colab": {
          "base_uri": "https://localhost:8080/"
        },
        "id": "PzeNR2_zFcQ1",
        "outputId": "659db3f8-4664-42e9-adfe-0944000a94fb"
      },
      "execution_count": 32,
      "outputs": [
        {
          "output_type": "execute_result",
          "data": {
            "text/plain": [
              "True"
            ]
          },
          "metadata": {},
          "execution_count": 32
        }
      ]
    },
    {
      "cell_type": "code",
      "source": [
        "\"IN\" in d"
      ],
      "metadata": {
        "colab": {
          "base_uri": "https://localhost:8080/"
        },
        "id": "JcLPcp6yFgmi",
        "outputId": "c9e883a0-9ebb-4b41-a396-e69d232495bd"
      },
      "execution_count": 33,
      "outputs": [
        {
          "output_type": "execute_result",
          "data": {
            "text/plain": [
              "False"
            ]
          },
          "metadata": {},
          "execution_count": 33
        }
      ]
    },
    {
      "cell_type": "code",
      "source": [
        "# by default that is goibg to check only key"
      ],
      "metadata": {
        "id": "Hb0v-RggFlmu"
      },
      "execution_count": 34,
      "outputs": []
    },
    {
      "cell_type": "code",
      "source": [
        "\"IN\" in d.values()"
      ],
      "metadata": {
        "colab": {
          "base_uri": "https://localhost:8080/"
        },
        "id": "5a-th8oTFrFE",
        "outputId": "a54098ed-ff14-46ad-8403-ad9f1dec9739"
      },
      "execution_count": 45,
      "outputs": [
        {
          "output_type": "execute_result",
          "data": {
            "text/plain": [
              "True"
            ]
          },
          "metadata": {},
          "execution_count": 45
        }
      ]
    },
    {
      "cell_type": "code",
      "source": [
        "l_grater=[]\n",
        "l_smaller=[]\n",
        "for i in d:\n",
        "  if len(i)<=5:\n",
        "    l_smaller.append(i)\n",
        "  else:\n",
        "    l_grater.append(i)\n",
        "\n"
      ],
      "metadata": {
        "id": "K4rETwIoFuQb"
      },
      "execution_count": 63,
      "outputs": []
    },
    {
      "cell_type": "code",
      "source": [
        " l_smaller"
      ],
      "metadata": {
        "colab": {
          "base_uri": "https://localhost:8080/"
        },
        "id": "l4cdDDFpFyN3",
        "outputId": "a0932319-2bdf-49f8-9086-8dd164a2fd5c"
      },
      "execution_count": 65,
      "outputs": [
        {
          "output_type": "execute_result",
          "data": {
            "text/plain": [
              "['india', 'china']"
            ]
          },
          "metadata": {},
          "execution_count": 65
        }
      ]
    },
    {
      "cell_type": "code",
      "source": [
        "l_grater"
      ],
      "metadata": {
        "colab": {
          "base_uri": "https://localhost:8080/"
        },
        "id": "8lb09gkFIAJj",
        "outputId": "e2e52ba4-c71f-460e-85dc-3665bd4de1d9"
      },
      "execution_count": 66,
      "outputs": [
        {
          "output_type": "execute_result",
          "data": {
            "text/plain": [
              "['canada', 'united state']"
            ]
          },
          "metadata": {},
          "execution_count": 66
        }
      ]
    },
    {
      "cell_type": "code",
      "source": [
        "l=[]\n",
        "s=[]\n",
        "for i in d:\n",
        "  if len(i)<=5:\n",
        "    s.append(i)\n",
        "  else:\n",
        "    l.append(i)"
      ],
      "metadata": {
        "id": "C_GZoFfCJqQp"
      },
      "execution_count": 68,
      "outputs": []
    },
    {
      "cell_type": "code",
      "source": [
        "s"
      ],
      "metadata": {
        "colab": {
          "base_uri": "https://localhost:8080/"
        },
        "id": "YAB9LjquJ_CV",
        "outputId": "49241b44-c724-4ee0-f412-2d239fc74401"
      },
      "execution_count": 69,
      "outputs": [
        {
          "output_type": "execute_result",
          "data": {
            "text/plain": [
              "['india', 'china']"
            ]
          },
          "metadata": {},
          "execution_count": 69
        }
      ]
    },
    {
      "cell_type": "code",
      "source": [
        "l"
      ],
      "metadata": {
        "colab": {
          "base_uri": "https://localhost:8080/"
        },
        "id": "2PWNqFb2KO95",
        "outputId": "224d174c-3386-4959-d913-227bdef8aaec"
      },
      "execution_count": 70,
      "outputs": [
        {
          "output_type": "execute_result",
          "data": {
            "text/plain": [
              "['canada', 'united state']"
            ]
          },
          "metadata": {},
          "execution_count": 70
        }
      ]
    },
    {
      "cell_type": "code",
      "source": [
        "d_1={\"ineuron\":{\n",
        "                  \"a\":14,\n",
        "                   \"b\":10,\n",
        "                   \"c\":4\n",
        "                },\n",
        "        \"course\":{\n",
        "                    \"d\":45,\n",
        "                    \"e\":34,\n",
        "                    \"f\":1\n",
        "                 }\n",
        "     }"
      ],
      "metadata": {
        "id": "2UsZc3FPKPyo"
      },
      "execution_count": 119,
      "outputs": []
    },
    {
      "cell_type": "code",
      "source": [
        "for i in d_1:\n",
        "  print(i)"
      ],
      "metadata": {
        "colab": {
          "base_uri": "https://localhost:8080/"
        },
        "id": "8ORvFHgTMnb4",
        "outputId": "40c2879a-1e64-4d2e-ea50-0db8b6e1b24f"
      },
      "execution_count": 120,
      "outputs": [
        {
          "output_type": "stream",
          "name": "stdout",
          "text": [
            "ineuron\n",
            "course\n"
          ]
        }
      ]
    },
    {
      "cell_type": "code",
      "source": [
        "d_1.values()"
      ],
      "metadata": {
        "colab": {
          "base_uri": "https://localhost:8080/"
        },
        "id": "DUc_nyCtOAl8",
        "outputId": "b27cb192-39af-48f5-88b0-cf3da4ad892e"
      },
      "execution_count": 121,
      "outputs": [
        {
          "output_type": "execute_result",
          "data": {
            "text/plain": [
              "dict_values([{'a': 14, 'b': 10, 'c': 4}, {'d': 45, 'e': 34, 'f': 1}])"
            ]
          },
          "metadata": {},
          "execution_count": 121
        }
      ]
    },
    {
      "cell_type": "code",
      "source": [
        "len(d_1.values())"
      ],
      "metadata": {
        "colab": {
          "base_uri": "https://localhost:8080/"
        },
        "id": "Hw9hdKD-OS3O",
        "outputId": "b37eea31-8ca2-4035-99b4-9c85ea681421"
      },
      "execution_count": 122,
      "outputs": [
        {
          "output_type": "execute_result",
          "data": {
            "text/plain": [
              "2"
            ]
          },
          "metadata": {},
          "execution_count": 122
        }
      ]
    },
    {
      "cell_type": "code",
      "source": [
        "l=[]\n",
        "for i in d_1.values():\n",
        "  for j in i.values():\n",
        "     l.append(j)\n",
        "  print(max(l))\n",
        "     #break"
      ],
      "metadata": {
        "colab": {
          "base_uri": "https://localhost:8080/"
        },
        "id": "_d_eNgHTOtem",
        "outputId": "41b43f5c-412c-4b5f-d8d8-21d9f2c065fc"
      },
      "execution_count": 126,
      "outputs": [
        {
          "output_type": "stream",
          "name": "stdout",
          "text": [
            "14\n",
            "45\n"
          ]
        }
      ]
    },
    {
      "cell_type": "code",
      "source": [
        "l=[]\n",
        "for i in d_1.values():\n",
        "  for j in i.values():\n",
        "     l.append(j)\n",
        "     print(max(l))\n",
        "     break"
      ],
      "metadata": {
        "colab": {
          "base_uri": "https://localhost:8080/"
        },
        "id": "CchrU41XO4uM",
        "outputId": "7e27eef5-5120-4fa1-adf7-77d3bab969e3"
      },
      "execution_count": 127,
      "outputs": [
        {
          "output_type": "stream",
          "name": "stdout",
          "text": [
            "14\n",
            "45\n"
          ]
        }
      ]
    },
    {
      "cell_type": "code",
      "source": [
        "d_1"
      ],
      "metadata": {
        "colab": {
          "base_uri": "https://localhost:8080/"
        },
        "id": "r5vEEhm7TlaO",
        "outputId": "6d7f19be-368d-4156-98c0-0883bbd8b487"
      },
      "execution_count": 128,
      "outputs": [
        {
          "output_type": "execute_result",
          "data": {
            "text/plain": [
              "{'ineuron': {'a': 14, 'b': 10, 'c': 4}, 'course': {'d': 45, 'e': 34, 'f': 1}}"
            ]
          },
          "metadata": {},
          "execution_count": 128
        }
      ]
    },
    {
      "cell_type": "code",
      "source": [
        "d={'ineuron': {'a': 14, 'b': 10, 'c': 4}, 'course': {'d': 45, 'e': 34, 'f': 1},\"g\":34,\"h\":[1,23,3,64],\"i\":(1,2,3,3)}"
      ],
      "metadata": {
        "id": "KX8oASVGeggg"
      },
      "execution_count": 131,
      "outputs": []
    },
    {
      "cell_type": "code",
      "source": [
        "d"
      ],
      "metadata": {
        "colab": {
          "base_uri": "https://localhost:8080/"
        },
        "id": "vXxIBOCFes2f",
        "outputId": "e7ef03d2-b2a7-46da-9640-32a0556ef042"
      },
      "execution_count": 132,
      "outputs": [
        {
          "output_type": "execute_result",
          "data": {
            "text/plain": [
              "{'ineuron': {'a': 14, 'b': 10, 'c': 4},\n",
              " 'course': {'d': 45, 'e': 34, 'f': 1},\n",
              " 'g': 34,\n",
              " 'h': [1, 23, 3, 64],\n",
              " 'i': (1, 2, 3, 3)}"
            ]
          },
          "metadata": {},
          "execution_count": 132
        }
      ]
    },
    {
      "cell_type": "code",
      "source": [
        "l=[]\n",
        "for i in d.values():\n",
        "  if i==int:\n",
        "    for j in i.values():\n",
        "        \n",
        " "
      ],
      "metadata": {
        "colab": {
          "base_uri": "https://localhost:8080/",
          "height": 339
        },
        "id": "HxcynmG7etoc",
        "outputId": "e34e20a3-ff8d-4d8c-9b8a-c60aa9a330eb"
      },
      "execution_count": 149,
      "outputs": [
        {
          "output_type": "stream",
          "name": "stdout",
          "text": [
            "14\n",
            "10\n",
            "4\n",
            "45\n",
            "34\n",
            "1\n"
          ]
        },
        {
          "output_type": "error",
          "ename": "AttributeError",
          "evalue": "ignored",
          "traceback": [
            "\u001b[0;31m---------------------------------------------------------------------------\u001b[0m",
            "\u001b[0;31mAttributeError\u001b[0m                            Traceback (most recent call last)",
            "\u001b[0;32m<ipython-input-149-1e29ea3f4478>\u001b[0m in \u001b[0;36m<module>\u001b[0;34m\u001b[0m\n\u001b[1;32m      2\u001b[0m \u001b[0;32mfor\u001b[0m \u001b[0mi\u001b[0m \u001b[0;32min\u001b[0m \u001b[0md\u001b[0m\u001b[0;34m.\u001b[0m\u001b[0mvalues\u001b[0m\u001b[0;34m(\u001b[0m\u001b[0;34m)\u001b[0m\u001b[0;34m:\u001b[0m\u001b[0;34m\u001b[0m\u001b[0;34m\u001b[0m\u001b[0m\n\u001b[1;32m      3\u001b[0m   \u001b[0;32mif\u001b[0m \u001b[0mi\u001b[0m\u001b[0;34m==\u001b[0m\u001b[0mint\u001b[0m \u001b[0;32mor\u001b[0m \u001b[0mlist\u001b[0m \u001b[0;32mor\u001b[0m \u001b[0mtuple\u001b[0m\u001b[0;34m:\u001b[0m\u001b[0;34m\u001b[0m\u001b[0;34m\u001b[0m\u001b[0m\n\u001b[0;32m----> 4\u001b[0;31m     \u001b[0;32mfor\u001b[0m \u001b[0mj\u001b[0m \u001b[0;32min\u001b[0m \u001b[0mi\u001b[0m\u001b[0;34m.\u001b[0m\u001b[0mvalues\u001b[0m\u001b[0;34m(\u001b[0m\u001b[0;34m)\u001b[0m\u001b[0;34m:\u001b[0m\u001b[0;34m\u001b[0m\u001b[0;34m\u001b[0m\u001b[0m\n\u001b[0m\u001b[1;32m      5\u001b[0m         \u001b[0mprint\u001b[0m\u001b[0;34m(\u001b[0m\u001b[0mj\u001b[0m\u001b[0;34m)\u001b[0m\u001b[0;34m\u001b[0m\u001b[0;34m\u001b[0m\u001b[0m\n\u001b[1;32m      6\u001b[0m \u001b[0;34m\u001b[0m\u001b[0m\n",
            "\u001b[0;31mAttributeError\u001b[0m: 'int' object has no attribute 'values'"
          ]
        }
      ]
    },
    {
      "cell_type": "code",
      "source": [
        "l=[]\n",
        "for i in d.values():\n",
        "  if type(i)==dict:\n",
        "    for j in i.values():\n",
        "      l.append(j)\n",
        "  elif type(i)==list:\n",
        "    for j in i:\n",
        "      l.append(j)\n",
        "  elif type(i)==tuple:\n",
        "    for j in i:\n",
        "      l.append(j)\n",
        "  elif type(i)==int:\n",
        "    l.append(i)\n",
        "  else:\n",
        "    break\n",
        "print(max(l))\n",
        "\n",
        "  \n"
      ],
      "metadata": {
        "colab": {
          "base_uri": "https://localhost:8080/"
        },
        "id": "SOx9Bm75e_gs",
        "outputId": "96f24789-4848-43d3-cb21-7483b4fe6692"
      },
      "execution_count": 171,
      "outputs": [
        {
          "output_type": "stream",
          "name": "stdout",
          "text": [
            "64\n"
          ]
        }
      ]
    },
    {
      "cell_type": "code",
      "source": [
        "d.values()"
      ],
      "metadata": {
        "colab": {
          "base_uri": "https://localhost:8080/"
        },
        "id": "7naaXdo1f8PI",
        "outputId": "322d352c-00f9-4717-c58d-6b6cb312fd6b"
      },
      "execution_count": 155,
      "outputs": [
        {
          "output_type": "execute_result",
          "data": {
            "text/plain": [
              "dict_values([{'a': 14, 'b': 10, 'c': 4}, {'d': 45, 'e': 34, 'f': 1}, 34, [1, 23, 3, 64], (1, 2, 3, 3)])"
            ]
          },
          "metadata": {},
          "execution_count": 155
        }
      ]
    },
    {
      "cell_type": "code",
      "source": [
        "l=[]\n",
        "for i in d.values():\n",
        "  if type(i)==tuple:\n",
        "    for j in i:\n",
        "      l.append(j)\n",
        "\n",
        "print(max(l))"
      ],
      "metadata": {
        "colab": {
          "base_uri": "https://localhost:8080/"
        },
        "id": "OpaWYafTkSLt",
        "outputId": "50ef756c-9a53-4595-d174-72757a2ecf62"
      },
      "execution_count": 172,
      "outputs": [
        {
          "output_type": "stream",
          "name": "stdout",
          "text": [
            "3\n"
          ]
        }
      ]
    },
    {
      "cell_type": "code",
      "source": [
        "l"
      ],
      "metadata": {
        "colab": {
          "base_uri": "https://localhost:8080/"
        },
        "id": "Lju3tLjBk1xe",
        "outputId": "d62b9686-2b50-487d-b6bb-1e4debc033ed"
      },
      "execution_count": 173,
      "outputs": [
        {
          "output_type": "execute_result",
          "data": {
            "text/plain": [
              "[1, 2, 3, 3]"
            ]
          },
          "metadata": {},
          "execution_count": 173
        }
      ]
    },
    {
      "cell_type": "code",
      "source": [],
      "metadata": {
        "id": "W26U1JjDk_1Z"
      },
      "execution_count": null,
      "outputs": []
    }
  ]
}