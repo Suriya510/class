{
  "nbformat": 4,
  "nbformat_minor": 0,
  "metadata": {
    "colab": {
      "provenance": []
    },
    "kernelspec": {
      "name": "python3",
      "display_name": "Python 3"
    },
    "language_info": {
      "name": "python"
    }
  },
  "cells": [
    {
      "cell_type": "code",
      "execution_count": 24,
      "metadata": {
        "id": "JmLH_I7-0hdH"
      },
      "outputs": [],
      "source": [
        "#inheritance,polymarphysm,encapdulation"
      ]
    },
    {
      "cell_type": "code",
      "source": [
        "class xyz:\n",
        "  def __init__(self,a,b,c):\n",
        "    self.a=a\n",
        "    self.b=b\n",
        "    self.c=c\n",
        "\n",
        "  def test(self):\n",
        "    print(\"this is my  test of xyz class\")\n",
        "\n",
        "  def test1(self):\n",
        "    print(\"this is my 1st  test of xyz class\")\n",
        "\n",
        "  def test2(self):\n",
        "    print(\"this is my 2st  test of xyz class\")"
      ],
      "metadata": {
        "id": "RvSi0Qo23vXJ"
      },
      "execution_count": 25,
      "outputs": []
    },
    {
      "cell_type": "code",
      "source": [
        "p=xyz(1,2,3)"
      ],
      "metadata": {
        "id": "4ozZGm3B5ZVF"
      },
      "execution_count": 26,
      "outputs": []
    },
    {
      "cell_type": "code",
      "source": [
        "p.a"
      ],
      "metadata": {
        "colab": {
          "base_uri": "https://localhost:8080/"
        },
        "id": "KZCuGnaY5ZYj",
        "outputId": "977ae54f-3bf2-4e51-c275-9e01f9aff4a8"
      },
      "execution_count": 27,
      "outputs": [
        {
          "output_type": "execute_result",
          "data": {
            "text/plain": [
              "1"
            ]
          },
          "metadata": {},
          "execution_count": 27
        }
      ]
    },
    {
      "cell_type": "code",
      "source": [
        "p.test1()"
      ],
      "metadata": {
        "colab": {
          "base_uri": "https://localhost:8080/"
        },
        "id": "nEKUPYEz5h2b",
        "outputId": "f54975a7-f5b7-4866-f80d-175e7cd59d28"
      },
      "execution_count": 28,
      "outputs": [
        {
          "output_type": "stream",
          "name": "stdout",
          "text": [
            "this is my 1st  test of xyz class\n"
          ]
        }
      ]
    },
    {
      "cell_type": "code",
      "source": [
        "class xyz1(xyz):\n",
        "  pass"
      ],
      "metadata": {
        "id": "fcVzPiYG41cH"
      },
      "execution_count": 29,
      "outputs": []
    },
    {
      "cell_type": "code",
      "source": [
        "q=xyz1()"
      ],
      "metadata": {
        "colab": {
          "base_uri": "https://localhost:8080/",
          "height": 166
        },
        "id": "oK7ZCOpJ5XlG",
        "outputId": "1ca08c9c-12a3-4b88-a13a-8f76bbcf2463"
      },
      "execution_count": 30,
      "outputs": [
        {
          "output_type": "error",
          "ename": "TypeError",
          "evalue": "ignored",
          "traceback": [
            "\u001b[0;31m---------------------------------------------------------------------------\u001b[0m",
            "\u001b[0;31mTypeError\u001b[0m                                 Traceback (most recent call last)",
            "\u001b[0;32m<ipython-input-30-4a306fa9141e>\u001b[0m in \u001b[0;36m<module>\u001b[0;34m\u001b[0m\n\u001b[0;32m----> 1\u001b[0;31m \u001b[0mq\u001b[0m\u001b[0;34m=\u001b[0m\u001b[0mxyz1\u001b[0m\u001b[0;34m(\u001b[0m\u001b[0;34m)\u001b[0m\u001b[0;34m\u001b[0m\u001b[0;34m\u001b[0m\u001b[0m\n\u001b[0m",
            "\u001b[0;31mTypeError\u001b[0m: __init__() missing 3 required positional arguments: 'a', 'b', and 'c'"
          ]
        }
      ]
    },
    {
      "cell_type": "code",
      "source": [
        "q=xyz1(3,6,9)"
      ],
      "metadata": {
        "id": "J8u1hz1W5t5V"
      },
      "execution_count": 31,
      "outputs": []
    },
    {
      "cell_type": "code",
      "source": [
        "q.a"
      ],
      "metadata": {
        "colab": {
          "base_uri": "https://localhost:8080/"
        },
        "id": "niN9fQA855xB",
        "outputId": "da91c5f6-494d-46d6-c7a9-77ad8ed4d11b"
      },
      "execution_count": 32,
      "outputs": [
        {
          "output_type": "execute_result",
          "data": {
            "text/plain": [
              "3"
            ]
          },
          "metadata": {},
          "execution_count": 32
        }
      ]
    },
    {
      "cell_type": "code",
      "source": [
        "q.test2()"
      ],
      "metadata": {
        "colab": {
          "base_uri": "https://localhost:8080/"
        },
        "id": "LxKzuECi57am",
        "outputId": "49d76595-6a1d-4964-ed46-cea070ee6386"
      },
      "execution_count": 33,
      "outputs": [
        {
          "output_type": "stream",
          "name": "stdout",
          "text": [
            "this is my 2st  test of xyz class\n"
          ]
        }
      ]
    },
    {
      "cell_type": "code",
      "source": [
        "class xyz1(xyz1):\n",
        "  def test(self):\n",
        "    print(\"this is the test method available in xyz1\")\n",
        "\n"
      ],
      "metadata": {
        "id": "FDwVruLM6oPP"
      },
      "execution_count": 34,
      "outputs": []
    },
    {
      "cell_type": "code",
      "source": [
        "g=xyz1(4,5,6)"
      ],
      "metadata": {
        "id": "qGEVt2A66Nwi"
      },
      "execution_count": 35,
      "outputs": []
    },
    {
      "cell_type": "code",
      "source": [
        "g.test()"
      ],
      "metadata": {
        "colab": {
          "base_uri": "https://localhost:8080/"
        },
        "id": "0zXXNp7g7EGX",
        "outputId": "d6658130-b983-4fdb-a06a-16c125f598be"
      },
      "execution_count": 36,
      "outputs": [
        {
          "output_type": "stream",
          "name": "stdout",
          "text": [
            "this is the test method available in xyz1\n"
          ]
        }
      ]
    },
    {
      "cell_type": "code",
      "source": [
        "#we have overwrite test in xiz1"
      ],
      "metadata": {
        "id": "9cSPSY4N7FFW"
      },
      "execution_count": 37,
      "outputs": []
    },
    {
      "cell_type": "code",
      "source": [
        "class xyz:\n",
        "  def __init__(self,a,b,c):\n",
        "    self.a=a\n",
        "    self.b=b\n",
        "    self.c=c\n",
        "\n",
        "  def test(self):\n",
        "    print(\"this is the meth in xyz class\")\n",
        "\n",
        "class xyz1:\n",
        "  def __init__(self,p,v,q):\n",
        "    self.p=p\n",
        "    self.v=v\n",
        "    self.q=q\n",
        "\n",
        "  def test1(self):\n",
        "    print(\"this is the method from xyz1 class\")\n",
        "\n",
        "class child(xyz,xyz1):\n",
        "  pass"
      ],
      "metadata": {
        "id": "k3wTndWe7T6j"
      },
      "execution_count": 63,
      "outputs": []
    },
    {
      "cell_type": "code",
      "source": [
        "# above is called multi class inheritance"
      ],
      "metadata": {
        "id": "jwthqGJm77jZ"
      },
      "execution_count": 64,
      "outputs": []
    },
    {
      "cell_type": "code",
      "source": [
        "n=child(3,4,5)"
      ],
      "metadata": {
        "id": "Uu2YR7ti8RqU"
      },
      "execution_count": 65,
      "outputs": []
    },
    {
      "cell_type": "code",
      "source": [
        "#if we give n. it will show only a,b,c.test,tes1 and it will not show pqv"
      ],
      "metadata": {
        "id": "YCJayyio8jFy"
      },
      "execution_count": 66,
      "outputs": []
    },
    {
      "cell_type": "code",
      "source": [
        "n."
      ],
      "metadata": {
        "id": "nq4sPmTA_wNC"
      },
      "execution_count": null,
      "outputs": []
    },
    {
      "cell_type": "code",
      "source": [
        "class abc:\n",
        "  def __init__(self,a,b,c):\n",
        "    self.a=a\n",
        "    self.b=b\n",
        "    self.c=c\n",
        "\n",
        "  def test(self):\n",
        "    print(\"this is the meth in xyz class\")\n",
        "\n",
        "class abc1:\n",
        "  def __init__(self,p,v,q):\n",
        "    self.p=p\n",
        "    self.v=v\n",
        "    self.q=q\n",
        "\n",
        "  def test1(self):\n",
        "    print(\"this is the method from xyz1 class\")\n",
        "\n",
        "class child(abc1,abc):\n",
        "  pass"
      ],
      "metadata": {
        "id": "WAhio-r1-KOL"
      },
      "execution_count": 82,
      "outputs": []
    },
    {
      "cell_type": "code",
      "source": [
        "n=child(3,4,5)"
      ],
      "metadata": {
        "id": "2KWlwO04-vCX"
      },
      "execution_count": 83,
      "outputs": []
    },
    {
      "cell_type": "code",
      "source": [
        "# now it will show pqv,test test1"
      ],
      "metadata": {
        "id": "gefzNkgQ-xCr"
      },
      "execution_count": 61,
      "outputs": []
    },
    {
      "cell_type": "code",
      "source": [
        "class xyz:\n",
        "  def __init__(self,a,b,c):\n",
        "    self.a=a\n",
        "    self.b=b\n",
        "    self.c=c\n",
        "\n",
        "  def test(self):\n",
        "    print(\"this is the meth in xyz class\")\n",
        "\n",
        "class abc1:\n",
        "  def __init__(self,p,v,q):\n",
        "    self.p=p\n",
        "    self.v=v\n",
        "    self.q=q\n",
        "\n",
        "  def test1(self):\n",
        "    print(\"this is the method from xyz1 class\")\n",
        "\n",
        "class child(xyz1,xyz):\n",
        "  def __init__(self,*args):\n",
        "    xyz.__init__(self,*args)\n",
        "    xyz1.__init__(self,*args)"
      ],
      "metadata": {
        "id": "jgRzP1zP_MH0"
      },
      "execution_count": 81,
      "outputs": []
    },
    {
      "cell_type": "code",
      "source": [
        "n=child(4,5,6)"
      ],
      "metadata": {
        "id": "kKZC2ZxQ_mmj"
      },
      "execution_count": 71,
      "outputs": []
    },
    {
      "cell_type": "code",
      "source": [
        "n.a"
      ],
      "metadata": {
        "colab": {
          "base_uri": "https://localhost:8080/"
        },
        "id": "iBSuBjhXCqyJ",
        "outputId": "4b63f6c7-c472-4211-fdfe-f485f2b3833b"
      },
      "execution_count": 72,
      "outputs": [
        {
          "output_type": "execute_result",
          "data": {
            "text/plain": [
              "4"
            ]
          },
          "metadata": {},
          "execution_count": 72
        }
      ]
    },
    {
      "cell_type": "code",
      "source": [
        "n.p"
      ],
      "metadata": {
        "colab": {
          "base_uri": "https://localhost:8080/"
        },
        "id": "lsoACaC8Czeg",
        "outputId": "920b44b5-ab72-4f63-e4e7-79fb28556be5"
      },
      "execution_count": 73,
      "outputs": [
        {
          "output_type": "execute_result",
          "data": {
            "text/plain": [
              "4"
            ]
          },
          "metadata": {},
          "execution_count": 73
        }
      ]
    },
    {
      "cell_type": "code",
      "source": [
        "class xyz:\n",
        "  def __init__(self,a,b,c):\n",
        "    self.a=a\n",
        "    self.b=b\n",
        "    self.c=c\n",
        "\n",
        "  def test(self):\n",
        "    print(\"this is the meth in xyz class\")\n",
        "\n",
        "class xyz1:\n",
        "  def __init__(self,p,v,q):\n",
        "    self.p=p\n",
        "    self.v=v\n",
        "    self.q=q\n",
        "\n",
        "  def test1(self):\n",
        "    print(\"this is the method from xyz1 class\")\n",
        "\n",
        "class child(xyz1,xyz):\n",
        "  def __init__(self,*args,**kwargs):\n",
        "    xyz.__init__(self,*args)\n",
        "    xyz1.__init__(self,**kwargs)"
      ],
      "metadata": {
        "id": "CDjyT-aFC0bK"
      },
      "execution_count": 84,
      "outputs": []
    },
    {
      "cell_type": "code",
      "source": [
        "n=child(4,5,6,p=6,q=6,v=5)"
      ],
      "metadata": {
        "id": "_DSADnQZDCfQ"
      },
      "execution_count": 85,
      "outputs": []
    },
    {
      "cell_type": "code",
      "source": [
        "n.b"
      ],
      "metadata": {
        "colab": {
          "base_uri": "https://localhost:8080/"
        },
        "id": "oWXU2meFDF2m",
        "outputId": "00a2b8a3-fda6-48b6-9a56-4f98733b6759"
      },
      "execution_count": 86,
      "outputs": [
        {
          "output_type": "execute_result",
          "data": {
            "text/plain": [
              "5"
            ]
          },
          "metadata": {},
          "execution_count": 86
        }
      ]
    },
    {
      "cell_type": "code",
      "source": [
        "n.q"
      ],
      "metadata": {
        "colab": {
          "base_uri": "https://localhost:8080/"
        },
        "id": "VnYnnQGtDebL",
        "outputId": "bcac1c89-3895-402e-c24b-38beb48bcf37"
      },
      "execution_count": 87,
      "outputs": [
        {
          "output_type": "execute_result",
          "data": {
            "text/plain": [
              "6"
            ]
          },
          "metadata": {},
          "execution_count": 87
        }
      ]
    },
    {
      "cell_type": "code",
      "source": [
        "n.test1()"
      ],
      "metadata": {
        "colab": {
          "base_uri": "https://localhost:8080/"
        },
        "id": "RXKUACGjDgFE",
        "outputId": "483da2bd-0480-4dc6-debc-d89b2af49e53"
      },
      "execution_count": 88,
      "outputs": [
        {
          "output_type": "stream",
          "name": "stdout",
          "text": [
            "this is the method from xyz1 class\n"
          ]
        }
      ]
    },
    {
      "cell_type": "code",
      "source": [
        "class xyz:\n",
        "  def __init__(self,a,b,c):\n",
        "    self.a=a\n",
        "    self.b=b\n",
        "    self.c=c\n",
        "\n",
        "  def test(self):\n",
        "    print(\"this is the meth in xyz class\")\n",
        "\n",
        "class xyz1(xyz):\n",
        "  def test1(self):\n",
        "    print(\"this is the method from xyz1 class\")\n",
        "\n",
        "class xyz2(xyz1):\n",
        "  def test2(self):\n",
        "    print(\"mrthos from xyz2\")"
      ],
      "metadata": {
        "id": "p1YqAMfPDktn"
      },
      "execution_count": 92,
      "outputs": []
    },
    {
      "cell_type": "code",
      "source": [
        "v=xyz2()"
      ],
      "metadata": {
        "colab": {
          "base_uri": "https://localhost:8080/",
          "height": 166
        },
        "id": "5AqtXZIzZDPN",
        "outputId": "81c138e5-d819-4824-c265-336b864361f4"
      },
      "execution_count": 93,
      "outputs": [
        {
          "output_type": "error",
          "ename": "TypeError",
          "evalue": "ignored",
          "traceback": [
            "\u001b[0;31m---------------------------------------------------------------------------\u001b[0m",
            "\u001b[0;31mTypeError\u001b[0m                                 Traceback (most recent call last)",
            "\u001b[0;32m<ipython-input-93-5eb0223a98f6>\u001b[0m in \u001b[0;36m<module>\u001b[0;34m\u001b[0m\n\u001b[0;32m----> 1\u001b[0;31m \u001b[0mv\u001b[0m\u001b[0;34m=\u001b[0m\u001b[0mxyz2\u001b[0m\u001b[0;34m(\u001b[0m\u001b[0;34m)\u001b[0m\u001b[0;34m\u001b[0m\u001b[0;34m\u001b[0m\u001b[0m\n\u001b[0m",
            "\u001b[0;31mTypeError\u001b[0m: __init__() missing 3 required positional arguments: 'a', 'b', and 'c'"
          ]
        }
      ]
    },
    {
      "cell_type": "code",
      "source": [
        "v=xyz2(1,2,3)"
      ],
      "metadata": {
        "id": "haL0ykuCZHO8"
      },
      "execution_count": 94,
      "outputs": []
    },
    {
      "cell_type": "code",
      "source": [
        "v.a"
      ],
      "metadata": {
        "colab": {
          "base_uri": "https://localhost:8080/"
        },
        "id": "5V5EyYfVZbgS",
        "outputId": "bcfb69b4-8886-4b06-ad16-78fd5b10ed13"
      },
      "execution_count": 95,
      "outputs": [
        {
          "output_type": "execute_result",
          "data": {
            "text/plain": [
              "1"
            ]
          },
          "metadata": {},
          "execution_count": 95
        }
      ]
    },
    {
      "cell_type": "code",
      "source": [
        "v.test1()"
      ],
      "metadata": {
        "colab": {
          "base_uri": "https://localhost:8080/"
        },
        "id": "pIHUHcs9Zeqg",
        "outputId": "26743f4d-9c36-4f6b-b9db-4338cb393cdf"
      },
      "execution_count": 96,
      "outputs": [
        {
          "output_type": "stream",
          "name": "stdout",
          "text": [
            "this is the method from xyz1 class\n"
          ]
        }
      ]
    },
    {
      "cell_type": "code",
      "source": [
        "v.test2()"
      ],
      "metadata": {
        "colab": {
          "base_uri": "https://localhost:8080/"
        },
        "id": "rqc67WIeZhRe",
        "outputId": "cf313924-c62c-4f88-cfac-e2492279bf21"
      },
      "execution_count": 97,
      "outputs": [
        {
          "output_type": "stream",
          "name": "stdout",
          "text": [
            "mrthos from xyz2\n"
          ]
        }
      ]
    },
    {
      "cell_type": "code",
      "source": [
        "#this is multilevel inheritance"
      ],
      "metadata": {
        "id": "NPCRMN8NZj7b"
      },
      "execution_count": 98,
      "outputs": []
    },
    {
      "cell_type": "code",
      "source": [
        "#above this multiplr inheritance"
      ],
      "metadata": {
        "id": "2BzcjzF7ZmvW"
      },
      "execution_count": 99,
      "outputs": []
    },
    {
      "cell_type": "code",
      "source": [
        "\"\"\"#task\n",
        "1,create afile class for reading  data from respective file with a method name read and write\n",
        "2,try to inherit read and write method from parent class to child class to perform \n",
        "read and write operation\n",
        "\"\"\""
      ],
      "metadata": {
        "colab": {
          "base_uri": "https://localhost:8080/",
          "height": 70
        },
        "id": "9hlqDuj5aam-",
        "outputId": "1ffe203c-7bfb-4a2a-8433-e7752f0b065a"
      },
      "execution_count": 100,
      "outputs": [
        {
          "output_type": "execute_result",
          "data": {
            "text/plain": [
              "'#task\\n1,create afile class for reading  data from respective file with a method name read and write\\n2,try to inherit read and write method from parent class to child class to perform \\nread and write operation\\n'"
            ],
            "application/vnd.google.colaboratory.intrinsic+json": {
              "type": "string"
            }
          },
          "metadata": {},
          "execution_count": 100
        }
      ]
    },
    {
      "cell_type": "code",
      "source": [
        "class file:\n",
        "  def __init__(self):\n",
        "    self.filename=input()\n",
        "\n",
        "  def write(self):\n",
        "    f=open(f\"self.filename\",\"w\")\n",
        "    a=input()\n",
        "    f.write(a)\n",
        "    f.close\n",
        "\n",
        "  def read(self):\n",
        "    f=open(f\"self.filename\",\"r\")\n",
        "    return f.readlines()\n",
        "    f.close\n",
        "\n",
        "class action(file):\n",
        "  pass "
      ],
      "metadata": {
        "id": "TZ6ARn7MbdW2"
      },
      "execution_count": 140,
      "outputs": []
    },
    {
      "cell_type": "code",
      "source": [
        "a=action()"
      ],
      "metadata": {
        "colab": {
          "base_uri": "https://localhost:8080/"
        },
        "id": "xHVJMgjmcgF3",
        "outputId": "9cda3ba4-17e4-40a1-8932-5024cc4b8ffa"
      },
      "execution_count": 141,
      "outputs": [
        {
          "name": "stdout",
          "output_type": "stream",
          "text": [
            "test1.txt\n"
          ]
        }
      ]
    },
    {
      "cell_type": "code",
      "source": [
        "a.write()"
      ],
      "metadata": {
        "colab": {
          "base_uri": "https://localhost:8080/"
        },
        "id": "xgL4ECtok4KY",
        "outputId": "1d2084ba-4252-45eb-b745-c64e11ef80c7"
      },
      "execution_count": 142,
      "outputs": [
        {
          "name": "stdout",
          "output_type": "stream",
          "text": [
            "\"hard work\"\n"
          ]
        }
      ]
    },
    {
      "cell_type": "code",
      "source": [
        "a.read()"
      ],
      "metadata": {
        "colab": {
          "base_uri": "https://localhost:8080/"
        },
        "id": "iU1Nibvnk4Nr",
        "outputId": "c53da067-29d0-4fac-c0df-4bab72bcbcbf"
      },
      "execution_count": 143,
      "outputs": [
        {
          "output_type": "execute_result",
          "data": {
            "text/plain": [
              "['\"hard work\"']"
            ]
          },
          "metadata": {},
          "execution_count": 143
        }
      ]
    },
    {
      "cell_type": "code",
      "source": [
        "#public private producted"
      ],
      "metadata": {
        "id": "up87Rn51eGQR"
      },
      "execution_count": 144,
      "outputs": []
    },
    {
      "cell_type": "code",
      "source": [
        "# in the help of notation we can use the above"
      ],
      "metadata": {
        "id": "oDuhuo1NvndP"
      },
      "execution_count": 145,
      "outputs": []
    },
    {
      "cell_type": "code",
      "source": [
        "class test:\n",
        "  def __init__(self,a,b,c):\n",
        "    self.a=a\n",
        "    self.b=b\n",
        "    self.c=c\n",
        "class test1(test):\n",
        "  pass"
      ],
      "metadata": {
        "id": "GOpsYDq5v3as"
      },
      "execution_count": 151,
      "outputs": []
    },
    {
      "cell_type": "code",
      "source": [
        "u=test(4,5,6)"
      ],
      "metadata": {
        "id": "eRf5OP78wEav"
      },
      "execution_count": 147,
      "outputs": []
    },
    {
      "cell_type": "code",
      "source": [
        "u.a"
      ],
      "metadata": {
        "colab": {
          "base_uri": "https://localhost:8080/"
        },
        "id": "vDUP50TIwHMt",
        "outputId": "02fd9d8d-9da9-46ba-ce94-dff86bfef08c"
      },
      "execution_count": 148,
      "outputs": [
        {
          "output_type": "execute_result",
          "data": {
            "text/plain": [
              "4"
            ]
          },
          "metadata": {},
          "execution_count": 148
        }
      ]
    },
    {
      "cell_type": "code",
      "source": [
        "v=test1(3,4,5)"
      ],
      "metadata": {
        "id": "Dyc0h47ewIZt"
      },
      "execution_count": 152,
      "outputs": []
    },
    {
      "cell_type": "code",
      "source": [
        "v.a"
      ],
      "metadata": {
        "colab": {
          "base_uri": "https://localhost:8080/"
        },
        "id": "QAPKYFcUwUKY",
        "outputId": "94b1996c-9a24-4841-d755-c5dc6de03fc9"
      },
      "execution_count": 153,
      "outputs": [
        {
          "output_type": "execute_result",
          "data": {
            "text/plain": [
              "3"
            ]
          },
          "metadata": {},
          "execution_count": 153
        }
      ]
    },
    {
      "cell_type": "code",
      "source": [
        "# a is public so we can access 2 different value"
      ],
      "metadata": {
        "id": "8q3O4x8FwbDV"
      },
      "execution_count": 154,
      "outputs": []
    },
    {
      "cell_type": "code",
      "source": [
        "class test:\n",
        "  def __init__(self):\n",
        "    self.a=4\n",
        "\n",
        "class test1(test):\n",
        "  pass"
      ],
      "metadata": {
        "id": "9tYixmQKxEJq"
      },
      "execution_count": 155,
      "outputs": []
    },
    {
      "cell_type": "code",
      "source": [
        "u=test()"
      ],
      "metadata": {
        "id": "X1vbvwgexPZa"
      },
      "execution_count": 156,
      "outputs": []
    },
    {
      "cell_type": "code",
      "source": [
        "u.a"
      ],
      "metadata": {
        "colab": {
          "base_uri": "https://localhost:8080/"
        },
        "id": "O6IO6ZrbxUv3",
        "outputId": "6ba22e49-f315-40cc-da85-f171e177d786"
      },
      "execution_count": 157,
      "outputs": [
        {
          "output_type": "execute_result",
          "data": {
            "text/plain": [
              "4"
            ]
          },
          "metadata": {},
          "execution_count": 157
        }
      ]
    },
    {
      "cell_type": "code",
      "source": [
        "v=test1()"
      ],
      "metadata": {
        "id": "cL6GEfO8xWAa"
      },
      "execution_count": 158,
      "outputs": []
    },
    {
      "cell_type": "code",
      "source": [
        "v.a"
      ],
      "metadata": {
        "colab": {
          "base_uri": "https://localhost:8080/"
        },
        "id": "jCN5jI8PxYR9",
        "outputId": "0eff1374-1d01-4f06-ec99-3f7ae188bed6"
      },
      "execution_count": 159,
      "outputs": [
        {
          "output_type": "execute_result",
          "data": {
            "text/plain": [
              "4"
            ]
          },
          "metadata": {},
          "execution_count": 159
        }
      ]
    },
    {
      "cell_type": "code",
      "source": [
        "class test:\n",
        "  def __init__(self):\n",
        "    self.a=4\n",
        "\n",
        "class test1(test):\n",
        "  def __init__(self):\n",
        "    self.a=7\n"
      ],
      "metadata": {
        "id": "Y5C9xiGmxZUJ"
      },
      "execution_count": 161,
      "outputs": []
    },
    {
      "cell_type": "code",
      "source": [
        "u=test()"
      ],
      "metadata": {
        "id": "BHDAGiN32xKS"
      },
      "execution_count": 162,
      "outputs": []
    },
    {
      "cell_type": "code",
      "source": [
        "u.a"
      ],
      "metadata": {
        "colab": {
          "base_uri": "https://localhost:8080/"
        },
        "id": "ankyjIOq22u9",
        "outputId": "7af9b72d-946f-4057-aa48-163ee95686db"
      },
      "execution_count": 163,
      "outputs": [
        {
          "output_type": "execute_result",
          "data": {
            "text/plain": [
              "4"
            ]
          },
          "metadata": {},
          "execution_count": 163
        }
      ]
    },
    {
      "cell_type": "code",
      "source": [
        "v=test1()"
      ],
      "metadata": {
        "id": "-qSLR5CA23xP"
      },
      "execution_count": 164,
      "outputs": []
    },
    {
      "cell_type": "code",
      "source": [
        "v.a"
      ],
      "metadata": {
        "colab": {
          "base_uri": "https://localhost:8080/"
        },
        "id": "9CL0nurC27cY",
        "outputId": "6205594e-bcac-419b-fdb3-7cf057e857e0"
      },
      "execution_count": 165,
      "outputs": [
        {
          "output_type": "execute_result",
          "data": {
            "text/plain": [
              "7"
            ]
          },
          "metadata": {},
          "execution_count": 165
        }
      ]
    },
    {
      "cell_type": "code",
      "source": [
        "class test:\n",
        "  def __init__(self):\n",
        "    self.a=4\n",
        "\n",
        "class test1(test):\n",
        "  def __init__(self):\n",
        "    test.__init__(self)\n",
        "    self.a=7"
      ],
      "metadata": {
        "id": "WxAn3mXg28ZM"
      },
      "execution_count": 166,
      "outputs": []
    },
    {
      "cell_type": "code",
      "source": [
        "u=test()"
      ],
      "metadata": {
        "id": "DDBgMeBR3dD8"
      },
      "execution_count": 167,
      "outputs": []
    },
    {
      "cell_type": "code",
      "source": [
        "u.a"
      ],
      "metadata": {
        "colab": {
          "base_uri": "https://localhost:8080/"
        },
        "id": "XbVkiDwk3fLT",
        "outputId": "f59f8e9e-beb8-4c1e-e186-e6671808a1ef"
      },
      "execution_count": 168,
      "outputs": [
        {
          "output_type": "execute_result",
          "data": {
            "text/plain": [
              "4"
            ]
          },
          "metadata": {},
          "execution_count": 168
        }
      ]
    },
    {
      "cell_type": "code",
      "source": [
        "v=test1()"
      ],
      "metadata": {
        "id": "XMzqTyDC3gH7"
      },
      "execution_count": 169,
      "outputs": []
    },
    {
      "cell_type": "code",
      "source": [
        "v.a"
      ],
      "metadata": {
        "colab": {
          "base_uri": "https://localhost:8080/"
        },
        "id": "anODFew73hmW",
        "outputId": "5f9e0cb8-0ab1-41f6-961c-8fdb8c7b77ce"
      },
      "execution_count": 170,
      "outputs": [
        {
          "output_type": "execute_result",
          "data": {
            "text/plain": [
              "7"
            ]
          },
          "metadata": {},
          "execution_count": 170
        }
      ]
    },
    {
      "cell_type": "code",
      "source": [
        "class test:\n",
        "  def __init__(self):\n",
        "    self._a=4\n",
        "\n",
        "class test1(test):\n",
        "  def __init__(self):\n",
        "    self.a=7"
      ],
      "metadata": {
        "id": "HKAushs23inS"
      },
      "execution_count": 172,
      "outputs": []
    },
    {
      "cell_type": "code",
      "source": [
        "u=test()"
      ],
      "metadata": {
        "id": "7zqLAjyv3zFU"
      },
      "execution_count": 173,
      "outputs": []
    },
    {
      "cell_type": "code",
      "source": [
        "u.a"
      ],
      "metadata": {
        "colab": {
          "base_uri": "https://localhost:8080/",
          "height": 166
        },
        "id": "HO8F1AYy3-E7",
        "outputId": "cb5bd48e-2594-4689-c070-d804c94145a0"
      },
      "execution_count": 174,
      "outputs": [
        {
          "output_type": "error",
          "ename": "AttributeError",
          "evalue": "ignored",
          "traceback": [
            "\u001b[0;31m---------------------------------------------------------------------------\u001b[0m",
            "\u001b[0;31mAttributeError\u001b[0m                            Traceback (most recent call last)",
            "\u001b[0;32m<ipython-input-174-afa9342845d0>\u001b[0m in \u001b[0;36m<module>\u001b[0;34m\u001b[0m\n\u001b[0;32m----> 1\u001b[0;31m \u001b[0mu\u001b[0m\u001b[0;34m.\u001b[0m\u001b[0ma\u001b[0m\u001b[0;34m\u001b[0m\u001b[0;34m\u001b[0m\u001b[0m\n\u001b[0m",
            "\u001b[0;31mAttributeError\u001b[0m: 'test' object has no attribute 'a'"
          ]
        }
      ]
    },
    {
      "cell_type": "code",
      "source": [
        "class test:\n",
        "  def __init__(self):\n",
        "    self._a=4\n",
        "\n",
        "class test1(test):\n",
        "  def __init__(self):\n",
        "    self._a=7"
      ],
      "metadata": {
        "id": "oeG8S7bn3_eo"
      },
      "execution_count": 175,
      "outputs": []
    },
    {
      "cell_type": "code",
      "source": [
        "u=test()"
      ],
      "metadata": {
        "id": "4LHp-XVF4Q3J"
      },
      "execution_count": 176,
      "outputs": []
    },
    {
      "cell_type": "code",
      "source": [
        "u._a"
      ],
      "metadata": {
        "colab": {
          "base_uri": "https://localhost:8080/"
        },
        "id": "Tj1nFtXT4SXX",
        "outputId": "63c636f3-b8df-42c1-b239-5f6378983058"
      },
      "execution_count": 177,
      "outputs": [
        {
          "output_type": "execute_result",
          "data": {
            "text/plain": [
              "4"
            ]
          },
          "metadata": {},
          "execution_count": 177
        }
      ]
    },
    {
      "cell_type": "code",
      "source": [
        "v=test1()"
      ],
      "metadata": {
        "id": "sh_FiSI84TbS"
      },
      "execution_count": 178,
      "outputs": []
    },
    {
      "cell_type": "code",
      "source": [
        "v._a"
      ],
      "metadata": {
        "colab": {
          "base_uri": "https://localhost:8080/"
        },
        "id": "JVkWZFsX4aud",
        "outputId": "db051f47-25b6-49bd-f95e-2300cf3923f8"
      },
      "execution_count": 179,
      "outputs": [
        {
          "output_type": "execute_result",
          "data": {
            "text/plain": [
              "7"
            ]
          },
          "metadata": {},
          "execution_count": 179
        }
      ]
    },
    {
      "cell_type": "code",
      "source": [
        "class test:\n",
        "  def __init__(self):\n",
        "    self.__a=4\n",
        "\n",
        "class test1(test):\n",
        "  def __init__(self):\n",
        "    self.__a=7"
      ],
      "metadata": {
        "id": "hSfIy5bz4cBi"
      },
      "execution_count": 180,
      "outputs": []
    },
    {
      "cell_type": "code",
      "source": [
        "u=test()"
      ],
      "metadata": {
        "id": "yjPIMo6V4fLB"
      },
      "execution_count": 181,
      "outputs": []
    },
    {
      "cell_type": "code",
      "source": [
        "u.__a"
      ],
      "metadata": {
        "colab": {
          "base_uri": "https://localhost:8080/",
          "height": 166
        },
        "id": "rWMi6HB34iBN",
        "outputId": "77b8e30b-67bd-44d0-c547-6ffa99c3c474"
      },
      "execution_count": 182,
      "outputs": [
        {
          "output_type": "error",
          "ename": "AttributeError",
          "evalue": "ignored",
          "traceback": [
            "\u001b[0;31m---------------------------------------------------------------------------\u001b[0m",
            "\u001b[0;31mAttributeError\u001b[0m                            Traceback (most recent call last)",
            "\u001b[0;32m<ipython-input-182-45f5c7f66ea7>\u001b[0m in \u001b[0;36m<module>\u001b[0;34m\u001b[0m\n\u001b[0;32m----> 1\u001b[0;31m \u001b[0mu\u001b[0m\u001b[0;34m.\u001b[0m\u001b[0m__a\u001b[0m\u001b[0;34m\u001b[0m\u001b[0;34m\u001b[0m\u001b[0m\n\u001b[0m",
            "\u001b[0;31mAttributeError\u001b[0m: 'test' object has no attribute '__a'"
          ]
        }
      ]
    },
    {
      "cell_type": "code",
      "source": [
        "class test():\n",
        "  def __init__(self,a,b,c):\n",
        "    self._a=a\n",
        "    self.__b=b\n",
        "    self.c=c"
      ],
      "metadata": {
        "id": "hjKE4wX54jG0"
      },
      "execution_count": 191,
      "outputs": []
    },
    {
      "cell_type": "code",
      "source": [
        "v=test(4,5,6)"
      ],
      "metadata": {
        "id": "rZYcyUnc44tw"
      },
      "execution_count": 192,
      "outputs": []
    },
    {
      "cell_type": "code",
      "source": [
        "v._a"
      ],
      "metadata": {
        "colab": {
          "base_uri": "https://localhost:8080/"
        },
        "id": "4oTkPZj7461c",
        "outputId": "8a46471d-975b-412f-95b9-67c27cb6b2e6"
      },
      "execution_count": 193,
      "outputs": [
        {
          "output_type": "execute_result",
          "data": {
            "text/plain": [
              "4"
            ]
          },
          "metadata": {},
          "execution_count": 193
        }
      ]
    },
    {
      "cell_type": "code",
      "source": [
        "v.__b"
      ],
      "metadata": {
        "colab": {
          "base_uri": "https://localhost:8080/",
          "height": 166
        },
        "id": "BHqOM0E-5C8a",
        "outputId": "47635238-f0b2-42d5-931c-33e1a8c8282a"
      },
      "execution_count": 194,
      "outputs": [
        {
          "output_type": "error",
          "ename": "AttributeError",
          "evalue": "ignored",
          "traceback": [
            "\u001b[0;31m---------------------------------------------------------------------------\u001b[0m",
            "\u001b[0;31mAttributeError\u001b[0m                            Traceback (most recent call last)",
            "\u001b[0;32m<ipython-input-194-93239adde735>\u001b[0m in \u001b[0;36m<module>\u001b[0;34m\u001b[0m\n\u001b[0;32m----> 1\u001b[0;31m \u001b[0mv\u001b[0m\u001b[0;34m.\u001b[0m\u001b[0m__b\u001b[0m\u001b[0;34m\u001b[0m\u001b[0;34m\u001b[0m\u001b[0m\n\u001b[0m",
            "\u001b[0;31mAttributeError\u001b[0m: 'test' object has no attribute '__b'"
          ]
        }
      ]
    },
    {
      "cell_type": "code",
      "source": [
        "#other person will not make any changes in your code that is called encapsulation\n",
        "#public a,private __a,producted _a"
      ],
      "metadata": {
        "id": "LdBzI8u85Eka"
      },
      "execution_count": 195,
      "outputs": []
    },
    {
      "cell_type": "code",
      "source": [
        "v._test__b"
      ],
      "metadata": {
        "colab": {
          "base_uri": "https://localhost:8080/"
        },
        "id": "10O5wLWN5U1r",
        "outputId": "7fe26850-40fc-49df-f653-9bb8f8891806"
      },
      "execution_count": 198,
      "outputs": [
        {
          "output_type": "execute_result",
          "data": {
            "text/plain": [
              "5"
            ]
          },
          "metadata": {},
          "execution_count": 198
        }
      ]
    },
    {
      "cell_type": "code",
      "source": [
        "# to acess private variable object._class name__variable"
      ],
      "metadata": {
        "id": "VIYckNRu5glP"
      },
      "execution_count": 199,
      "outputs": []
    },
    {
      "cell_type": "code",
      "source": [
        "class test():\n",
        "  def __init__(self,a,b,c):\n",
        "    self._a=a\n",
        "    self.__b=b\n",
        "    self.c=c\n",
        "class test1(test):\n",
        "  pass\n",
        "    "
      ],
      "metadata": {
        "id": "vMw8fawb562f"
      },
      "execution_count": 200,
      "outputs": []
    },
    {
      "cell_type": "code",
      "source": [
        "v=test1(3,5,7)"
      ],
      "metadata": {
        "id": "_eNkIYmW6TAV"
      },
      "execution_count": 202,
      "outputs": []
    },
    {
      "cell_type": "code",
      "source": [
        "v.c"
      ],
      "metadata": {
        "colab": {
          "base_uri": "https://localhost:8080/"
        },
        "id": "cXmCc5eL6U3c",
        "outputId": "c3aa9161-945b-4c64-e463-516bfff63a25"
      },
      "execution_count": 203,
      "outputs": [
        {
          "output_type": "execute_result",
          "data": {
            "text/plain": [
              "7"
            ]
          },
          "metadata": {},
          "execution_count": 203
        }
      ]
    },
    {
      "cell_type": "code",
      "source": [
        "v._a"
      ],
      "metadata": {
        "colab": {
          "base_uri": "https://localhost:8080/"
        },
        "id": "jv6RcOCh6Vhp",
        "outputId": "3fc7159d-457a-4263-d29d-e018eabb7c36"
      },
      "execution_count": 207,
      "outputs": [
        {
          "output_type": "execute_result",
          "data": {
            "text/plain": [
              "3"
            ]
          },
          "metadata": {},
          "execution_count": 207
        }
      ]
    },
    {
      "cell_type": "code",
      "source": [
        "v._test1__b"
      ],
      "metadata": {
        "colab": {
          "base_uri": "https://localhost:8080/",
          "height": 166
        },
        "id": "zh9EmYWb6bqL",
        "outputId": "f84d3588-dfc1-45fc-f138-6313a44dd5d8"
      },
      "execution_count": 213,
      "outputs": [
        {
          "output_type": "error",
          "ename": "AttributeError",
          "evalue": "ignored",
          "traceback": [
            "\u001b[0;31m---------------------------------------------------------------------------\u001b[0m",
            "\u001b[0;31mAttributeError\u001b[0m                            Traceback (most recent call last)",
            "\u001b[0;32m<ipython-input-213-e4a8a3d2c439>\u001b[0m in \u001b[0;36m<module>\u001b[0;34m\u001b[0m\n\u001b[0;32m----> 1\u001b[0;31m \u001b[0mv\u001b[0m\u001b[0;34m.\u001b[0m\u001b[0m_test1__b\u001b[0m\u001b[0;34m\u001b[0m\u001b[0;34m\u001b[0m\u001b[0m\n\u001b[0m",
            "\u001b[0;31mAttributeError\u001b[0m: 'test1' object has no attribute '_test1__b'"
          ]
        }
      ]
    },
    {
      "cell_type": "code",
      "source": [
        "u=test(3,5,7)"
      ],
      "metadata": {
        "id": "wDbx9bvm6mvA"
      },
      "execution_count": 214,
      "outputs": []
    },
    {
      "cell_type": "code",
      "source": [
        "u.c"
      ],
      "metadata": {
        "colab": {
          "base_uri": "https://localhost:8080/"
        },
        "id": "RJsdSMwr604m",
        "outputId": "6eb965f6-550b-474f-b630-bba1856a5663"
      },
      "execution_count": 215,
      "outputs": [
        {
          "output_type": "execute_result",
          "data": {
            "text/plain": [
              "7"
            ]
          },
          "metadata": {},
          "execution_count": 215
        }
      ]
    },
    {
      "cell_type": "code",
      "source": [
        "u._test__b"
      ],
      "metadata": {
        "colab": {
          "base_uri": "https://localhost:8080/"
        },
        "id": "gIvZajYo65D_",
        "outputId": "5aa28760-4224-4afa-a169-1c316840e337"
      },
      "execution_count": 216,
      "outputs": [
        {
          "output_type": "execute_result",
          "data": {
            "text/plain": [
              "5"
            ]
          },
          "metadata": {},
          "execution_count": 216
        }
      ]
    },
    {
      "cell_type": "code",
      "source": [
        "#private variable we can access inside of child class,but producted not possible"
      ],
      "metadata": {
        "id": "FvoUI2_H8ZVM"
      },
      "execution_count": 217,
      "outputs": []
    },
    {
      "cell_type": "code",
      "source": [
        "class bonusclass:\n",
        "  def __init__(self,empid,rating):\n",
        "    self.empid=empid\n",
        "    self.rating=rating\n",
        "    self.__ratingA=\"70%\"\n",
        "    self.__ratingB=\"60%\"\n",
        "    self.__ratingC=\"40%\"\n",
        "\n",
        "  def bonuscalculater(self):\n",
        "    if self.rating==\"A\":\n",
        "      bonus=self.__ratingA\n",
        "      return bonus\n",
        "    if self.rating==\"B\":\n",
        "      bonus=self.__ratingB\n",
        "      return bonus\n",
        "    else:\n",
        "      bonus=self.__ratingC\n",
        "      return bonus\n"
      ],
      "metadata": {
        "id": "bKh7h7V28mYk"
      },
      "execution_count": 225,
      "outputs": []
    },
    {
      "cell_type": "code",
      "source": [
        "c=bonusclass(101,\"A\")"
      ],
      "metadata": {
        "id": "uXvSO0O-EOMO"
      },
      "execution_count": 226,
      "outputs": []
    },
    {
      "cell_type": "code",
      "source": [
        "d=bonusclass(102,\"C\")"
      ],
      "metadata": {
        "id": "Wl3kJPEvEhTC"
      },
      "execution_count": 228,
      "outputs": []
    },
    {
      "cell_type": "code",
      "source": [
        "e=bonusclass(102,\"B\")"
      ],
      "metadata": {
        "id": "sxQgdPpgFHcK"
      },
      "execution_count": 229,
      "outputs": []
    },
    {
      "cell_type": "code",
      "source": [
        "c.bonuscalculater()"
      ],
      "metadata": {
        "colab": {
          "base_uri": "https://localhost:8080/",
          "height": 35
        },
        "id": "6WgNOhF-FLvv",
        "outputId": "612e7afa-97f2-4472-d0c4-c10bc162213c"
      },
      "execution_count": 230,
      "outputs": [
        {
          "output_type": "execute_result",
          "data": {
            "text/plain": [
              "'70%'"
            ],
            "application/vnd.google.colaboratory.intrinsic+json": {
              "type": "string"
            }
          },
          "metadata": {},
          "execution_count": 230
        }
      ]
    },
    {
      "cell_type": "code",
      "source": [
        "c.empid=104"
      ],
      "metadata": {
        "id": "ZxOhGB_IFPLx"
      },
      "execution_count": 231,
      "outputs": []
    },
    {
      "cell_type": "code",
      "source": [
        "c.empid"
      ],
      "metadata": {
        "colab": {
          "base_uri": "https://localhost:8080/"
        },
        "id": "Szf6Hg0UGDpV",
        "outputId": "87a4b580-4cf0-4a32-fbe0-4051dbbf87df"
      },
      "execution_count": 232,
      "outputs": [
        {
          "output_type": "execute_result",
          "data": {
            "text/plain": [
              "104"
            ]
          },
          "metadata": {},
          "execution_count": 232
        }
      ]
    },
    {
      "cell_type": "code",
      "source": [
        "c.rating=\"B\""
      ],
      "metadata": {
        "id": "N4WZ56x5GFqt"
      },
      "execution_count": 235,
      "outputs": []
    },
    {
      "cell_type": "code",
      "source": [
        "c.bonuscalculater()"
      ],
      "metadata": {
        "colab": {
          "base_uri": "https://localhost:8080/",
          "height": 35
        },
        "id": "wXgoPshuGLw7",
        "outputId": "0001dfda-77c6-4927-b961-33ac0a2e76a0"
      },
      "execution_count": 236,
      "outputs": [
        {
          "output_type": "execute_result",
          "data": {
            "text/plain": [
              "'60%'"
            ],
            "application/vnd.google.colaboratory.intrinsic+json": {
              "type": "string"
            }
          },
          "metadata": {},
          "execution_count": 236
        }
      ]
    },
    {
      "cell_type": "code",
      "source": [
        "c.__ratingB=\"90%\""
      ],
      "metadata": {
        "id": "hV5MNWtIGPeE"
      },
      "execution_count": 237,
      "outputs": []
    },
    {
      "cell_type": "code",
      "source": [
        "c.bonuscalculater()"
      ],
      "metadata": {
        "colab": {
          "base_uri": "https://localhost:8080/",
          "height": 35
        },
        "id": "JSL16fQyGjV5",
        "outputId": "6e3f2be1-aab7-458a-fec3-ecba038fa20b"
      },
      "execution_count": 238,
      "outputs": [
        {
          "output_type": "execute_result",
          "data": {
            "text/plain": [
              "'60%'"
            ],
            "application/vnd.google.colaboratory.intrinsic+json": {
              "type": "string"
            }
          },
          "metadata": {},
          "execution_count": 238
        }
      ]
    },
    {
      "cell_type": "code",
      "source": [
        "# if we change the value also it will show the correct value"
      ],
      "metadata": {
        "id": "FObOmc87Grls"
      },
      "execution_count": 239,
      "outputs": []
    },
    {
      "cell_type": "code",
      "source": [
        "d.__ratingB=\"100%\""
      ],
      "metadata": {
        "id": "tTSbJGQUG6lj"
      },
      "execution_count": 241,
      "outputs": []
    },
    {
      "cell_type": "code",
      "source": [
        "d.bonuscalculater()"
      ],
      "metadata": {
        "colab": {
          "base_uri": "https://localhost:8080/",
          "height": 35
        },
        "id": "TH-nj9u8HFzO",
        "outputId": "4457db8f-d889-4fd2-f175-f03e935f4985"
      },
      "execution_count": 243,
      "outputs": [
        {
          "output_type": "execute_result",
          "data": {
            "text/plain": [
              "'40%'"
            ],
            "application/vnd.google.colaboratory.intrinsic+json": {
              "type": "string"
            }
          },
          "metadata": {},
          "execution_count": 243
        }
      ]
    },
    {
      "cell_type": "code",
      "source": [
        "#we can change empid,and rating bcoz that is public,other variables are private"
      ],
      "metadata": {
        "id": "7nvct57LHNb-"
      },
      "execution_count": 245,
      "outputs": []
    },
    {
      "cell_type": "code",
      "source": [
        "# this is the concept of encapsulation"
      ],
      "metadata": {
        "id": "iwLOZhxbHrZN"
      },
      "execution_count": 246,
      "outputs": []
    },
    {
      "cell_type": "code",
      "source": [],
      "metadata": {
        "id": "1dp16HmUII1C"
      },
      "execution_count": null,
      "outputs": []
    }
  ]
}