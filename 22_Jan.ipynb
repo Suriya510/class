{
  "nbformat": 4,
  "nbformat_minor": 0,
  "metadata": {
    "colab": {
      "provenance": []
    },
    "kernelspec": {
      "name": "python3",
      "display_name": "Python 3"
    },
    "language_info": {
      "name": "python"
    }
  },
  "cells": [
    {
      "cell_type": "code",
      "execution_count": null,
      "metadata": {
        "id": "GHf3s8PPcSMI"
      },
      "outputs": [],
      "source": [
        "#module"
      ]
    },
    {
      "cell_type": "code",
      "source": [
        "import os"
      ],
      "metadata": {
        "id": "j1BA50pIc1ei"
      },
      "execution_count": null,
      "outputs": []
    },
    {
      "cell_type": "code",
      "source": [
        "#modular code is for reusablity"
      ],
      "metadata": {
        "id": "VFu3nMCDhOSd"
      },
      "execution_count": null,
      "outputs": []
    },
    {
      "cell_type": "code",
      "source": [
        "def test(a,b):\n",
        "  return a+b"
      ],
      "metadata": {
        "id": "khqIK5KBhcq9"
      },
      "execution_count": null,
      "outputs": []
    },
    {
      "cell_type": "code",
      "source": [
        "#if we would like to use the same code in some other notebook this will not work"
      ],
      "metadata": {
        "id": "3csLXs1HiewR"
      },
      "execution_count": null,
      "outputs": []
    },
    {
      "cell_type": "code",
      "source": [
        "\"\"\"\n",
        "type()\n",
        "print()\n",
        "len\n",
        "some one return the above fuction but we are import and using it\n",
        "we can also creat like the same\n",
        "\n",
        "\"\"\""
      ],
      "metadata": {
        "colab": {
          "base_uri": "https://localhost:8080/",
          "height": 35
        },
        "id": "nUkecgQwkAMh",
        "outputId": "dd861d96-aacf-45eb-a8a8-8a0cb390690d"
      },
      "execution_count": null,
      "outputs": [
        {
          "output_type": "execute_result",
          "data": {
            "text/plain": [
              "'\\ntype()\\nprint()\\nlen\\nsome one return the above fuction but we are import and using it\\nwe can also creat like the same\\n\\n'"
            ],
            "application/vnd.google.colaboratory.intrinsic+json": {
              "type": "string"
            }
          },
          "metadata": {},
          "execution_count": 6
        }
      ]
    },
    {
      "cell_type": "code",
      "source": [
        "pwd()"
      ],
      "metadata": {
        "colab": {
          "base_uri": "https://localhost:8080/",
          "height": 35
        },
        "id": "1xmVzq8XkuDd",
        "outputId": "7f564fb1-a3c5-4f51-a162-61c62b87c3b0"
      },
      "execution_count": null,
      "outputs": [
        {
          "output_type": "execute_result",
          "data": {
            "text/plain": [
              "'/content'"
            ],
            "application/vnd.google.colaboratory.intrinsic+json": {
              "type": "string"
            }
          },
          "metadata": {},
          "execution_count": 7
        }
      ]
    },
    {
      "cell_type": "code",
      "source": [
        "ls"
      ],
      "metadata": {
        "colab": {
          "base_uri": "https://localhost:8080/"
        },
        "id": "i5f4k6EhlZYP",
        "outputId": "3672b786-a2d3-4d41-ecaa-4c3f5b193aae"
      },
      "execution_count": null,
      "outputs": [
        {
          "output_type": "stream",
          "name": "stdout",
          "text": [
            "\u001b[0m\u001b[01;34msample_data\u001b[0m/\n"
          ]
        }
      ]
    },
    {
      "cell_type": "code",
      "source": [
        "#copy and paste the empty test1.py file in the same directory"
      ],
      "metadata": {
        "id": "5628KaGtlaaL"
      },
      "execution_count": null,
      "outputs": []
    },
    {
      "cell_type": "code",
      "source": [
        "f=open(\"test2.py\",\"w\")"
      ],
      "metadata": {
        "id": "pMyBti08l42U"
      },
      "execution_count": null,
      "outputs": []
    },
    {
      "cell_type": "code",
      "source": [
        "f.write(\"\"\"\n",
        "    def add(a,b):\n",
        "      return a+b\n",
        "\"\"\")"
      ],
      "metadata": {
        "colab": {
          "base_uri": "https://localhost:8080/"
        },
        "id": "xzDorhglmLbo",
        "outputId": "8e2d955f-2b1b-4855-add0-85ceb1a8c6a2"
      },
      "execution_count": null,
      "outputs": [
        {
          "output_type": "execute_result",
          "data": {
            "text/plain": [
              "36"
            ]
          },
          "metadata": {},
          "execution_count": 22
        }
      ]
    },
    {
      "cell_type": "code",
      "source": [
        "f.close"
      ],
      "metadata": {
        "colab": {
          "base_uri": "https://localhost:8080/"
        },
        "id": "Y0GS_ULRoaMx",
        "outputId": "91253261-a77b-479b-9f2d-63ce2de8ca4f"
      },
      "execution_count": null,
      "outputs": [
        {
          "output_type": "execute_result",
          "data": {
            "text/plain": [
              "<function TextIOWrapper.close()>"
            ]
          },
          "metadata": {},
          "execution_count": 23
        }
      ]
    },
    {
      "cell_type": "code",
      "source": [
        "import test2"
      ],
      "metadata": {
        "id": "x4Z4fJbWmMW3"
      },
      "execution_count": null,
      "outputs": []
    },
    {
      "cell_type": "code",
      "source": [
        "f=open(\"test2.py\",\"r\")"
      ],
      "metadata": {
        "id": "YX7IWLaqoHk8"
      },
      "execution_count": null,
      "outputs": []
    },
    {
      "cell_type": "code",
      "source": [
        "f.readlines()"
      ],
      "metadata": {
        "colab": {
          "base_uri": "https://localhost:8080/"
        },
        "id": "GFShokgcoJpQ",
        "outputId": "10b2dc48-05a7-4ee6-c847-d84f958a81b9"
      },
      "execution_count": null,
      "outputs": [
        {
          "output_type": "execute_result",
          "data": {
            "text/plain": [
              "['\\n', '    def add(a,b):\\n', '      return a+b\\n']"
            ]
          },
          "metadata": {},
          "execution_count": 28
        }
      ]
    },
    {
      "cell_type": "code",
      "source": [
        "\"\"\" \n",
        "if we save the test2 in note pad ++ and saved in a same directort below code will work\n",
        "import test2\n",
        "test2.add(3,5)\n",
        "\"\"\""
      ],
      "metadata": {
        "colab": {
          "base_uri": "https://localhost:8080/",
          "height": 35
        },
        "id": "fnojAO4Qo02T",
        "outputId": "fc8c1edf-1569-4c85-b906-74b46dc8cabe"
      },
      "execution_count": null,
      "outputs": [
        {
          "output_type": "execute_result",
          "data": {
            "text/plain": [
              "' \\nif we save the test2 in note pad ++ and saved in a same directort below code will work\\nimport test2\\ntest2.add(3,5)\\n'"
            ],
            "application/vnd.google.colaboratory.intrinsic+json": {
              "type": "string"
            }
          },
          "metadata": {},
          "execution_count": 29
        }
      ]
    },
    {
      "cell_type": "code",
      "source": [
        "import test1"
      ],
      "metadata": {
        "id": "gUxnAhf3pHUu"
      },
      "execution_count": null,
      "outputs": []
    },
    {
      "cell_type": "code",
      "source": [
        "test1.test4()"
      ],
      "metadata": {
        "id": "j7_TJWfHqDFN"
      },
      "execution_count": null,
      "outputs": []
    },
    {
      "cell_type": "code",
      "source": [
        "\"\"\"\n",
        "test1 is module\n",
        "\n",
        "if we want to import all the file file in test1 module\n",
        "\n",
        "form test1 import *\n",
        "\n",
        "if we want to import only one function\n",
        "\n",
        "from test1 import test4\n",
        "\n",
        "test4()\n",
        "\n",
        "this will call and display the o/p\n",
        "\n",
        "\"\"\""
      ],
      "metadata": {
        "colab": {
          "base_uri": "https://localhost:8080/",
          "height": 52
        },
        "id": "c7tZSD3SqKAa",
        "outputId": "0b7365a9-28d8-46e1-cc14-5c0d730902e3"
      },
      "execution_count": null,
      "outputs": [
        {
          "output_type": "execute_result",
          "data": {
            "text/plain": [
              "'\\ntest1 is module\\n\\nif we want to import all the file file in test1 module\\n\\nform test1 import *\\n\\nif we want to import only one function\\n\\nfrom test1 import test4\\n\\ntest4()\\n\\nthis will call and display the o/p\\n\\n'"
            ],
            "application/vnd.google.colaboratory.intrinsic+json": {
              "type": "string"
            }
          },
          "metadata": {},
          "execution_count": 31
        }
      ]
    },
    {
      "cell_type": "code",
      "source": [
        "#we have to mention doc string when we create a module"
      ],
      "metadata": {
        "id": "CuLQsOTIqKDG"
      },
      "execution_count": null,
      "outputs": []
    },
    {
      "cell_type": "code",
      "source": [
        "#link this we can check the source code for inbuilt function in python.org"
      ],
      "metadata": {
        "id": "WbwVTvEAqKGe"
      },
      "execution_count": null,
      "outputs": []
    },
    {
      "cell_type": "code",
      "source": [
        "# https://docs.python.org/3/py-modindex.html"
      ],
      "metadata": {
        "id": "-ixddiDYt14d"
      },
      "execution_count": null,
      "outputs": []
    },
    {
      "cell_type": "code",
      "source": [
        "dir()"
      ],
      "metadata": {
        "colab": {
          "base_uri": "https://localhost:8080/"
        },
        "id": "oD6keb_UdGwG",
        "outputId": "fe3a1b33-fd2e-4eff-d8c4-b0de6712d1d4"
      },
      "execution_count": null,
      "outputs": [
        {
          "output_type": "execute_result",
          "data": {
            "text/plain": [
              "['In',\n",
              " 'Out',\n",
              " '_',\n",
              " '__',\n",
              " '___',\n",
              " '__builtin__',\n",
              " '__builtins__',\n",
              " '__doc__',\n",
              " '__loader__',\n",
              " '__name__',\n",
              " '__package__',\n",
              " '__spec__',\n",
              " '_dh',\n",
              " '_i',\n",
              " '_i1',\n",
              " '_i2',\n",
              " '_ih',\n",
              " '_ii',\n",
              " '_iii',\n",
              " '_oh',\n",
              " 'exit',\n",
              " 'get_ipython',\n",
              " 'quit']"
            ]
          },
          "metadata": {},
          "execution_count": 2
        }
      ]
    },
    {
      "cell_type": "code",
      "source": [
        "#list down the module in particular directory"
      ],
      "metadata": {
        "id": "FjVkWUERfN2i"
      },
      "execution_count": null,
      "outputs": []
    },
    {
      "cell_type": "code",
      "source": [
        "f=open(\"my_module.py\",\"w\")"
      ],
      "metadata": {
        "id": "CWAji9B9fUum"
      },
      "execution_count": null,
      "outputs": []
    },
    {
      "cell_type": "code",
      "source": [
        "f.write(\"\"\"\n",
        "data={\"name\":\"ineuron\",\n",
        "\"course\":[\"ds\",\"sceince\"],\n",
        "\"greeting\":\"welcome\"\n",
        "}\n",
        "\n",
        "def get_course():\n",
        "  return data[course]\n",
        "def greeting():\n",
        "  return data['greeting']\n",
        "\"\"\")"
      ],
      "metadata": {
        "colab": {
          "base_uri": "https://localhost:8080/"
        },
        "id": "wOIOOoZwffp7",
        "outputId": "421b1231-bbc0-40d4-8cc2-dfb87592c860"
      },
      "execution_count": null,
      "outputs": [
        {
          "output_type": "execute_result",
          "data": {
            "text/plain": [
              "158"
            ]
          },
          "metadata": {},
          "execution_count": 14
        }
      ]
    },
    {
      "cell_type": "code",
      "source": [
        "f.close()"
      ],
      "metadata": {
        "id": "guWvKhZAgX8a"
      },
      "execution_count": null,
      "outputs": []
    },
    {
      "cell_type": "code",
      "source": [
        "import my_module"
      ],
      "metadata": {
        "id": "EGymXtUvgb0_"
      },
      "execution_count": null,
      "outputs": []
    },
    {
      "cell_type": "code",
      "source": [
        "my_module.get_course()"
      ],
      "metadata": {
        "colab": {
          "base_uri": "https://localhost:8080/"
        },
        "id": "8mPmE5N9gh7j",
        "outputId": "3cf9095e-0390-47cf-ebe2-30f9bd67a3df"
      },
      "execution_count": null,
      "outputs": [
        {
          "output_type": "execute_result",
          "data": {
            "text/plain": [
              "['ds', 'sceince']"
            ]
          },
          "metadata": {},
          "execution_count": 17
        }
      ]
    },
    {
      "cell_type": "code",
      "source": [
        "my_module.greeting()"
      ],
      "metadata": {
        "colab": {
          "base_uri": "https://localhost:8080/",
          "height": 35
        },
        "id": "ZUNBD3fDgkt7",
        "outputId": "51d34dc1-3ee7-443b-c7b0-12ea0710c897"
      },
      "execution_count": null,
      "outputs": [
        {
          "output_type": "execute_result",
          "data": {
            "text/plain": [
              "'welcome'"
            ],
            "application/vnd.google.colaboratory.intrinsic+json": {
              "type": "string"
            }
          },
          "metadata": {},
          "execution_count": 11
        }
      ]
    },
    {
      "cell_type": "code",
      "source": [
        "#module is the single py file with n number of functions"
      ],
      "metadata": {
        "id": "KSwq2MTKgvOj"
      },
      "execution_count": null,
      "outputs": []
    },
    {
      "cell_type": "code",
      "source": [
        "#pycharm download"
      ],
      "metadata": {
        "id": "onm6PZX0hmZz"
      },
      "execution_count": null,
      "outputs": []
    },
    {
      "cell_type": "code",
      "source": [
        "#OOPS concept"
      ],
      "metadata": {
        "id": "r3BLKgMTiQOF"
      },
      "execution_count": 1,
      "outputs": []
    },
    {
      "cell_type": "code",
      "source": [
        "l=[1,2,3,4,5]\n",
        "for i in l:\n",
        "  print(i)"
      ],
      "metadata": {
        "colab": {
          "base_uri": "https://localhost:8080/"
        },
        "id": "V1oYW8lrdHdr",
        "outputId": "bf85b0a5-dd25-46a3-db58-a5ac55e32e73"
      },
      "execution_count": 2,
      "outputs": [
        {
          "output_type": "stream",
          "name": "stdout",
          "text": [
            "1\n",
            "2\n",
            "3\n",
            "4\n",
            "5\n"
          ]
        }
      ]
    },
    {
      "cell_type": "code",
      "source": [
        "\"\"\"\n",
        "if we have so many fun mantance is very difficult\n",
        "so we are using PKG and module\n",
        "OOPS help to create a structure module\n",
        "here we are going to use each and everything linke a object\n",
        "\"\"\""
      ],
      "metadata": {
        "colab": {
          "base_uri": "https://localhost:8080/",
          "height": 70
        },
        "id": "Sw4UyiEEdMCH",
        "outputId": "7607c73b-b69c-475c-c753-3700418617ac"
      },
      "execution_count": 3,
      "outputs": [
        {
          "output_type": "execute_result",
          "data": {
            "text/plain": [
              "'\\nif we have so many fun mantance is very difficult\\nso we are using PKG and module\\nOOPS help to create a structure module\\nhere we are going to use each and everything linke a object\\n'"
            ],
            "application/vnd.google.colaboratory.intrinsic+json": {
              "type": "string"
            }
          },
          "metadata": {},
          "execution_count": 3
        }
      ]
    },
    {
      "cell_type": "code",
      "source": [
        "\"\"\"\n",
        "class bile print of the object\n",
        "ex:car what car we will not know (we have atleast some kind of info it has 4 week 4 door)\n",
        "car - class\n",
        "type-opject\n",
        "\n",
        "\"\"\""
      ],
      "metadata": {
        "id": "FImITIBgeRDq"
      },
      "execution_count": null,
      "outputs": []
    },
    {
      "cell_type": "code",
      "source": [
        "t={2,\"kn\",2}"
      ],
      "metadata": {
        "id": "l9ohaOLs27Jk"
      },
      "execution_count": 8,
      "outputs": []
    },
    {
      "cell_type": "code",
      "source": [
        "t"
      ],
      "metadata": {
        "colab": {
          "base_uri": "https://localhost:8080/"
        },
        "id": "qRHnGC3E4RrF",
        "outputId": "0801e9ba-fabe-4498-9e7f-8c9ee0d93118"
      },
      "execution_count": 9,
      "outputs": [
        {
          "output_type": "execute_result",
          "data": {
            "text/plain": [
              "{2, 'kn'}"
            ]
          },
          "metadata": {},
          "execution_count": 9
        }
      ]
    },
    {
      "cell_type": "code",
      "source": [
        "class car:\n",
        "  pass\n"
      ],
      "metadata": {
        "id": "F2_KVt1r4Xjr"
      },
      "execution_count": 10,
      "outputs": []
    },
    {
      "cell_type": "code",
      "source": [
        "class car:\n",
        "  def __init__(self,brand_name,fuletype,body_type):\n",
        "    self.brand_name=brand_name\n",
        "    self.fuletype=fuletype\n",
        "    self.body_type=body_type\n",
        "  \n",
        "  def desc_car(self):\n",
        "    print(self.brand_name,self.fuletype,self.body_type)"
      ],
      "metadata": {
        "id": "wAQj0G9K5dT_"
      },
      "execution_count": 16,
      "outputs": []
    },
    {
      "cell_type": "code",
      "source": [
        "\"\"\"\n",
        "def __init__            #inbuilt function\n",
        "init is called constructor is help my class to ask input  when the object creation\n",
        "self always behave as a pointer its reponsible to pointing class\n",
        "\n",
        "\"\"\""
      ],
      "metadata": {
        "colab": {
          "base_uri": "https://localhost:8080/",
          "height": 70
        },
        "id": "tlVy9C3y53PM",
        "outputId": "04b44e31-2809-4bb3-afe5-6b45a47085a0"
      },
      "execution_count": 17,
      "outputs": [
        {
          "output_type": "execute_result",
          "data": {
            "text/plain": [
              "'\\ndef __init__            #inbuilt function\\ninit is called constructor is help my class to ask input  when the object creation\\nself always behave as a pointer its reponsible to pointing class\\n\\n'"
            ],
            "application/vnd.google.colaboratory.intrinsic+json": {
              "type": "string"
            }
          },
          "metadata": {},
          "execution_count": 17
        }
      ]
    },
    {
      "cell_type": "code",
      "source": [
        "innova=car(\"toyato\",\"petrol\",\"suv\")\n",
        "nexon=car(\"tata\",\"petrol\",\"mini suv\")\n",
        "fortune=car(\"toyato\",\"diesel\",\"suv\")"
      ],
      "metadata": {
        "id": "1-0748tO53dr"
      },
      "execution_count": 22,
      "outputs": []
    },
    {
      "cell_type": "code",
      "source": [
        "innova.desc_car()"
      ],
      "metadata": {
        "colab": {
          "base_uri": "https://localhost:8080/"
        },
        "id": "L1IXpog77If9",
        "outputId": "4cc08630-4143-4bc9-9ea7-53ab10a329f3"
      },
      "execution_count": 19,
      "outputs": [
        {
          "output_type": "stream",
          "name": "stdout",
          "text": [
            "toyato petrol suv\n"
          ]
        }
      ]
    },
    {
      "cell_type": "code",
      "source": [
        "innova.brand_name"
      ],
      "metadata": {
        "colab": {
          "base_uri": "https://localhost:8080/",
          "height": 35
        },
        "id": "6802Yk_E8jXs",
        "outputId": "46bb51f1-43e4-41d8-df30-baf8a83ad6ff"
      },
      "execution_count": 20,
      "outputs": [
        {
          "output_type": "execute_result",
          "data": {
            "text/plain": [
              "'toyato'"
            ],
            "application/vnd.google.colaboratory.intrinsic+json": {
              "type": "string"
            }
          },
          "metadata": {},
          "execution_count": 20
        }
      ]
    },
    {
      "cell_type": "code",
      "source": [
        "nexon.body_type"
      ],
      "metadata": {
        "colab": {
          "base_uri": "https://localhost:8080/",
          "height": 35
        },
        "id": "EejjWWr783lp",
        "outputId": "6e1f7004-9707-47da-d2ca-b02bf9d6e298"
      },
      "execution_count": 23,
      "outputs": [
        {
          "output_type": "execute_result",
          "data": {
            "text/plain": [
              "'mini suv'"
            ],
            "application/vnd.google.colaboratory.intrinsic+json": {
              "type": "string"
            }
          },
          "metadata": {},
          "execution_count": 23
        }
      ]
    },
    {
      "cell_type": "code",
      "source": [
        "nexon.desc_car()"
      ],
      "metadata": {
        "colab": {
          "base_uri": "https://localhost:8080/"
        },
        "id": "4pT3GLH487qK",
        "outputId": "0f74c267-0431-41b1-d736-4393aff2dceb"
      },
      "execution_count": 24,
      "outputs": [
        {
          "output_type": "stream",
          "name": "stdout",
          "text": [
            "tata petrol mini suv\n"
          ]
        }
      ]
    },
    {
      "cell_type": "code",
      "source": [
        "a=10"
      ],
      "metadata": {
        "id": "pUX0ar7f_7mQ"
      },
      "execution_count": 25,
      "outputs": []
    },
    {
      "cell_type": "code",
      "source": [
        "# a is the variable og int class"
      ],
      "metadata": {
        "id": "27MRYFnU_9EG"
      },
      "execution_count": 26,
      "outputs": []
    },
    {
      "cell_type": "code",
      "source": [
        "print(type(a))"
      ],
      "metadata": {
        "colab": {
          "base_uri": "https://localhost:8080/"
        },
        "id": "pQP_t39iAGri",
        "outputId": "82056360-36a5-4a7e-abb6-983e77972e8d"
      },
      "execution_count": 28,
      "outputs": [
        {
          "output_type": "stream",
          "name": "stdout",
          "text": [
            "<class 'int'>\n"
          ]
        }
      ]
    },
    {
      "cell_type": "code",
      "source": [],
      "metadata": {
        "id": "0F_DaLReAHpw"
      },
      "execution_count": null,
      "outputs": []
    }
  ]
}