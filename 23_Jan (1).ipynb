{
  "nbformat": 4,
  "nbformat_minor": 0,
  "metadata": {
    "colab": {
      "provenance": []
    },
    "kernelspec": {
      "name": "python3",
      "display_name": "Python 3"
    },
    "language_info": {
      "name": "python"
    }
  },
  "cells": [
    {
      "cell_type": "code",
      "execution_count": 1,
      "metadata": {
        "id": "7m2vElC_KHi8"
      },
      "outputs": [],
      "source": [
        "#oops"
      ]
    },
    {
      "cell_type": "code",
      "source": [
        "class car:\n",
        "  def __init__(self,body_type,engine,fuel_type):\n",
        "    self.body_type=body_type\n",
        "    self.engine=engine\n",
        "    self.fuel_type=input()\n",
        "  def test(self):\n",
        "    print(\"this is my 1st method\")\n",
        "  "
      ],
      "metadata": {
        "id": "j1DpXsxoLPox"
      },
      "execution_count": 2,
      "outputs": []
    },
    {
      "cell_type": "code",
      "source": [
        "fortuner=car(\"suv\",\"bs4\",\"petrol\")"
      ],
      "metadata": {
        "colab": {
          "base_uri": "https://localhost:8080/"
        },
        "id": "c7EnkUGWeO5p",
        "outputId": "2328e9dd-257d-48db-ac46-357611f4f75c"
      },
      "execution_count": 3,
      "outputs": [
        {
          "name": "stdout",
          "output_type": "stream",
          "text": [
            "jhvkj\n"
          ]
        }
      ]
    },
    {
      "cell_type": "code",
      "source": [
        "class car:\n",
        "  def __init__(self,body_type,engine,fuel_type):\n",
        "    self.body_type=body_type\n",
        "    self.engine=engine\n",
        "    self.fuel_type=fuel_type\n",
        "  def test(self):\n",
        "    print(\"this is my 1st method\")"
      ],
      "metadata": {
        "id": "rcRdCLKAeO9N"
      },
      "execution_count": 4,
      "outputs": []
    },
    {
      "cell_type": "code",
      "source": [
        "fortuner=car(\"suv\",\"bs4\",\"petrol\")"
      ],
      "metadata": {
        "id": "CM-mAmklfrNm"
      },
      "execution_count": 5,
      "outputs": []
    },
    {
      "cell_type": "code",
      "source": [
        "#any name we can give instead of self(pointer)"
      ],
      "metadata": {
        "id": "VfAnePTFfs6d"
      },
      "execution_count": 6,
      "outputs": []
    },
    {
      "cell_type": "code",
      "source": [
        "nexon=car(\"suv\",\"abc\",\"petrol\")"
      ],
      "metadata": {
        "id": "OMFgBMWshImW"
      },
      "execution_count": 7,
      "outputs": []
    },
    {
      "cell_type": "code",
      "source": [
        "nexon.test()"
      ],
      "metadata": {
        "colab": {
          "base_uri": "https://localhost:8080/"
        },
        "id": "maCm6fBDhsKK",
        "outputId": "06d31107-bd22-4e21-8a47-6001f9ec72f8"
      },
      "execution_count": 8,
      "outputs": [
        {
          "output_type": "stream",
          "name": "stdout",
          "text": [
            "this is my 1st method\n"
          ]
        }
      ]
    },
    {
      "cell_type": "code",
      "source": [
        "fortuner.body_type"
      ],
      "metadata": {
        "colab": {
          "base_uri": "https://localhost:8080/",
          "height": 35
        },
        "id": "C7cv5ag8iBUI",
        "outputId": "9b5626e2-e391-4b9d-d37c-b9ac8acabb86"
      },
      "execution_count": 9,
      "outputs": [
        {
          "output_type": "execute_result",
          "data": {
            "text/plain": [
              "'suv'"
            ],
            "application/vnd.google.colaboratory.intrinsic+json": {
              "type": "string"
            }
          },
          "metadata": {},
          "execution_count": 9
        }
      ]
    },
    {
      "cell_type": "code",
      "source": [
        "class car:\n",
        "  def __init__(self,body_type,engine,fuel_type):\n",
        "    self.body_type1=body_type\n",
        "    self.engine=engine\n",
        "    self.fuel_type=fuel_type\n",
        "  def test(self):\n",
        "    print(\"this is my 1st method\")"
      ],
      "metadata": {
        "id": "YMd3gJiIiS6x"
      },
      "execution_count": 10,
      "outputs": []
    },
    {
      "cell_type": "code",
      "source": [
        "fortuner=car(\"suv\",\"bs4\",\"petrol\")"
      ],
      "metadata": {
        "id": "JNrpKtNzioAZ"
      },
      "execution_count": 11,
      "outputs": []
    },
    {
      "cell_type": "code",
      "source": [
        "nexon=car(\"suv\",\"abc\",\"petrol\")"
      ],
      "metadata": {
        "id": "x-2bGD15isVZ"
      },
      "execution_count": 12,
      "outputs": []
    },
    {
      "cell_type": "code",
      "source": [
        "nexon.body_type1"
      ],
      "metadata": {
        "colab": {
          "base_uri": "https://localhost:8080/",
          "height": 35
        },
        "id": "ER3grOrliup_",
        "outputId": "8ab4d482-5efc-422f-9870-21dfe0c0abb1"
      },
      "execution_count": 13,
      "outputs": [
        {
          "output_type": "execute_result",
          "data": {
            "text/plain": [
              "'suv'"
            ],
            "application/vnd.google.colaboratory.intrinsic+json": {
              "type": "string"
            }
          },
          "metadata": {},
          "execution_count": 13
        }
      ]
    },
    {
      "cell_type": "code",
      "source": [
        "#its called body_type1 not body_type"
      ],
      "metadata": {
        "id": "jMQuWCHniyQl"
      },
      "execution_count": 14,
      "outputs": []
    },
    {
      "cell_type": "code",
      "source": [
        "class car:\n",
        "  def __init__(suri,body_type,engine,fuel_type):\n",
        "    suri.body_type1=body_type\n",
        "    suri.engine=engine\n",
        "    suri.fuel_type=fuel_type\n",
        "  def test(suri):\n",
        "    print(\"this is my 1st method\")"
      ],
      "metadata": {
        "id": "KXOkVJMFi47n"
      },
      "execution_count": 15,
      "outputs": []
    },
    {
      "cell_type": "code",
      "source": [
        "fortuner=car(\"suv\",\"bs4\",\"petrol\")\n",
        "nexon=car(\"suv\",\"abc\",\"petrol\")"
      ],
      "metadata": {
        "id": "QerT-N0pjy-W"
      },
      "execution_count": 16,
      "outputs": []
    },
    {
      "cell_type": "code",
      "source": [
        "nexon.body_type1"
      ],
      "metadata": {
        "colab": {
          "base_uri": "https://localhost:8080/",
          "height": 35
        },
        "id": "hpJZrKt4j1x4",
        "outputId": "ab2d5c7c-7ef3-431d-f200-4c79c7e1d9f8"
      },
      "execution_count": 17,
      "outputs": [
        {
          "output_type": "execute_result",
          "data": {
            "text/plain": [
              "'suv'"
            ],
            "application/vnd.google.colaboratory.intrinsic+json": {
              "type": "string"
            }
          },
          "metadata": {},
          "execution_count": 17
        }
      ]
    },
    {
      "cell_type": "code",
      "source": [
        "def test(self):\n",
        "  print(\"this is my 1st method\")"
      ],
      "metadata": {
        "id": "zCl9xITnj2_i"
      },
      "execution_count": 18,
      "outputs": []
    },
    {
      "cell_type": "code",
      "source": [
        "test()"
      ],
      "metadata": {
        "colab": {
          "base_uri": "https://localhost:8080/",
          "height": 166
        },
        "id": "Fms7jj87ka5T",
        "outputId": "93c512a8-d854-4ecf-e385-cccf9de2d004"
      },
      "execution_count": 19,
      "outputs": [
        {
          "output_type": "error",
          "ename": "TypeError",
          "evalue": "ignored",
          "traceback": [
            "\u001b[0;31m---------------------------------------------------------------------------\u001b[0m",
            "\u001b[0;31mTypeError\u001b[0m                                 Traceback (most recent call last)",
            "\u001b[0;32m<ipython-input-19-fbd55f77ab7c>\u001b[0m in \u001b[0;36m<module>\u001b[0;34m\u001b[0m\n\u001b[0;32m----> 1\u001b[0;31m \u001b[0mtest\u001b[0m\u001b[0;34m(\u001b[0m\u001b[0;34m)\u001b[0m\u001b[0;34m\u001b[0m\u001b[0;34m\u001b[0m\u001b[0m\n\u001b[0m",
            "\u001b[0;31mTypeError\u001b[0m: test() missing 1 required positional argument: 'self'"
          ]
        }
      ]
    },
    {
      "cell_type": "code",
      "source": [
        "#inside the class self is the pointer, out side function self is the argument"
      ],
      "metadata": {
        "id": "Uz8c453ckcN1"
      },
      "execution_count": 20,
      "outputs": []
    },
    {
      "cell_type": "code",
      "source": [
        "class car:\n",
        "  def test(sudh,b,c):\n",
        "    print(\"value\", b+c)"
      ],
      "metadata": {
        "id": "laRkcrQmksNf"
      },
      "execution_count": 21,
      "outputs": []
    },
    {
      "cell_type": "code",
      "source": [
        "f=car()"
      ],
      "metadata": {
        "id": "bFeGbXVik9ed"
      },
      "execution_count": 22,
      "outputs": []
    },
    {
      "cell_type": "code",
      "source": [
        "f.test(4,5)"
      ],
      "metadata": {
        "colab": {
          "base_uri": "https://localhost:8080/"
        },
        "id": "DUxZkvpMlCzE",
        "outputId": "c50da87b-fa19-4327-882e-c58daa8d3155"
      },
      "execution_count": 23,
      "outputs": [
        {
          "output_type": "stream",
          "name": "stdout",
          "text": [
            "value 9\n"
          ]
        }
      ]
    },
    {
      "cell_type": "code",
      "source": [
        "f.test(4,5,7)"
      ],
      "metadata": {
        "colab": {
          "base_uri": "https://localhost:8080/",
          "height": 166
        },
        "id": "yYxppyZulEUQ",
        "outputId": "be3f218b-c4cd-4b7b-8934-4994804b1a9a"
      },
      "execution_count": 24,
      "outputs": [
        {
          "output_type": "error",
          "ename": "TypeError",
          "evalue": "ignored",
          "traceback": [
            "\u001b[0;31m---------------------------------------------------------------------------\u001b[0m",
            "\u001b[0;31mTypeError\u001b[0m                                 Traceback (most recent call last)",
            "\u001b[0;32m<ipython-input-24-9e5b56d084b3>\u001b[0m in \u001b[0;36m<module>\u001b[0;34m\u001b[0m\n\u001b[0;32m----> 1\u001b[0;31m \u001b[0mf\u001b[0m\u001b[0;34m.\u001b[0m\u001b[0mtest\u001b[0m\u001b[0;34m(\u001b[0m\u001b[0;36m4\u001b[0m\u001b[0;34m,\u001b[0m\u001b[0;36m5\u001b[0m\u001b[0;34m,\u001b[0m\u001b[0;36m7\u001b[0m\u001b[0;34m)\u001b[0m\u001b[0;34m\u001b[0m\u001b[0;34m\u001b[0m\u001b[0m\n\u001b[0m",
            "\u001b[0;31mTypeError\u001b[0m: test() takes 3 positional arguments but 4 were given"
          ]
        }
      ]
    },
    {
      "cell_type": "code",
      "source": [
        "#always very 1st will consider as pointer"
      ],
      "metadata": {
        "id": "ul_k2eiZlob3"
      },
      "execution_count": 25,
      "outputs": []
    },
    {
      "cell_type": "code",
      "source": [
        "print(type(f))"
      ],
      "metadata": {
        "colab": {
          "base_uri": "https://localhost:8080/"
        },
        "id": "52UlGejxlshP",
        "outputId": "9fcf1a45-3fbc-40db-d8ae-b57bfa871765"
      },
      "execution_count": 26,
      "outputs": [
        {
          "output_type": "stream",
          "name": "stdout",
          "text": [
            "<class '__main__.car'>\n"
          ]
        }
      ]
    },
    {
      "cell_type": "code",
      "source": [
        "#Main car class is super class of everything"
      ],
      "metadata": {
        "id": "WlxF8VCQmVUD"
      },
      "execution_count": 27,
      "outputs": []
    },
    {
      "cell_type": "code",
      "source": [
        "class list_parcer:\n",
        "  def parcer(self,a):\n",
        "    if type(a)==list:\n",
        "      for i in a:\n",
        "        print(i)"
      ],
      "metadata": {
        "id": "-_R0YU7_mmAO"
      },
      "execution_count": 28,
      "outputs": []
    },
    {
      "cell_type": "code",
      "source": [
        "c=list_parcer()"
      ],
      "metadata": {
        "id": "hfw_dBZ3m8eF"
      },
      "execution_count": 32,
      "outputs": []
    },
    {
      "cell_type": "code",
      "source": [
        "c.parcer([1,2,3,4,5])"
      ],
      "metadata": {
        "colab": {
          "base_uri": "https://localhost:8080/"
        },
        "id": "WJm2QjlGm_yM",
        "outputId": "64febd2e-38fc-4f1d-c1ce-eb86702ffc0e"
      },
      "execution_count": 33,
      "outputs": [
        {
          "output_type": "stream",
          "name": "stdout",
          "text": [
            "1\n",
            "2\n",
            "3\n",
            "4\n",
            "5\n"
          ]
        }
      ]
    },
    {
      "cell_type": "code",
      "source": [
        "class list_parcer:\n",
        "  def parcer(self,a):\n",
        "    if type(a)==list:\n",
        "      for i in a:\n",
        "        print(i)\n",
        "    \n",
        "  def recerse_list(self,z):\n",
        "    if type(z)==list:\n",
        "      return z[::-1]"
      ],
      "metadata": {
        "id": "BELjsxQunDK9"
      },
      "execution_count": 31,
      "outputs": []
    },
    {
      "cell_type": "code",
      "source": [
        "c.recerse_list([1,2,3,4,5])"
      ],
      "metadata": {
        "colab": {
          "base_uri": "https://localhost:8080/"
        },
        "id": "1me3qU-8n7zC",
        "outputId": "3f3015f2-fbc1-49cf-a43b-e1f3ea3d93f6"
      },
      "execution_count": 34,
      "outputs": [
        {
          "output_type": "execute_result",
          "data": {
            "text/plain": [
              "[5, 4, 3, 2, 1]"
            ]
          },
          "metadata": {},
          "execution_count": 34
        }
      ]
    },
    {
      "cell_type": "code",
      "source": [
        "# if we want to pass a same list for all function we can use init"
      ],
      "metadata": {
        "id": "3z2eLLFRoIZe"
      },
      "execution_count": 35,
      "outputs": []
    },
    {
      "cell_type": "code",
      "source": [
        "class list_parcer:\n",
        "  def __init__(self,l):\n",
        "    self.l=l\n",
        "  def parcer(self):\n",
        "    if type(self.l)==list:\n",
        "      for i in self.l:\n",
        "        print(i)\n",
        "    \n",
        "  def recerse_list(self):\n",
        "    if type(self.l)==list:\n",
        "      return self.l[::-1]"
      ],
      "metadata": {
        "id": "2jhy_0a4o4bY"
      },
      "execution_count": 36,
      "outputs": []
    },
    {
      "cell_type": "code",
      "source": [
        "c=list_parcer([6,78,45,78])"
      ],
      "metadata": {
        "id": "vhDEMfGWpGAT"
      },
      "execution_count": 37,
      "outputs": []
    },
    {
      "cell_type": "code",
      "source": [
        "c.parcer()"
      ],
      "metadata": {
        "colab": {
          "base_uri": "https://localhost:8080/"
        },
        "id": "R_QIj3qMppUr",
        "outputId": "44bebafa-790f-43c6-a41c-46ff7371b611"
      },
      "execution_count": 38,
      "outputs": [
        {
          "output_type": "stream",
          "name": "stdout",
          "text": [
            "6\n",
            "78\n",
            "45\n",
            "78\n"
          ]
        }
      ]
    },
    {
      "cell_type": "code",
      "source": [
        "c.recerse_list()"
      ],
      "metadata": {
        "colab": {
          "base_uri": "https://localhost:8080/"
        },
        "id": "x_Lkq_FsprjZ",
        "outputId": "734869fc-3197-474a-ba2a-e82d1c88def9"
      },
      "execution_count": 39,
      "outputs": [
        {
          "output_type": "execute_result",
          "data": {
            "text/plain": [
              "[78, 45, 78, 6]"
            ]
          },
          "metadata": {},
          "execution_count": 39
        }
      ]
    },
    {
      "cell_type": "code",
      "source": [
        "\"\"\"\n",
        "create a class for dictionary parsing\n",
        "1.write a function to give keys\n",
        "1.write a function to give values\n",
        "1.write a function throw if input is not dict\n",
        "1.take user input and parse the value out of dict\n",
        "1.fun to insert new key value pair\n",
        "\"\"\""
      ],
      "metadata": {
        "colab": {
          "base_uri": "https://localhost:8080/",
          "height": 87
        },
        "id": "heXpDVYWrJyI",
        "outputId": "72f11605-9705-4793-93df-307493846c5e"
      },
      "execution_count": 40,
      "outputs": [
        {
          "output_type": "execute_result",
          "data": {
            "text/plain": [
              "'\\ncreate a class for dictionary parsing\\n1.write a function to give keys\\n1.write a function to give values\\n1.write a function throw if input is not dict\\n1.take user input and parse the value out of dict\\n1.fun to insert new key value pair\\n'"
            ],
            "application/vnd.google.colaboratory.intrinsic+json": {
              "type": "string"
            }
          },
          "metadata": {},
          "execution_count": 40
        }
      ]
    },
    {
      "cell_type": "code",
      "source": [
        "class a:\n",
        "  def __init__(self,dic):\n",
        "    self.v=dic\n",
        "\n",
        "  def dictornot(self):\n",
        "    if type(self.v) == dict:\n",
        "      print(\"good\")\n",
        "    else:\n",
        "      print(\"not a string\")\n",
        "\n",
        "  def keys(self):\n",
        "    if type(self.v) == dict:\n",
        "      return list((self.v).keys())\n",
        "    \n",
        "  def value(self):\n",
        "    if type(self.v) == dict:\n",
        "      return list((self.v).values())\n",
        "\n",
        "  def insert(self,x,y):\n",
        "    self.v[x]=y\n",
        "    return self.v\n",
        "\n",
        "\n",
        "  #need to fix this error"
      ],
      "metadata": {
        "id": "zbSVja4mpw-p"
      },
      "execution_count": 98,
      "outputs": []
    },
    {
      "cell_type": "code",
      "source": [
        "c=a({\"key1\":\"Teeku\",\"key2\":\"ram\",\"key3\":\"suri\"})"
      ],
      "metadata": {
        "id": "0fy-L8_Kstz_"
      },
      "execution_count": 99,
      "outputs": []
    },
    {
      "cell_type": "code",
      "source": [
        "c.keys()"
      ],
      "metadata": {
        "colab": {
          "base_uri": "https://localhost:8080/"
        },
        "id": "pAGiyj4Nsyui",
        "outputId": "87213ebe-d859-4d13-e2ed-7f080788224c"
      },
      "execution_count": 100,
      "outputs": [
        {
          "output_type": "execute_result",
          "data": {
            "text/plain": [
              "['key1', 'key2', 'key3']"
            ]
          },
          "metadata": {},
          "execution_count": 100
        }
      ]
    },
    {
      "cell_type": "code",
      "source": [
        "c.value()"
      ],
      "metadata": {
        "colab": {
          "base_uri": "https://localhost:8080/"
        },
        "id": "J7liysMFxC4w",
        "outputId": "7488655c-8a9a-4408-9e04-d0e1e6fe433d"
      },
      "execution_count": 101,
      "outputs": [
        {
          "output_type": "execute_result",
          "data": {
            "text/plain": [
              "['Teeku', 'ram', 'suri']"
            ]
          },
          "metadata": {},
          "execution_count": 101
        }
      ]
    },
    {
      "cell_type": "code",
      "source": [
        "c.dictornot()"
      ],
      "metadata": {
        "colab": {
          "base_uri": "https://localhost:8080/"
        },
        "id": "v4cfXK5qxC7K",
        "outputId": "473d7cff-898f-41de-e648-148f6e33ec00"
      },
      "execution_count": 102,
      "outputs": [
        {
          "output_type": "stream",
          "name": "stdout",
          "text": [
            "good\n"
          ]
        }
      ]
    },
    {
      "cell_type": "code",
      "source": [
        "c.insert(\"key4\",\"muniku\")"
      ],
      "metadata": {
        "colab": {
          "base_uri": "https://localhost:8080/"
        },
        "id": "MwGVuecUxC9t",
        "outputId": "271f1aa7-e158-48a5-f4fc-1889d35e62ee"
      },
      "execution_count": 104,
      "outputs": [
        {
          "output_type": "execute_result",
          "data": {
            "text/plain": [
              "{'key1': 'Teeku', 'key2': 'ram', 'key3': 'suri', 'key4': 'muniku'}"
            ]
          },
          "metadata": {},
          "execution_count": 104
        }
      ]
    },
    {
      "cell_type": "code",
      "source": [
        "#best code\n",
        "class dict_parsing:\n",
        "\n",
        "  def __init__(self,a):\n",
        "    self.a=a\n",
        "\n",
        "  def getkeys(self):\n",
        "    if self.notdict():\n",
        "      return list(self.a.keys())\n",
        "\n",
        "  def getvalues(self):\n",
        "    if self.notdict():\n",
        "      return list(self.a.values())\n",
        "\n",
        "  def notdict(self):\n",
        "    if type(self.a)!=dict:\n",
        "      raise Exception(self.a,\"not dict\")\n",
        "    else:\n",
        "      return 1\n",
        "  def userinput(self):\n",
        "    self.a=eval(input())\n",
        "    print(self.a,type(self.a))\n",
        "    print(self.getkeys())\n",
        "    print(self.getvalues())\n",
        "    \n",
        "  def insert(self,ke,va):\n",
        "    self.a[ke]=va\n",
        "    return a\n",
        "\n",
        "\n",
        "  \n",
        "\n",
        "\n",
        "\n"
      ],
      "metadata": {
        "id": "D7ms0o6wxDBD"
      },
      "execution_count": 126,
      "outputs": []
    },
    {
      "cell_type": "code",
      "source": [
        "d=dict_parsing({'key1': 'Teeku', 'key2': 'ram', 'key3': 'suri', 'key4': 'muniku'})"
      ],
      "metadata": {
        "id": "nDYWwl9twi6C"
      },
      "execution_count": 127,
      "outputs": []
    },
    {
      "cell_type": "code",
      "source": [
        "d.userinput()"
      ],
      "metadata": {
        "colab": {
          "base_uri": "https://localhost:8080/"
        },
        "id": "QsPgmcBn7-Jr",
        "outputId": "15b50615-041b-4312-e1f0-44b06d8849b6"
      },
      "execution_count": 128,
      "outputs": [
        {
          "output_type": "stream",
          "name": "stdout",
          "text": [
            "{\"key5\":\"puppy\"}\n",
            "{'key5': 'puppy'} <class 'dict'>\n",
            "['key5']\n",
            "['puppy']\n"
          ]
        }
      ]
    },
    {
      "cell_type": "code",
      "source": [
        "# eval() if we are not used that is take the input as class ctr"
      ],
      "metadata": {
        "id": "0EaIk3ya8MGz"
      },
      "execution_count": 129,
      "outputs": []
    },
    {
      "cell_type": "code",
      "source": [
        "#bcoz input will always take as string"
      ],
      "metadata": {
        "id": "t_N9qGl9_LUo"
      },
      "execution_count": 130,
      "outputs": []
    },
    {
      "cell_type": "code",
      "source": [
        "\"\"\"\n",
        "another method to take dict input\n",
        "\n",
        "def insert(self,**kwargs):\n",
        "  for k,v in kwargs.items():\n",
        "    self.d[k]:v\n",
        "    print(\"value inserted\")\n",
        "\"\"\""
      ],
      "metadata": {
        "colab": {
          "base_uri": "https://localhost:8080/",
          "height": 52
        },
        "id": "7Lbim6Ai_q48",
        "outputId": "98ddf3d6-89b1-4b29-e954-b4491063987f"
      },
      "execution_count": 131,
      "outputs": [
        {
          "output_type": "execute_result",
          "data": {
            "text/plain": [
              "'\\nanother method to take dict input\\n\\ndef insert(self,**kwargs):\\n  for k,v in kwargs.items():\\n    self.d[k]:v\\n    print(\"value inserted\")\\n'"
            ],
            "application/vnd.google.colaboratory.intrinsic+json": {
              "type": "string"
            }
          },
          "metadata": {},
          "execution_count": 131
        }
      ]
    },
    {
      "cell_type": "code",
      "source": [
        "\"\"\"\n",
        "if we save the above code in mydict.py file how to call the functions\n",
        "import mydict\n",
        "d=mydict.dict_parsing({kkcvbcjacl})\n",
        "d.getkeys()\n",
        "\n",
        "or\n",
        "\n",
        "from mydict import dict_parsing\n",
        "then we can directly call class\n",
        "multiple class we can have inside the module\n",
        "\"\"\""
      ],
      "metadata": {
        "colab": {
          "base_uri": "https://localhost:8080/",
          "height": 87
        },
        "id": "MbFW94SKDE5n",
        "outputId": "e85237e5-c041-4cc1-90bc-354e97437533"
      },
      "execution_count": 133,
      "outputs": [
        {
          "output_type": "execute_result",
          "data": {
            "text/plain": [
              "'\\nif we save the above code in mydict.py file how to call the functions\\nimport mydict\\nd=mydict.dict_parsing({kkcvbcjacl})\\nd.getkeys()\\n\\nor\\n\\nfrom mydict import dict_parsing\\nthen we can directly call class\\nmultiple class we can have inside the module\\n'"
            ],
            "application/vnd.google.colaboratory.intrinsic+json": {
              "type": "string"
            }
          },
          "metadata": {},
          "execution_count": 133
        }
      ]
    },
    {
      "cell_type": "code",
      "source": [
        "\"\"\"\n",
        "1.create ownpackage for all list fun\n",
        "2.tuple\n",
        "3.dict\n",
        "4.set\n",
        "\n",
        "restriction:\n",
        "always use exception\n",
        "logging\n",
        "never use print statement\n",
        "\"\"\""
      ],
      "metadata": {
        "colab": {
          "base_uri": "https://localhost:8080/",
          "height": 52
        },
        "id": "L5HwdUGSFqSr",
        "outputId": "ac284fe7-ff7e-4542-c034-4c37841cc082"
      },
      "execution_count": 135,
      "outputs": [
        {
          "output_type": "execute_result",
          "data": {
            "text/plain": [
              "'\\n1.create ownpackage for all list fun\\n2.tuple\\n3.dict\\n4.set\\n\\nrestriction:\\nalways use exception\\nlogging\\nnever use print statement\\n'"
            ],
            "application/vnd.google.colaboratory.intrinsic+json": {
              "type": "string"
            }
          },
          "metadata": {},
          "execution_count": 135
        }
      ]
    },
    {
      "cell_type": "code",
      "source": [],
      "metadata": {
        "id": "iTBYxwNHJU6z"
      },
      "execution_count": null,
      "outputs": []
    }
  ]
}