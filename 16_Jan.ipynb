{
  "nbformat": 4,
  "nbformat_minor": 0,
  "metadata": {
    "colab": {
      "provenance": []
    },
    "kernelspec": {
      "name": "python3",
      "display_name": "Python 3"
    },
    "language_info": {
      "name": "python"
    }
  },
  "cells": [
    {
      "cell_type": "code",
      "execution_count": null,
      "metadata": {
        "colab": {
          "base_uri": "https://localhost:8080/",
          "height": 131
        },
        "id": "H-4i9mJmiyrd",
        "outputId": "290b51fb-7780-41f6-ecc9-6259b450735f"
      },
      "outputs": [
        {
          "output_type": "error",
          "ename": "SyntaxError",
          "evalue": "ignored",
          "traceback": [
            "\u001b[0;36m  File \u001b[0;32m\"<ipython-input-1-5bd4fb329862>\"\u001b[0;36m, line \u001b[0;32m1\u001b[0m\n\u001b[0;31m    print(\"jhbsvkbv\"\u001b[0m\n\u001b[0m                    ^\u001b[0m\n\u001b[0;31mSyntaxError\u001b[0m\u001b[0;31m:\u001b[0m unexpected EOF while parsing\n"
          ]
        }
      ],
      "source": [
        "print(\"jhbsvkbv\""
      ]
    },
    {
      "cell_type": "code",
      "source": [
        "#this cant be fix by exception"
      ],
      "metadata": {
        "id": "lK-VUU2YlHcU"
      },
      "execution_count": null,
      "outputs": []
    },
    {
      "cell_type": "code",
      "source": [
        "a=int(input())"
      ],
      "metadata": {
        "colab": {
          "base_uri": "https://localhost:8080/",
          "height": 183
        },
        "id": "W7jL_X_WlKMf",
        "outputId": "d7f543a0-ad66-4e1c-8df4-40d3aa8a5128"
      },
      "execution_count": null,
      "outputs": [
        {
          "name": "stdout",
          "output_type": "stream",
          "text": [
            "jjvakcj kj\n"
          ]
        },
        {
          "output_type": "error",
          "ename": "ValueError",
          "evalue": "ignored",
          "traceback": [
            "\u001b[0;31m---------------------------------------------------------------------------\u001b[0m",
            "\u001b[0;31mValueError\u001b[0m                                Traceback (most recent call last)",
            "\u001b[0;32m<ipython-input-4-f7bced506b86>\u001b[0m in \u001b[0;36m<module>\u001b[0;34m\u001b[0m\n\u001b[0;32m----> 1\u001b[0;31m \u001b[0ma\u001b[0m\u001b[0;34m=\u001b[0m\u001b[0mint\u001b[0m\u001b[0;34m(\u001b[0m\u001b[0minput\u001b[0m\u001b[0;34m(\u001b[0m\u001b[0;34m)\u001b[0m\u001b[0;34m)\u001b[0m\u001b[0;34m\u001b[0m\u001b[0;34m\u001b[0m\u001b[0m\n\u001b[0m",
            "\u001b[0;31mValueError\u001b[0m: invalid literal for int() with base 10: 'jjvakcj kj'"
          ]
        }
      ]
    },
    {
      "cell_type": "code",
      "source": [
        "try:\n",
        "  f=open(\"test1.txt\",'r')\n",
        "  f.write(\"this is my exception handling\")\n",
        "  print(\"this is after write ops\")"
      ],
      "metadata": {
        "colab": {
          "base_uri": "https://localhost:8080/",
          "height": 131
        },
        "id": "t4O-HnMpliYH",
        "outputId": "674a9eb9-e88d-4606-9433-9115bdd74f26"
      },
      "execution_count": null,
      "outputs": [
        {
          "output_type": "error",
          "ename": "SyntaxError",
          "evalue": "ignored",
          "traceback": [
            "\u001b[0;36m  File \u001b[0;32m\"<ipython-input-5-fd22f6183bc9>\"\u001b[0;36m, line \u001b[0;32m4\u001b[0m\n\u001b[0;31m    print(\"this is after write ops\")\u001b[0m\n\u001b[0m                                    ^\u001b[0m\n\u001b[0;31mSyntaxError\u001b[0m\u001b[0;31m:\u001b[0m unexpected EOF while parsing\n"
          ]
        }
      ]
    },
    {
      "cell_type": "code",
      "source": [
        "#except key we should use"
      ],
      "metadata": {
        "id": "g06WMJ_Gm5LP"
      },
      "execution_count": null,
      "outputs": []
    },
    {
      "cell_type": "code",
      "source": [
        "try:\n",
        "  f=open(\"test1.txt\",'r')\n",
        "  f.write(\"this is my exception handling\")\n",
        "  print(\"this is after write ops\")\n",
        "except:\n",
        "  print(\"this is my handler\")\n",
        "try:\n",
        "  l=[1,2,34,5]\n",
        "  for i in l:\n",
        "    print(i)\n",
        "except:\n",
        "  print(\"this is the exception for loop\")"
      ],
      "metadata": {
        "colab": {
          "base_uri": "https://localhost:8080/"
        },
        "id": "iwXUR-jWm-Tb",
        "outputId": "2470c047-1a29-4c4f-942e-57608ef3011c"
      },
      "execution_count": null,
      "outputs": [
        {
          "output_type": "stream",
          "name": "stdout",
          "text": [
            "this is my handler\n",
            "1\n",
            "2\n",
            "34\n",
            "5\n"
          ]
        }
      ]
    },
    {
      "cell_type": "code",
      "source": [
        "#we can use so many try block in our code"
      ],
      "metadata": {
        "id": "VwAnZ4CqnIYm"
      },
      "execution_count": null,
      "outputs": []
    },
    {
      "cell_type": "code",
      "source": [
        "#we can use if else but human cant remember all the exception to write code"
      ],
      "metadata": {
        "id": "ZrAXMxHLn_J7"
      },
      "execution_count": null,
      "outputs": []
    },
    {
      "cell_type": "code",
      "source": [
        "try:\n",
        "  d={\"key1\":\"sudh\",\"key2\":[1,2,3,4,5],\"key3\":(4,5,6,7,8)}\n",
        "  d[\"key4\"]=int(input())\n",
        "except Exception as e:\n",
        "  print(e)\n"
      ],
      "metadata": {
        "colab": {
          "base_uri": "https://localhost:8080/"
        },
        "id": "Lc5aO-kqoQwI",
        "outputId": "802ddb68-5837-445f-b434-af062dda25df"
      },
      "execution_count": null,
      "outputs": [
        {
          "output_type": "stream",
          "name": "stdout",
          "text": [
            "bcalkb\n",
            "invalid literal for int() with base 10: 'bcalkb'\n"
          ]
        }
      ]
    },
    {
      "cell_type": "code",
      "source": [
        "# Exception is super class\n",
        "#zero div error,file not found error all are called sub class"
      ],
      "metadata": {
        "id": "m_8qxWjBqmq8"
      },
      "execution_count": null,
      "outputs": []
    },
    {
      "cell_type": "code",
      "source": [
        "  d={\"key1\":\"sudh\",\"key2\":[1,2,3,4,5],\"key3\":(4,5,6,7,8)}\n",
        "  d[\"key4\"]=int(input())"
      ],
      "metadata": {
        "colab": {
          "base_uri": "https://localhost:8080/",
          "height": 201
        },
        "id": "05qBz9gcr7pM",
        "outputId": "87c50407-d863-4f9f-a42d-1ce7ab52d65c"
      },
      "execution_count": null,
      "outputs": [
        {
          "name": "stdout",
          "output_type": "stream",
          "text": [
            "ackaklcj\n"
          ]
        },
        {
          "output_type": "error",
          "ename": "ValueError",
          "evalue": "ignored",
          "traceback": [
            "\u001b[0;31m---------------------------------------------------------------------------\u001b[0m",
            "\u001b[0;31mValueError\u001b[0m                                Traceback (most recent call last)",
            "\u001b[0;32m<ipython-input-14-7f8590f8f1b1>\u001b[0m in \u001b[0;36m<module>\u001b[0;34m\u001b[0m\n\u001b[1;32m      1\u001b[0m \u001b[0md\u001b[0m\u001b[0;34m=\u001b[0m\u001b[0;34m{\u001b[0m\u001b[0;34m\"key1\"\u001b[0m\u001b[0;34m:\u001b[0m\u001b[0;34m\"sudh\"\u001b[0m\u001b[0;34m,\u001b[0m\u001b[0;34m\"key2\"\u001b[0m\u001b[0;34m:\u001b[0m\u001b[0;34m[\u001b[0m\u001b[0;36m1\u001b[0m\u001b[0;34m,\u001b[0m\u001b[0;36m2\u001b[0m\u001b[0;34m,\u001b[0m\u001b[0;36m3\u001b[0m\u001b[0;34m,\u001b[0m\u001b[0;36m4\u001b[0m\u001b[0;34m,\u001b[0m\u001b[0;36m5\u001b[0m\u001b[0;34m]\u001b[0m\u001b[0;34m,\u001b[0m\u001b[0;34m\"key3\"\u001b[0m\u001b[0;34m:\u001b[0m\u001b[0;34m(\u001b[0m\u001b[0;36m4\u001b[0m\u001b[0;34m,\u001b[0m\u001b[0;36m5\u001b[0m\u001b[0;34m,\u001b[0m\u001b[0;36m6\u001b[0m\u001b[0;34m,\u001b[0m\u001b[0;36m7\u001b[0m\u001b[0;34m,\u001b[0m\u001b[0;36m8\u001b[0m\u001b[0;34m)\u001b[0m\u001b[0;34m}\u001b[0m\u001b[0;34m\u001b[0m\u001b[0;34m\u001b[0m\u001b[0m\n\u001b[0;32m----> 2\u001b[0;31m \u001b[0md\u001b[0m\u001b[0;34m[\u001b[0m\u001b[0;34m\"key4\"\u001b[0m\u001b[0;34m]\u001b[0m\u001b[0;34m=\u001b[0m\u001b[0mint\u001b[0m\u001b[0;34m(\u001b[0m\u001b[0minput\u001b[0m\u001b[0;34m(\u001b[0m\u001b[0;34m)\u001b[0m\u001b[0;34m)\u001b[0m\u001b[0;34m\u001b[0m\u001b[0;34m\u001b[0m\u001b[0m\n\u001b[0m",
            "\u001b[0;31mValueError\u001b[0m: invalid literal for int() with base 10: 'ackaklcj'"
          ]
        }
      ]
    },
    {
      "cell_type": "code",
      "source": [
        "try:\n",
        "  d={\"key1\":\"sudh\",\"key2\":[1,2,3,4,5],\"key3\":(4,5,6,7,8)}\n",
        "  d[\"key4\"]=int(input())\n",
        "except ValueError as e:\n",
        "  print(e)"
      ],
      "metadata": {
        "colab": {
          "base_uri": "https://localhost:8080/"
        },
        "id": "H13HCI67r_dH",
        "outputId": "39a77ce0-905c-40a9-cd25-beb47c171a0b"
      },
      "execution_count": null,
      "outputs": [
        {
          "output_type": "stream",
          "name": "stdout",
          "text": [
            "glkajgb\n",
            "invalid literal for int() with base 10: 'glkajgb'\n"
          ]
        }
      ]
    },
    {
      "cell_type": "code",
      "source": [
        "#value error is the sub class of Exception super class"
      ],
      "metadata": {
        "id": "RmnBcr7hsHah"
      },
      "execution_count": null,
      "outputs": []
    },
    {
      "cell_type": "code",
      "source": [
        "try:\n",
        "  d={\"key1\":\"sudh\",\"key2\":[1,2,3,4,5],\"key3\":(4,5,6,7,8)}\n",
        "  d[\"key4\"]=int(input())\n",
        "  f=open(\"test2\",\"r\")\n",
        "except ValueError as e:\n",
        "  print(e)"
      ],
      "metadata": {
        "colab": {
          "base_uri": "https://localhost:8080/",
          "height": 253
        },
        "id": "MlfJUpLwsN8i",
        "outputId": "1c99e0b2-69c9-42cf-d061-6e903f767c26"
      },
      "execution_count": null,
      "outputs": [
        {
          "name": "stdout",
          "output_type": "stream",
          "text": [
            "675\n"
          ]
        },
        {
          "output_type": "error",
          "ename": "FileNotFoundError",
          "evalue": "ignored",
          "traceback": [
            "\u001b[0;31m---------------------------------------------------------------------------\u001b[0m",
            "\u001b[0;31mFileNotFoundError\u001b[0m                         Traceback (most recent call last)",
            "\u001b[0;32m<ipython-input-17-eef6635d9916>\u001b[0m in \u001b[0;36m<module>\u001b[0;34m\u001b[0m\n\u001b[1;32m      2\u001b[0m   \u001b[0md\u001b[0m\u001b[0;34m=\u001b[0m\u001b[0;34m{\u001b[0m\u001b[0;34m\"key1\"\u001b[0m\u001b[0;34m:\u001b[0m\u001b[0;34m\"sudh\"\u001b[0m\u001b[0;34m,\u001b[0m\u001b[0;34m\"key2\"\u001b[0m\u001b[0;34m:\u001b[0m\u001b[0;34m[\u001b[0m\u001b[0;36m1\u001b[0m\u001b[0;34m,\u001b[0m\u001b[0;36m2\u001b[0m\u001b[0;34m,\u001b[0m\u001b[0;36m3\u001b[0m\u001b[0;34m,\u001b[0m\u001b[0;36m4\u001b[0m\u001b[0;34m,\u001b[0m\u001b[0;36m5\u001b[0m\u001b[0;34m]\u001b[0m\u001b[0;34m,\u001b[0m\u001b[0;34m\"key3\"\u001b[0m\u001b[0;34m:\u001b[0m\u001b[0;34m(\u001b[0m\u001b[0;36m4\u001b[0m\u001b[0;34m,\u001b[0m\u001b[0;36m5\u001b[0m\u001b[0;34m,\u001b[0m\u001b[0;36m6\u001b[0m\u001b[0;34m,\u001b[0m\u001b[0;36m7\u001b[0m\u001b[0;34m,\u001b[0m\u001b[0;36m8\u001b[0m\u001b[0;34m)\u001b[0m\u001b[0;34m}\u001b[0m\u001b[0;34m\u001b[0m\u001b[0;34m\u001b[0m\u001b[0m\n\u001b[1;32m      3\u001b[0m   \u001b[0md\u001b[0m\u001b[0;34m[\u001b[0m\u001b[0;34m\"key4\"\u001b[0m\u001b[0;34m]\u001b[0m\u001b[0;34m=\u001b[0m\u001b[0mint\u001b[0m\u001b[0;34m(\u001b[0m\u001b[0minput\u001b[0m\u001b[0;34m(\u001b[0m\u001b[0;34m)\u001b[0m\u001b[0;34m)\u001b[0m\u001b[0;34m\u001b[0m\u001b[0;34m\u001b[0m\u001b[0m\n\u001b[0;32m----> 4\u001b[0;31m   \u001b[0mf\u001b[0m\u001b[0;34m=\u001b[0m\u001b[0mopen\u001b[0m\u001b[0;34m(\u001b[0m\u001b[0;34m\"test2\"\u001b[0m\u001b[0;34m,\u001b[0m\u001b[0;34m\"r\"\u001b[0m\u001b[0;34m)\u001b[0m\u001b[0;34m\u001b[0m\u001b[0;34m\u001b[0m\u001b[0m\n\u001b[0m\u001b[1;32m      5\u001b[0m \u001b[0;32mexcept\u001b[0m \u001b[0mValueError\u001b[0m \u001b[0;32mas\u001b[0m \u001b[0me\u001b[0m\u001b[0;34m:\u001b[0m\u001b[0;34m\u001b[0m\u001b[0;34m\u001b[0m\u001b[0m\n\u001b[1;32m      6\u001b[0m   \u001b[0mprint\u001b[0m\u001b[0;34m(\u001b[0m\u001b[0me\u001b[0m\u001b[0;34m)\u001b[0m\u001b[0;34m\u001b[0m\u001b[0;34m\u001b[0m\u001b[0m\n",
            "\u001b[0;31mFileNotFoundError\u001b[0m: [Errno 2] No such file or directory: 'test2'"
          ]
        }
      ]
    },
    {
      "cell_type": "code",
      "source": [
        "#we wrote only valueerror exception,so its not handling file erroe Hence we need to use Exception super class"
      ],
      "metadata": {
        "id": "GGO4A0jGsfMc"
      },
      "execution_count": null,
      "outputs": []
    },
    {
      "cell_type": "code",
      "source": [
        "try:\n",
        "  d={\"key1\":\"sudh\",\"key2\":[1,2,3,4,5],\"key3\":(4,5,6,7,8)}\n",
        "  d[\"key4\"]=int(input())\n",
        "  f=open(\"test2\",\"r\")\n",
        "except Exception as e:\n",
        "  print(e)"
      ],
      "metadata": {
        "colab": {
          "base_uri": "https://localhost:8080/"
        },
        "id": "BpYEFVP_suY6",
        "outputId": "f089c3d2-a4fe-4e15-a2a9-72edab6faebf"
      },
      "execution_count": null,
      "outputs": [
        {
          "output_type": "stream",
          "name": "stdout",
          "text": [
            "56\n",
            "[Errno 2] No such file or directory: 'test2'\n"
          ]
        }
      ]
    },
    {
      "cell_type": "code",
      "source": [
        "try:\n",
        "  d={\"key1\":\"sudh\",\"key2\":[1,2,3,4,5],\"key3\":(4,5,6,7,8)}\n",
        "  d[\"key4\"]=int(input())\n",
        "  f=open(\"test2\",\"r\")\n",
        "except FileNotFoundError as e1:\n",
        "  print(e1)\n",
        "except ValueError as e:\n",
        "  print(e)"
      ],
      "metadata": {
        "colab": {
          "base_uri": "https://localhost:8080/"
        },
        "id": "N-6DZjFDs7WG",
        "outputId": "70dcc4a0-3c53-4e5a-fbd6-a223283676e5"
      },
      "execution_count": null,
      "outputs": [
        {
          "output_type": "stream",
          "name": "stdout",
          "text": [
            "678\n",
            "[Errno 2] No such file or directory: 'test2'\n"
          ]
        }
      ]
    },
    {
      "cell_type": "code",
      "source": [
        "#if we use parent class 1st is the error falls in subclass also the super class work 1st\n",
        "#sequential maner the code will work"
      ],
      "metadata": {
        "id": "K17WSFKStSar"
      },
      "execution_count": null,
      "outputs": []
    },
    {
      "cell_type": "code",
      "source": [
        "try:\n",
        "  f=open(\"test1.txt\",'w')\n",
        "  f.write(\"this is my code in try\")\n",
        "except Exception as e:\n",
        "  print(\"error handler\")\n",
        "else:\n",
        "  print(\"this will execute once try block excecute sucessfully\")\n",
        "  f.close()\n"
      ],
      "metadata": {
        "colab": {
          "base_uri": "https://localhost:8080/"
        },
        "id": "wOeRPepXuGj6",
        "outputId": "d9933d06-e260-4258-c6c4-c605453212d1"
      },
      "execution_count": null,
      "outputs": [
        {
          "output_type": "stream",
          "name": "stdout",
          "text": [
            "this will execute once try block excecute sucessfully\n"
          ]
        }
      ]
    },
    {
      "cell_type": "code",
      "source": [
        "try:\n",
        "  f=open(\"test1.txt\",'r')\n",
        "  f.write(\"this is my code in try\")\n",
        "except Exception as e:\n",
        "  print(\"error handler\")\n",
        "else:\n",
        "  print(\"this will execute once try block excecute sucessfully\")\n",
        "  f.close()"
      ],
      "metadata": {
        "colab": {
          "base_uri": "https://localhost:8080/"
        },
        "id": "cJgo_dguxrQr",
        "outputId": "6b7ceb93-da1c-42c6-8327-01c2d3cd4d03"
      },
      "execution_count": null,
      "outputs": [
        {
          "output_type": "stream",
          "name": "stdout",
          "text": [
            "error handler\n"
          ]
        }
      ]
    },
    {
      "cell_type": "code",
      "source": [
        "#its din come into else bcoz try not completed sucessfully"
      ],
      "metadata": {
        "id": "hlidJEPf3Cbr"
      },
      "execution_count": null,
      "outputs": []
    },
    {
      "cell_type": "code",
      "source": [
        "try:\n",
        "  f=open(\"test45\",'r')\n",
        "except Exception as e:\n",
        "  print(\"khbzkchjb\",e)\n",
        "finally:\n",
        "  print(\"do this for sure\")"
      ],
      "metadata": {
        "colab": {
          "base_uri": "https://localhost:8080/"
        },
        "id": "4z8NeyDF3JDP",
        "outputId": "395b3bc6-f54e-42cb-f3b9-d6d5e11f0e8e"
      },
      "execution_count": null,
      "outputs": [
        {
          "output_type": "stream",
          "name": "stdout",
          "text": [
            "khbzkchjb [Errno 2] No such file or directory: 'test45'\n",
            "do this for sure\n"
          ]
        }
      ]
    },
    {
      "cell_type": "code",
      "source": [
        "#for sure finally will run"
      ],
      "metadata": {
        "id": "TOWh55rO3OAH"
      },
      "execution_count": null,
      "outputs": []
    },
    {
      "cell_type": "code",
      "source": [
        "try:\n",
        "  f=open(\"test45.txt\",'r')\n",
        "except Exception as e:\n",
        "  print(\"khbzkchjb\",e)\n",
        "else:\n",
        "  print(\"if try run sucessfully then print this\")\n",
        "finally:\n",
        "  print(\"do this for sure\")"
      ],
      "metadata": {
        "colab": {
          "base_uri": "https://localhost:8080/"
        },
        "id": "ZxP4SPib3zfA",
        "outputId": "db093d51-ef3d-477b-9eff-596e25b37f9a"
      },
      "execution_count": null,
      "outputs": [
        {
          "output_type": "stream",
          "name": "stdout",
          "text": [
            "khbzkchjb [Errno 2] No such file or directory: 'test45.txt'\n",
            "do this for sure\n"
          ]
        }
      ]
    },
    {
      "cell_type": "code",
      "source": [
        "try:\n",
        "  f=open(\"test34\",\"w\")\n",
        "  f.write(\"kbCLJbKC\")\n",
        "  f.close()\n",
        "except Exception as e:\n",
        "  print(e)"
      ],
      "metadata": {
        "id": "sJ7Z76Go4J82"
      },
      "execution_count": null,
      "outputs": []
    },
    {
      "cell_type": "code",
      "source": [
        "!ls"
      ],
      "metadata": {
        "colab": {
          "base_uri": "https://localhost:8080/"
        },
        "id": "jrVZOmJG5vCn",
        "outputId": "9315b944-3524-42d5-8a03-fe9cb571b483"
      },
      "execution_count": null,
      "outputs": [
        {
          "output_type": "stream",
          "name": "stdout",
          "text": [
            "sample_data  test1.txt\ttest34\ttest45\ttest45.txt\n"
          ]
        }
      ]
    },
    {
      "cell_type": "code",
      "source": [
        "def askint():\n",
        "  a=int(input())\n",
        "  return a"
      ],
      "metadata": {
        "id": "i9Lqan145wy7"
      },
      "execution_count": null,
      "outputs": []
    },
    {
      "cell_type": "code",
      "source": [
        "askint()"
      ],
      "metadata": {
        "colab": {
          "base_uri": "https://localhost:8080/"
        },
        "id": "U5eudAC1bCyN",
        "outputId": "1ebc6456-92ea-4ebe-a4de-4b4885e6d5b4"
      },
      "execution_count": null,
      "outputs": [
        {
          "name": "stdout",
          "output_type": "stream",
          "text": [
            "56\n"
          ]
        },
        {
          "output_type": "execute_result",
          "data": {
            "text/plain": [
              "56"
            ]
          },
          "metadata": {},
          "execution_count": 2
        }
      ]
    },
    {
      "cell_type": "code",
      "source": [
        "askint()"
      ],
      "metadata": {
        "colab": {
          "base_uri": "https://localhost:8080/",
          "height": 270
        },
        "id": "UScIvZDTbFkT",
        "outputId": "3e5301dc-0dc7-436c-8f5c-f54c2927ce13"
      },
      "execution_count": null,
      "outputs": [
        {
          "name": "stdout",
          "output_type": "stream",
          "text": [
            "ckbkavc\n"
          ]
        },
        {
          "output_type": "error",
          "ename": "ValueError",
          "evalue": "ignored",
          "traceback": [
            "\u001b[0;31m---------------------------------------------------------------------------\u001b[0m",
            "\u001b[0;31mValueError\u001b[0m                                Traceback (most recent call last)",
            "\u001b[0;32m<ipython-input-3-cc291aa76c10>\u001b[0m in \u001b[0;36m<module>\u001b[0;34m\u001b[0m\n\u001b[0;32m----> 1\u001b[0;31m \u001b[0maskint\u001b[0m\u001b[0;34m(\u001b[0m\u001b[0;34m)\u001b[0m\u001b[0;34m\u001b[0m\u001b[0;34m\u001b[0m\u001b[0m\n\u001b[0m",
            "\u001b[0;32m<ipython-input-1-b0c66d26ebdd>\u001b[0m in \u001b[0;36maskint\u001b[0;34m()\u001b[0m\n\u001b[1;32m      1\u001b[0m \u001b[0;32mdef\u001b[0m \u001b[0maskint\u001b[0m\u001b[0;34m(\u001b[0m\u001b[0;34m)\u001b[0m\u001b[0;34m:\u001b[0m\u001b[0;34m\u001b[0m\u001b[0;34m\u001b[0m\u001b[0m\n\u001b[0;32m----> 2\u001b[0;31m   \u001b[0ma\u001b[0m\u001b[0;34m=\u001b[0m\u001b[0mint\u001b[0m\u001b[0;34m(\u001b[0m\u001b[0minput\u001b[0m\u001b[0;34m(\u001b[0m\u001b[0;34m)\u001b[0m\u001b[0;34m)\u001b[0m\u001b[0;34m\u001b[0m\u001b[0;34m\u001b[0m\u001b[0m\n\u001b[0m\u001b[1;32m      3\u001b[0m   \u001b[0;32mreturn\u001b[0m \u001b[0ma\u001b[0m\u001b[0;34m\u001b[0m\u001b[0;34m\u001b[0m\u001b[0m\n",
            "\u001b[0;31mValueError\u001b[0m: invalid literal for int() with base 10: 'ckbkavc'"
          ]
        }
      ]
    },
    {
      "cell_type": "code",
      "source": [
        "def askint():\n",
        "  try:\n",
        "   a=int(input())\n",
        "   return a\n",
        "  except Exception as e:\n",
        "    print(e)"
      ],
      "metadata": {
        "id": "ljxuLo2HbJtL"
      },
      "execution_count": null,
      "outputs": []
    },
    {
      "cell_type": "code",
      "source": [
        "askint()"
      ],
      "metadata": {
        "colab": {
          "base_uri": "https://localhost:8080/"
        },
        "id": "TCFuHH-HbYAB",
        "outputId": "e3eb0a29-2c4f-4ac2-a08a-3607346009c8"
      },
      "execution_count": null,
      "outputs": [
        {
          "output_type": "stream",
          "name": "stdout",
          "text": [
            "kbckb\n",
            "invalid literal for int() with base 10: 'kbckb'\n"
          ]
        }
      ]
    },
    {
      "cell_type": "code",
      "source": [
        "def fun1():\n",
        "  flag=True\n",
        "  while flag:\n",
        "    try:\n",
        "      a=int(input(\"enter the int\"))\n",
        "      if type(a)==int:\n",
        "        return \"yes u have entered correct data\"\n",
        "        flag=False\n",
        "    except Exception as e:\n",
        "      print(\"not enter int\")"
      ],
      "metadata": {
        "id": "dP384Z5ThOeS"
      },
      "execution_count": 3,
      "outputs": []
    },
    {
      "cell_type": "code",
      "source": [
        "fun1()"
      ],
      "metadata": {
        "id": "PWF5hPPYiHeh",
        "colab": {
          "base_uri": "https://localhost:8080/",
          "height": 157
        },
        "outputId": "b61e7578-61ae-437b-f571-552a19115747"
      },
      "execution_count": 4,
      "outputs": [
        {
          "name": "stdout",
          "output_type": "stream",
          "text": [
            "enter the intkhl\n",
            "not enter int\n",
            "enter the intln;l\n",
            "not enter int\n",
            "enter the intlnlks\n",
            "not enter int\n",
            "enter the int2\n"
          ]
        },
        {
          "output_type": "execute_result",
          "data": {
            "text/plain": [
              "'yes u have entered correct data'"
            ],
            "application/vnd.google.colaboratory.intrinsic+json": {
              "type": "string"
            }
          },
          "metadata": {},
          "execution_count": 4
        }
      ]
    },
    {
      "cell_type": "code",
      "source": [
        "\n",
        "def getqint():\n",
        "  i=1\n",
        "  while(i>=0):\n",
        "      try:\n",
        "        a=input()\n",
        "        if type(a)==int:\n",
        "          return \"correct\"\n",
        "          i=i+1\n",
        "        else:\n",
        "          i=0\n",
        "      except Exception as e:\n",
        "        print(e)\n",
        "#need to check this bug"
      ],
      "metadata": {
        "id": "7TzjFQp6iIeS"
      },
      "execution_count": 17,
      "outputs": []
    },
    {
      "cell_type": "code",
      "source": [
        "def integer():\n",
        "  while True:\n",
        "    try:\n",
        "      x=int(input())\n",
        "      break\n",
        "    except ValueError as e:\n",
        "      print(e)"
      ],
      "metadata": {
        "id": "5pXdHfZpFQeB"
      },
      "execution_count": 18,
      "outputs": []
    },
    {
      "cell_type": "code",
      "source": [
        "integer()"
      ],
      "metadata": {
        "colab": {
          "base_uri": "https://localhost:8080/"
        },
        "id": "-Rfcrx6zGbYf",
        "outputId": "3951bec9-61cf-436e-9080-9c317c47e1cd"
      },
      "execution_count": 20,
      "outputs": [
        {
          "name": "stdout",
          "output_type": "stream",
          "text": [
            "sgsg\n",
            "invalid literal for int() with base 10: 'sgsg'\n",
            "kjjsk\n",
            "invalid literal for int() with base 10: 'kjjsk'\n",
            "2\n"
          ]
        }
      ]
    },
    {
      "cell_type": "code",
      "source": [
        "a=5/10"
      ],
      "metadata": {
        "id": "jY7n4aSTGc6W"
      },
      "execution_count": 21,
      "outputs": []
    },
    {
      "cell_type": "code",
      "source": [
        "5/0"
      ],
      "metadata": {
        "colab": {
          "base_uri": "https://localhost:8080/",
          "height": 166
        },
        "id": "8KJsblq0HON0",
        "outputId": "23e941cd-39ec-41ba-8e65-117655c06e99"
      },
      "execution_count": 22,
      "outputs": [
        {
          "output_type": "error",
          "ename": "ZeroDivisionError",
          "evalue": "ignored",
          "traceback": [
            "\u001b[0;31m---------------------------------------------------------------------------\u001b[0m",
            "\u001b[0;31mZeroDivisionError\u001b[0m                         Traceback (most recent call last)",
            "\u001b[0;32m<ipython-input-22-0106664d39e8>\u001b[0m in \u001b[0;36m<module>\u001b[0;34m\u001b[0m\n\u001b[0;32m----> 1\u001b[0;31m \u001b[0;36m5\u001b[0m\u001b[0;34m/\u001b[0m\u001b[0;36m0\u001b[0m\u001b[0;34m\u001b[0m\u001b[0;34m\u001b[0m\u001b[0m\n\u001b[0m",
            "\u001b[0;31mZeroDivisionError\u001b[0m: division by zero"
          ]
        }
      ]
    },
    {
      "cell_type": "code",
      "source": [
        "try:\n",
        "  5/0\n",
        "except ZeroDivisionError as e:\n",
        "  print(e)"
      ],
      "metadata": {
        "colab": {
          "base_uri": "https://localhost:8080/"
        },
        "id": "qZ4ypRxXHPao",
        "outputId": "fbc3fdbf-1436-4ef3-99d6-6ce85855875c"
      },
      "execution_count": 24,
      "outputs": [
        {
          "output_type": "stream",
          "name": "stdout",
          "text": [
            "division by zero\n"
          ]
        }
      ]
    },
    {
      "cell_type": "code",
      "source": [
        "#our custom Exception"
      ],
      "metadata": {
        "id": "QNGXjrGdHcAX"
      },
      "execution_count": 26,
      "outputs": []
    },
    {
      "cell_type": "code",
      "source": [
        "def test(a):\n",
        "  if a<0:\n",
        "    raise Exception(a)\n",
        "  return a"
      ],
      "metadata": {
        "id": "MvUtGkqzHixE"
      },
      "execution_count": 27,
      "outputs": []
    },
    {
      "cell_type": "code",
      "source": [
        "test(-2)"
      ],
      "metadata": {
        "colab": {
          "base_uri": "https://localhost:8080/",
          "height": 270
        },
        "id": "dTUJGyHpHuQd",
        "outputId": "ee2e0029-3102-47ab-c0a9-5357050fc81e"
      },
      "execution_count": 28,
      "outputs": [
        {
          "output_type": "error",
          "ename": "Exception",
          "evalue": "ignored",
          "traceback": [
            "\u001b[0;31m---------------------------------------------------------------------------\u001b[0m",
            "\u001b[0;31mException\u001b[0m                                 Traceback (most recent call last)",
            "\u001b[0;32m<ipython-input-28-8a8a51a88508>\u001b[0m in \u001b[0;36m<module>\u001b[0;34m\u001b[0m\n\u001b[0;32m----> 1\u001b[0;31m \u001b[0mtest\u001b[0m\u001b[0;34m(\u001b[0m\u001b[0;34m-\u001b[0m\u001b[0;36m2\u001b[0m\u001b[0;34m)\u001b[0m\u001b[0;34m\u001b[0m\u001b[0;34m\u001b[0m\u001b[0m\n\u001b[0m",
            "\u001b[0;32m<ipython-input-27-c1ebd44f377a>\u001b[0m in \u001b[0;36mtest\u001b[0;34m(a)\u001b[0m\n\u001b[1;32m      1\u001b[0m \u001b[0;32mdef\u001b[0m \u001b[0mtest\u001b[0m\u001b[0;34m(\u001b[0m\u001b[0ma\u001b[0m\u001b[0;34m)\u001b[0m\u001b[0;34m:\u001b[0m\u001b[0;34m\u001b[0m\u001b[0;34m\u001b[0m\u001b[0m\n\u001b[1;32m      2\u001b[0m   \u001b[0;32mif\u001b[0m \u001b[0ma\u001b[0m\u001b[0;34m<\u001b[0m\u001b[0;36m0\u001b[0m\u001b[0;34m:\u001b[0m\u001b[0;34m\u001b[0m\u001b[0;34m\u001b[0m\u001b[0m\n\u001b[0;32m----> 3\u001b[0;31m     \u001b[0;32mraise\u001b[0m \u001b[0mException\u001b[0m\u001b[0;34m(\u001b[0m\u001b[0ma\u001b[0m\u001b[0;34m)\u001b[0m\u001b[0;34m\u001b[0m\u001b[0;34m\u001b[0m\u001b[0m\n\u001b[0m\u001b[1;32m      4\u001b[0m   \u001b[0;32mreturn\u001b[0m \u001b[0ma\u001b[0m\u001b[0;34m\u001b[0m\u001b[0;34m\u001b[0m\u001b[0m\n",
            "\u001b[0;31mException\u001b[0m: -2"
          ]
        }
      ]
    },
    {
      "cell_type": "code",
      "source": [
        "test(2)"
      ],
      "metadata": {
        "colab": {
          "base_uri": "https://localhost:8080/"
        },
        "id": "bGIqbdKwHxY2",
        "outputId": "7b574643-3823-4ba9-c859-77f79c9d030f"
      },
      "execution_count": 29,
      "outputs": [
        {
          "output_type": "execute_result",
          "data": {
            "text/plain": [
              "2"
            ]
          },
          "metadata": {},
          "execution_count": 29
        }
      ]
    },
    {
      "cell_type": "code",
      "source": [
        "#raise keyword to create new exception"
      ],
      "metadata": {
        "id": "ZU6bmnpwH0aV"
      },
      "execution_count": 30,
      "outputs": []
    },
    {
      "cell_type": "code",
      "source": [
        "def test(a):\n",
        "  if a<0:\n",
        "    raise Exception(\"you have given negative msg\")\n",
        "  return a"
      ],
      "metadata": {
        "id": "XQeBHtunIEfo"
      },
      "execution_count": 31,
      "outputs": []
    },
    {
      "cell_type": "code",
      "source": [
        "test(-2)"
      ],
      "metadata": {
        "colab": {
          "base_uri": "https://localhost:8080/",
          "height": 270
        },
        "id": "VDv64AZMIPME",
        "outputId": "2423f3fc-9dfa-4ba5-90fb-30ff57f35adf"
      },
      "execution_count": 32,
      "outputs": [
        {
          "output_type": "error",
          "ename": "Exception",
          "evalue": "ignored",
          "traceback": [
            "\u001b[0;31m---------------------------------------------------------------------------\u001b[0m",
            "\u001b[0;31mException\u001b[0m                                 Traceback (most recent call last)",
            "\u001b[0;32m<ipython-input-32-8a8a51a88508>\u001b[0m in \u001b[0;36m<module>\u001b[0;34m\u001b[0m\n\u001b[0;32m----> 1\u001b[0;31m \u001b[0mtest\u001b[0m\u001b[0;34m(\u001b[0m\u001b[0;34m-\u001b[0m\u001b[0;36m2\u001b[0m\u001b[0;34m)\u001b[0m\u001b[0;34m\u001b[0m\u001b[0;34m\u001b[0m\u001b[0m\n\u001b[0m",
            "\u001b[0;32m<ipython-input-31-6e302ef14e9c>\u001b[0m in \u001b[0;36mtest\u001b[0;34m(a)\u001b[0m\n\u001b[1;32m      1\u001b[0m \u001b[0;32mdef\u001b[0m \u001b[0mtest\u001b[0m\u001b[0;34m(\u001b[0m\u001b[0ma\u001b[0m\u001b[0;34m)\u001b[0m\u001b[0;34m:\u001b[0m\u001b[0;34m\u001b[0m\u001b[0;34m\u001b[0m\u001b[0m\n\u001b[1;32m      2\u001b[0m   \u001b[0;32mif\u001b[0m \u001b[0ma\u001b[0m\u001b[0;34m<\u001b[0m\u001b[0;36m0\u001b[0m\u001b[0;34m:\u001b[0m\u001b[0;34m\u001b[0m\u001b[0;34m\u001b[0m\u001b[0m\n\u001b[0;32m----> 3\u001b[0;31m     \u001b[0;32mraise\u001b[0m \u001b[0mException\u001b[0m\u001b[0;34m(\u001b[0m\u001b[0;34m\"you have given negative msg\"\u001b[0m\u001b[0;34m)\u001b[0m\u001b[0;34m\u001b[0m\u001b[0;34m\u001b[0m\u001b[0m\n\u001b[0m\u001b[1;32m      4\u001b[0m   \u001b[0;32mreturn\u001b[0m \u001b[0ma\u001b[0m\u001b[0;34m\u001b[0m\u001b[0;34m\u001b[0m\u001b[0m\n",
            "\u001b[0;31mException\u001b[0m: you have given negative msg"
          ]
        }
      ]
    },
    {
      "cell_type": "code",
      "source": [
        "def test(a):\n",
        "  if a<0:\n",
        "    raise ZeroDivisionError(\"you have given negative msg\")\n",
        "  return a"
      ],
      "metadata": {
        "id": "GylX47pUIRAJ"
      },
      "execution_count": 33,
      "outputs": []
    },
    {
      "cell_type": "code",
      "source": [
        "test(-4)"
      ],
      "metadata": {
        "colab": {
          "base_uri": "https://localhost:8080/",
          "height": 270
        },
        "id": "bnubjkLOIhQs",
        "outputId": "7dffe678-1e1c-4e57-8091-1bbeabff5349"
      },
      "execution_count": 34,
      "outputs": [
        {
          "output_type": "error",
          "ename": "ZeroDivisionError",
          "evalue": "ignored",
          "traceback": [
            "\u001b[0;31m---------------------------------------------------------------------------\u001b[0m",
            "\u001b[0;31mZeroDivisionError\u001b[0m                         Traceback (most recent call last)",
            "\u001b[0;32m<ipython-input-34-d2bb95962d49>\u001b[0m in \u001b[0;36m<module>\u001b[0;34m\u001b[0m\n\u001b[0;32m----> 1\u001b[0;31m \u001b[0mtest\u001b[0m\u001b[0;34m(\u001b[0m\u001b[0;34m-\u001b[0m\u001b[0;36m4\u001b[0m\u001b[0;34m)\u001b[0m\u001b[0;34m\u001b[0m\u001b[0;34m\u001b[0m\u001b[0m\n\u001b[0m",
            "\u001b[0;32m<ipython-input-33-ece4358b09e7>\u001b[0m in \u001b[0;36mtest\u001b[0;34m(a)\u001b[0m\n\u001b[1;32m      1\u001b[0m \u001b[0;32mdef\u001b[0m \u001b[0mtest\u001b[0m\u001b[0;34m(\u001b[0m\u001b[0ma\u001b[0m\u001b[0;34m)\u001b[0m\u001b[0;34m:\u001b[0m\u001b[0;34m\u001b[0m\u001b[0;34m\u001b[0m\u001b[0m\n\u001b[1;32m      2\u001b[0m   \u001b[0;32mif\u001b[0m \u001b[0ma\u001b[0m\u001b[0;34m<\u001b[0m\u001b[0;36m0\u001b[0m\u001b[0;34m:\u001b[0m\u001b[0;34m\u001b[0m\u001b[0;34m\u001b[0m\u001b[0m\n\u001b[0;32m----> 3\u001b[0;31m     \u001b[0;32mraise\u001b[0m \u001b[0mZeroDivisionError\u001b[0m\u001b[0;34m(\u001b[0m\u001b[0;34m\"you have given negative msg\"\u001b[0m\u001b[0;34m)\u001b[0m\u001b[0;34m\u001b[0m\u001b[0;34m\u001b[0m\u001b[0m\n\u001b[0m\u001b[1;32m      4\u001b[0m   \u001b[0;32mreturn\u001b[0m \u001b[0ma\u001b[0m\u001b[0;34m\u001b[0m\u001b[0;34m\u001b[0m\u001b[0m\n",
            "\u001b[0;31mZeroDivisionError\u001b[0m: you have given negative msg"
          ]
        }
      ]
    },
    {
      "cell_type": "code",
      "source": [
        "#for error ppl created owm class with messages"
      ],
      "metadata": {
        "id": "pSZGuU7iIkno"
      },
      "execution_count": 35,
      "outputs": []
    },
    {
      "cell_type": "code",
      "source": [
        "try:\n",
        "  a=input()\n",
        "  test(a)\n",
        "except Exception as e:\n",
        "  print(\"exception\")"
      ],
      "metadata": {
        "colab": {
          "base_uri": "https://localhost:8080/"
        },
        "id": "Vvs7scN3JPV_",
        "outputId": "cd9aec31-28b1-4f46-cf16-cfea9fb03a95"
      },
      "execution_count": 37,
      "outputs": [
        {
          "output_type": "stream",
          "name": "stdout",
          "text": [
            "-4\n",
            "exception\n"
          ]
        }
      ]
    },
    {
      "cell_type": "code",
      "source": [
        "#customer class we can learn when we do oops class"
      ],
      "metadata": {
        "id": "3mZ2UTa3J05Y"
      },
      "execution_count": 38,
      "outputs": []
    },
    {
      "cell_type": "code",
      "source": [
        "#logging"
      ],
      "metadata": {
        "id": "nft7JWrRKlkI"
      },
      "execution_count": 39,
      "outputs": []
    },
    {
      "cell_type": "code",
      "source": [
        "print(\"jfcjavkn\")"
      ],
      "metadata": {
        "colab": {
          "base_uri": "https://localhost:8080/"
        },
        "id": "znelmxRmM_Ye",
        "outputId": "b7bff792-c560-4cf0-fa4e-7f197359acca"
      },
      "execution_count": 40,
      "outputs": [
        {
          "output_type": "stream",
          "name": "stdout",
          "text": [
            "jfcjavkn\n"
          ]
        }
      ]
    },
    {
      "cell_type": "code",
      "source": [
        "#we are using logger insteated of pint what is happening"
      ],
      "metadata": {
        "id": "HNncELNmNGgC"
      },
      "execution_count": 41,
      "outputs": []
    },
    {
      "cell_type": "code",
      "source": [
        "#logging is help to keep track of my errors"
      ],
      "metadata": {
        "id": "cxRPWw6tNVLr"
      },
      "execution_count": 42,
      "outputs": []
    },
    {
      "cell_type": "code",
      "source": [
        "#this will help for future investigation"
      ],
      "metadata": {
        "id": "PEsvWPwsN7YF"
      },
      "execution_count": 43,
      "outputs": []
    },
    {
      "cell_type": "code",
      "source": [
        "import logging"
      ],
      "metadata": {
        "id": "owVdsI-EObmu"
      },
      "execution_count": 3,
      "outputs": []
    },
    {
      "cell_type": "code",
      "source": [
        "logging.basicConfig(filename=\"test.log\")"
      ],
      "metadata": {
        "id": "XoxJH2LAQa-B"
      },
      "execution_count": 4,
      "outputs": []
    },
    {
      "cell_type": "code",
      "source": [
        "!ls"
      ],
      "metadata": {
        "colab": {
          "base_uri": "https://localhost:8080/"
        },
        "id": "w26LY0nrRE_2",
        "outputId": "8e0285a4-ee35-4c00-c3e9-dedc0188ebef"
      },
      "execution_count": 46,
      "outputs": [
        {
          "output_type": "stream",
          "name": "stdout",
          "text": [
            "sample_data\n"
          ]
        }
      ]
    },
    {
      "cell_type": "code",
      "source": [
        "#if we created in jupyter that will create this file in same directory"
      ],
      "metadata": {
        "id": "IL4YfIFmRHDv"
      },
      "execution_count": 47,
      "outputs": []
    },
    {
      "cell_type": "code",
      "source": [
        "pwd()"
      ],
      "metadata": {
        "colab": {
          "base_uri": "https://localhost:8080/",
          "height": 35
        },
        "id": "3UhZh6EnRf4D",
        "outputId": "32582762-8f60-4165-9161-d4d4e3b7669a"
      },
      "execution_count": 48,
      "outputs": [
        {
          "output_type": "execute_result",
          "data": {
            "text/plain": [
              "'/content'"
            ],
            "application/vnd.google.colaboratory.intrinsic+json": {
              "type": "string"
            }
          },
          "metadata": {},
          "execution_count": 48
        }
      ]
    },
    {
      "cell_type": "code",
      "source": [
        "%ls"
      ],
      "metadata": {
        "colab": {
          "base_uri": "https://localhost:8080/"
        },
        "id": "e1Ckkz8bRiBy",
        "outputId": "e5485262-fbb0-4ed2-a773-afbd25705b68"
      },
      "execution_count": 49,
      "outputs": [
        {
          "output_type": "stream",
          "name": "stdout",
          "text": [
            "\u001b[0m\u001b[01;34msample_data\u001b[0m/\n"
          ]
        }
      ]
    },
    {
      "cell_type": "code",
      "source": [
        "\"\"\"\n",
        "DEBUG\n",
        "INFO\n",
        "WARNING\n",
        "ERROR\n",
        "CRITICAL\n",
        "\"\"\""
      ],
      "metadata": {
        "colab": {
          "base_uri": "https://localhost:8080/",
          "height": 35
        },
        "id": "nhmRDgLxRnkR",
        "outputId": "3ac0f57a-22c0-4919-85d1-0ba1b9202cb8"
      },
      "execution_count": 50,
      "outputs": [
        {
          "output_type": "execute_result",
          "data": {
            "text/plain": [
              "'\\nDEBUG\\nINFO\\nWARNING\\nERROR\\nCRITICAL\\n'"
            ],
            "application/vnd.google.colaboratory.intrinsic+json": {
              "type": "string"
            }
          },
          "metadata": {},
          "execution_count": 50
        }
      ]
    },
    {
      "cell_type": "code",
      "source": [
        "logging.info(\"this is my info log\")\n",
        "logging.warning(\"this is warning log\")\n",
        "logging.error(\"this is error log\")"
      ],
      "metadata": {
        "colab": {
          "base_uri": "https://localhost:8080/"
        },
        "id": "qc6RS9vTR4-Z",
        "outputId": "915e8293-adee-4ed5-ba2d-659bfde09ba5"
      },
      "execution_count": 52,
      "outputs": [
        {
          "output_type": "stream",
          "name": "stderr",
          "text": [
            "WARNING:root:this is warning log\n",
            "ERROR:root:this is error log\n"
          ]
        }
      ]
    },
    {
      "cell_type": "code",
      "source": [
        "logging.shutdown()"
      ],
      "metadata": {
        "id": "bjUkcE88SB3g"
      },
      "execution_count": 53,
      "outputs": []
    },
    {
      "cell_type": "code",
      "source": [
        "#it will shut down the logging"
      ],
      "metadata": {
        "id": "mUXaSHbTSW9t"
      },
      "execution_count": 54,
      "outputs": []
    },
    {
      "cell_type": "code",
      "source": [
        "#info log is not reflecting in my system"
      ],
      "metadata": {
        "id": "__k26g2SSaxS"
      },
      "execution_count": 56,
      "outputs": []
    },
    {
      "cell_type": "code",
      "source": [
        "logging.basicConfig(filename=\"test.log\",level=logging.INFO)"
      ],
      "metadata": {
        "colab": {
          "base_uri": "https://localhost:8080/",
          "height": 166
        },
        "id": "mRE9aBPkSdsQ",
        "outputId": "f564a5f8-ff9f-49a6-db92-9178c73c628b"
      },
      "execution_count": 2,
      "outputs": [
        {
          "output_type": "error",
          "ename": "NameError",
          "evalue": "ignored",
          "traceback": [
            "\u001b[0;31m---------------------------------------------------------------------------\u001b[0m",
            "\u001b[0;31mNameError\u001b[0m                                 Traceback (most recent call last)",
            "\u001b[0;32m<ipython-input-2-3dbffd9615b4>\u001b[0m in \u001b[0;36m<module>\u001b[0;34m\u001b[0m\n\u001b[0;32m----> 1\u001b[0;31m \u001b[0mlogging\u001b[0m\u001b[0;34m.\u001b[0m\u001b[0mbasicConfig\u001b[0m\u001b[0;34m(\u001b[0m\u001b[0mfilename\u001b[0m\u001b[0;34m=\u001b[0m\u001b[0;34m\"test.log\"\u001b[0m\u001b[0;34m,\u001b[0m\u001b[0mlevel\u001b[0m\u001b[0;34m=\u001b[0m\u001b[0mlogging\u001b[0m\u001b[0;34m.\u001b[0m\u001b[0mINFO\u001b[0m\u001b[0;34m)\u001b[0m\u001b[0;34m\u001b[0m\u001b[0;34m\u001b[0m\u001b[0m\n\u001b[0m",
            "\u001b[0;31mNameError\u001b[0m: name 'logging' is not defined"
          ]
        }
      ]
    },
    {
      "cell_type": "code",
      "source": [
        "logging.info(\"this is my info log\")\n",
        "logging.warning(\"this is warning log\")\n",
        "logging.error(\"this is error log\")"
      ],
      "metadata": {
        "colab": {
          "base_uri": "https://localhost:8080/"
        },
        "id": "s9ezFZC4S_hk",
        "outputId": "ba4c85b9-2bf9-4ceb-a595-c2c6cd65e90b"
      },
      "execution_count": 5,
      "outputs": [
        {
          "output_type": "stream",
          "name": "stderr",
          "text": [
            "WARNING:root:this is warning log\n",
            "ERROR:root:this is error log\n"
          ]
        }
      ]
    },
    {
      "cell_type": "code",
      "source": [
        "#after restart the kernal info message also will reflect"
      ],
      "metadata": {
        "id": "FGKBB-VdTCmz"
      },
      "execution_count": 6,
      "outputs": []
    },
    {
      "cell_type": "code",
      "source": [
        "logging.basicConfig(filename=\"test2.log\",level=logging.DEBUG,format='%(acstime)s%(levelname)s %(message)s')"
      ],
      "metadata": {
        "id": "nQ9aBcTmTWt2"
      },
      "execution_count": 7,
      "outputs": []
    },
    {
      "cell_type": "code",
      "source": [
        "logging.info(\"this is my info log\")\n",
        "logging.warning(\"this is my warning log\")\n",
        "logging.debug(\"this is my debug log\")"
      ],
      "metadata": {
        "colab": {
          "base_uri": "https://localhost:8080/"
        },
        "id": "RmPklBPdTqFp",
        "outputId": "bc350088-12a7-4772-d250-184e14acc7c8"
      },
      "execution_count": 8,
      "outputs": [
        {
          "output_type": "stream",
          "name": "stderr",
          "text": [
            "WARNING:root:this is my warning log\n"
          ]
        }
      ]
    },
    {
      "cell_type": "code",
      "source": [
        "logging.basicConfig(filename=\"test2.log\",level=logging.error,format='%(acstime)s%(levelname)s %(message)s')"
      ],
      "metadata": {
        "id": "8aEV7VQAUlVb"
      },
      "execution_count": 9,
      "outputs": []
    },
    {
      "cell_type": "code",
      "source": [
        "logging.info(\"this is my info log\")\n",
        "logging.warning(\"this is my warning log\")\n",
        "logging.debug(\"this is my debug log\")\n",
        "logging.error(\"this is my error log\")"
      ],
      "metadata": {
        "colab": {
          "base_uri": "https://localhost:8080/"
        },
        "id": "ON1y2B0PVthY",
        "outputId": "1632125b-8569-4659-fdbf-c537f18fbe79"
      },
      "execution_count": 10,
      "outputs": [
        {
          "output_type": "stream",
          "name": "stderr",
          "text": [
            "WARNING:root:this is my warning log\n",
            "ERROR:root:this is my error log\n"
          ]
        }
      ]
    },
    {
      "cell_type": "code",
      "source": [
        "logging.basicConfig(filename=\"test2.log\",level=logging.info,format='%(acstime)s%(levelname)s %(message)s')"
      ],
      "metadata": {
        "id": "1RV_wIr_P75a"
      },
      "execution_count": 11,
      "outputs": []
    },
    {
      "cell_type": "code",
      "source": [
        "logging.info(\"this is my info log\")\n",
        "logging.warning(\"this is my warning log\")\n",
        "logging.debug(\"this is my debug log\")\n",
        "logging.error(\"this is my error log\")"
      ],
      "metadata": {
        "colab": {
          "base_uri": "https://localhost:8080/"
        },
        "id": "U1ZEQwHfQPQH",
        "outputId": "40f2329a-7339-47ef-dedd-bef94ec86e67"
      },
      "execution_count": 12,
      "outputs": [
        {
          "output_type": "stream",
          "name": "stderr",
          "text": [
            "WARNING:root:this is my warning log\n",
            "ERROR:root:this is my error log\n"
          ]
        }
      ]
    },
    {
      "cell_type": "code",
      "source": [
        "#if we give info all the above logges will dispaly"
      ],
      "metadata": {
        "id": "LFhkcT5NQSYU"
      },
      "execution_count": 13,
      "outputs": []
    },
    {
      "cell_type": "code",
      "source": [
        "\"\"\"Error\n",
        "Warning\n",
        "info\n",
        "debug\"\"\""
      ],
      "metadata": {
        "colab": {
          "base_uri": "https://localhost:8080/",
          "height": 35
        },
        "id": "tr_fAL-FQj4y",
        "outputId": "1dc453c4-f830-4e4f-cd3c-93e0a4ca1e50"
      },
      "execution_count": 14,
      "outputs": [
        {
          "output_type": "execute_result",
          "data": {
            "text/plain": [
              "'Error\\nWarning\\ninfo\\ndebug'"
            ],
            "application/vnd.google.colaboratory.intrinsic+json": {
              "type": "string"
            }
          },
          "metadata": {},
          "execution_count": 14
        }
      ]
    },
    {
      "cell_type": "code",
      "source": [
        "import logging"
      ],
      "metadata": {
        "id": "2SpBSIrXXOBe"
      },
      "execution_count": 15,
      "outputs": []
    },
    {
      "cell_type": "code",
      "source": [
        "logging.basicConfig(filename=\"test2.log\",level=logging.DEBUG,format='%(acstime)s%(levelname)s %(message)s')"
      ],
      "metadata": {
        "id": "MGx82TK3YPWd"
      },
      "execution_count": 17,
      "outputs": []
    },
    {
      "cell_type": "code",
      "source": [
        "def divbyzero(a,b):\n",
        "  \"\"\" div by zer0\"\"\"\n",
        "  logging.info(\"this is the start of my code im trying to enter %s and %s\",a,b)\n",
        "  try:\n",
        "    div=a/b\n",
        "    logging.info(\"executed succ\")\n",
        "  except Exception as e:\n",
        "    logging.error(\"error has happend\")\n",
        "    logging.exception(\"Exception occured\"+str(e))\n"
      ],
      "metadata": {
        "id": "piMot5yCYShB"
      },
      "execution_count": 18,
      "outputs": []
    },
    {
      "cell_type": "code",
      "source": [
        "divbyzero(4,5)"
      ],
      "metadata": {
        "id": "IHbNNd8EZZmv"
      },
      "execution_count": 22,
      "outputs": []
    },
    {
      "cell_type": "code",
      "source": [
        "divbyzero(4,0)"
      ],
      "metadata": {
        "colab": {
          "base_uri": "https://localhost:8080/"
        },
        "id": "d6Dv8u1LZkQ6",
        "outputId": "0a187e08-8cc6-42de-b66b-54abf415cbb1"
      },
      "execution_count": 23,
      "outputs": [
        {
          "output_type": "stream",
          "name": "stderr",
          "text": [
            "ERROR:root:error has happend\n",
            "ERROR:root:Exception occureddivision by zero\n",
            "Traceback (most recent call last):\n",
            "  File \"<ipython-input-18-18ece306b15b>\", line 5, in divbyzero\n",
            "    div=a/b\n",
            "ZeroDivisionError: division by zero\n"
          ]
        }
      ]
    },
    {
      "cell_type": "code",
      "source": [],
      "metadata": {
        "id": "IU2r2X23aJRB"
      },
      "execution_count": null,
      "outputs": []
    }
  ]
}